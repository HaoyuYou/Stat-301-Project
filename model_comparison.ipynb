{
 "cells": [
  {
   "cell_type": "markdown",
   "id": "3c186156-05c6-47f3-affb-f1d9ea6b5a7a",
   "metadata": {},
   "source": [
    "# Data Splitting"
   ]
  },
  {
   "cell_type": "code",
   "execution_count": 1,
   "id": "75a51468-678c-4765-b8cd-5ce3133f438d",
   "metadata": {},
   "outputs": [
    {
     "name": "stderr",
     "output_type": "stream",
     "text": [
      "── \u001b[1mAttaching core tidyverse packages\u001b[22m ──────────────────────── tidyverse 2.0.0 ──\n",
      "\u001b[32m✔\u001b[39m \u001b[34mdplyr    \u001b[39m 1.1.4     \u001b[32m✔\u001b[39m \u001b[34mreadr    \u001b[39m 2.1.5\n",
      "\u001b[32m✔\u001b[39m \u001b[34mforcats  \u001b[39m 1.0.0     \u001b[32m✔\u001b[39m \u001b[34mstringr  \u001b[39m 1.5.1\n",
      "\u001b[32m✔\u001b[39m \u001b[34mggplot2  \u001b[39m 3.5.1     \u001b[32m✔\u001b[39m \u001b[34mtibble   \u001b[39m 3.2.1\n",
      "\u001b[32m✔\u001b[39m \u001b[34mlubridate\u001b[39m 1.9.3     \u001b[32m✔\u001b[39m \u001b[34mtidyr    \u001b[39m 1.3.1\n",
      "\u001b[32m✔\u001b[39m \u001b[34mpurrr    \u001b[39m 1.0.2     \n",
      "── \u001b[1mConflicts\u001b[22m ────────────────────────────────────────── tidyverse_conflicts() ──\n",
      "\u001b[31m✖\u001b[39m \u001b[34mdplyr\u001b[39m::\u001b[32mfilter()\u001b[39m masks \u001b[34mstats\u001b[39m::filter()\n",
      "\u001b[31m✖\u001b[39m \u001b[34mdplyr\u001b[39m::\u001b[32mlag()\u001b[39m    masks \u001b[34mstats\u001b[39m::lag()\n",
      "\u001b[36mℹ\u001b[39m Use the conflicted package (\u001b[3m\u001b[34m<http://conflicted.r-lib.org/>\u001b[39m\u001b[23m) to force all conflicts to become errors\n",
      "\n",
      "Attaching package: ‘gridExtra’\n",
      "\n",
      "\n",
      "The following object is masked from ‘package:dplyr’:\n",
      "\n",
      "    combine\n",
      "\n",
      "\n",
      "Loading required package: lattice\n",
      "\n",
      "\n",
      "Attaching package: ‘caret’\n",
      "\n",
      "\n",
      "The following object is masked from ‘package:purrr’:\n",
      "\n",
      "    lift\n",
      "\n",
      "\n",
      "Type 'citation(\"pROC\")' for a citation.\n",
      "\n",
      "\n",
      "Attaching package: ‘pROC’\n",
      "\n",
      "\n",
      "The following objects are masked from ‘package:stats’:\n",
      "\n",
      "    cov, smooth, var\n",
      "\n",
      "\n",
      "\n",
      "Attaching package: ‘boot’\n",
      "\n",
      "\n",
      "The following object is masked from ‘package:lattice’:\n",
      "\n",
      "    melanoma\n",
      "\n",
      "\n",
      "Loading required package: Matrix\n",
      "\n",
      "\n",
      "Attaching package: ‘Matrix’\n",
      "\n",
      "\n",
      "The following objects are masked from ‘package:tidyr’:\n",
      "\n",
      "    expand, pack, unpack\n",
      "\n",
      "\n",
      "Loaded glmnet 4.1-8\n",
      "\n",
      "\n",
      "Attaching package: ‘faraway’\n",
      "\n",
      "\n",
      "The following objects are masked from ‘package:boot’:\n",
      "\n",
      "    logit, melanoma\n",
      "\n",
      "\n",
      "The following object is masked from ‘package:lattice’:\n",
      "\n",
      "    melanoma\n",
      "\n",
      "\n",
      "\n",
      "Attaching package: ‘mltools’\n",
      "\n",
      "\n",
      "The following object is masked from ‘package:tidyr’:\n",
      "\n",
      "    replace_na\n",
      "\n",
      "\n"
     ]
    }
   ],
   "source": [
    "# Run this cell before continuing.\n",
    "library(tidyverse)\n",
    "library(repr)\n",
    "library(infer)\n",
    "library(gridExtra)\n",
    "library(caret)\n",
    "library(pROC)\n",
    "library(boot)\n",
    "library(glmnet)\n",
    "library(broom)\n",
    "library(leaps)\n",
    "library(repr)\n",
    "library(faraway)\n",
    "library(mltools)"
   ]
  },
  {
   "cell_type": "code",
   "execution_count": 2,
   "id": "359a745c-d144-42fd-801a-7c7aeae6a593",
   "metadata": {},
   "outputs": [
    {
     "name": "stderr",
     "output_type": "stream",
     "text": [
      "\u001b[1mRows: \u001b[22m\u001b[34m4653\u001b[39m \u001b[1mColumns: \u001b[22m\u001b[34m9\u001b[39m\n",
      "\u001b[36m──\u001b[39m \u001b[1mColumn specification\u001b[22m \u001b[36m────────────────────────────────────────────────────────\u001b[39m\n",
      "\u001b[1mDelimiter:\u001b[22m \",\"\n",
      "\u001b[31mchr\u001b[39m (4): Education, City, Gender, EverBenched\n",
      "\u001b[32mdbl\u001b[39m (5): JoiningYear, PaymentTier, Age, ExperienceInCurrentDomain, LeaveOrNot\n",
      "\n",
      "\u001b[36mℹ\u001b[39m Use `spec()` to retrieve the full column specification for this data.\n",
      "\u001b[36mℹ\u001b[39m Specify the column types or set `show_col_types = FALSE` to quiet this message.\n"
     ]
    },
    {
     "data": {
      "text/html": [
       "<table class=\"dataframe\">\n",
       "<caption>A tibble: 6 × 9</caption>\n",
       "<thead>\n",
       "\t<tr><th scope=col>Education</th><th scope=col>JoiningYear</th><th scope=col>City</th><th scope=col>PaymentTier</th><th scope=col>Age</th><th scope=col>Gender</th><th scope=col>EverBenched</th><th scope=col>ExperienceInCurrentDomain</th><th scope=col>LeaveOrNot</th></tr>\n",
       "\t<tr><th scope=col>&lt;chr&gt;</th><th scope=col>&lt;dbl&gt;</th><th scope=col>&lt;chr&gt;</th><th scope=col>&lt;fct&gt;</th><th scope=col>&lt;dbl&gt;</th><th scope=col>&lt;chr&gt;</th><th scope=col>&lt;chr&gt;</th><th scope=col>&lt;dbl&gt;</th><th scope=col>&lt;dbl&gt;</th></tr>\n",
       "</thead>\n",
       "<tbody>\n",
       "\t<tr><td>Bachelors</td><td>2017</td><td>Bangalore</td><td>3</td><td>34</td><td>Male  </td><td>No </td><td>0</td><td>0</td></tr>\n",
       "\t<tr><td>Bachelors</td><td>2013</td><td>Pune     </td><td>1</td><td>28</td><td>Female</td><td>No </td><td>3</td><td>1</td></tr>\n",
       "\t<tr><td>Bachelors</td><td>2014</td><td>New Delhi</td><td>3</td><td>38</td><td>Female</td><td>No </td><td>2</td><td>0</td></tr>\n",
       "\t<tr><td>Masters  </td><td>2016</td><td>Bangalore</td><td>3</td><td>27</td><td>Male  </td><td>No </td><td>5</td><td>1</td></tr>\n",
       "\t<tr><td>Masters  </td><td>2017</td><td>Pune     </td><td>3</td><td>24</td><td>Male  </td><td>Yes</td><td>2</td><td>1</td></tr>\n",
       "\t<tr><td>Bachelors</td><td>2016</td><td>Bangalore</td><td>3</td><td>22</td><td>Male  </td><td>No </td><td>0</td><td>0</td></tr>\n",
       "</tbody>\n",
       "</table>\n"
      ],
      "text/latex": [
       "A tibble: 6 × 9\n",
       "\\begin{tabular}{lllllllll}\n",
       " Education & JoiningYear & City & PaymentTier & Age & Gender & EverBenched & ExperienceInCurrentDomain & LeaveOrNot\\\\\n",
       " <chr> & <dbl> & <chr> & <fct> & <dbl> & <chr> & <chr> & <dbl> & <dbl>\\\\\n",
       "\\hline\n",
       "\t Bachelors & 2017 & Bangalore & 3 & 34 & Male   & No  & 0 & 0\\\\\n",
       "\t Bachelors & 2013 & Pune      & 1 & 28 & Female & No  & 3 & 1\\\\\n",
       "\t Bachelors & 2014 & New Delhi & 3 & 38 & Female & No  & 2 & 0\\\\\n",
       "\t Masters   & 2016 & Bangalore & 3 & 27 & Male   & No  & 5 & 1\\\\\n",
       "\t Masters   & 2017 & Pune      & 3 & 24 & Male   & Yes & 2 & 1\\\\\n",
       "\t Bachelors & 2016 & Bangalore & 3 & 22 & Male   & No  & 0 & 0\\\\\n",
       "\\end{tabular}\n"
      ],
      "text/markdown": [
       "\n",
       "A tibble: 6 × 9\n",
       "\n",
       "| Education &lt;chr&gt; | JoiningYear &lt;dbl&gt; | City &lt;chr&gt; | PaymentTier &lt;fct&gt; | Age &lt;dbl&gt; | Gender &lt;chr&gt; | EverBenched &lt;chr&gt; | ExperienceInCurrentDomain &lt;dbl&gt; | LeaveOrNot &lt;dbl&gt; |\n",
       "|---|---|---|---|---|---|---|---|---|\n",
       "| Bachelors | 2017 | Bangalore | 3 | 34 | Male   | No  | 0 | 0 |\n",
       "| Bachelors | 2013 | Pune      | 1 | 28 | Female | No  | 3 | 1 |\n",
       "| Bachelors | 2014 | New Delhi | 3 | 38 | Female | No  | 2 | 0 |\n",
       "| Masters   | 2016 | Bangalore | 3 | 27 | Male   | No  | 5 | 1 |\n",
       "| Masters   | 2017 | Pune      | 3 | 24 | Male   | Yes | 2 | 1 |\n",
       "| Bachelors | 2016 | Bangalore | 3 | 22 | Male   | No  | 0 | 0 |\n",
       "\n"
      ],
      "text/plain": [
       "  Education JoiningYear City      PaymentTier Age Gender EverBenched\n",
       "1 Bachelors 2017        Bangalore 3           34  Male   No         \n",
       "2 Bachelors 2013        Pune      1           28  Female No         \n",
       "3 Bachelors 2014        New Delhi 3           38  Female No         \n",
       "4 Masters   2016        Bangalore 3           27  Male   No         \n",
       "5 Masters   2017        Pune      3           24  Male   Yes        \n",
       "6 Bachelors 2016        Bangalore 3           22  Male   No         \n",
       "  ExperienceInCurrentDomain LeaveOrNot\n",
       "1 0                         0         \n",
       "2 3                         1         \n",
       "3 2                         0         \n",
       "4 5                         1         \n",
       "5 2                         1         \n",
       "6 0                         0         "
      ]
     },
     "metadata": {},
     "output_type": "display_data"
    }
   ],
   "source": [
    "set.seed(123)\n",
    "employee_dat <- read_csv(\"https://raw.githubusercontent.com/jtan29/stat-301-project/main/Employee.csv\")\n",
    "employee_dat <- employee_dat %>%\n",
    "mutate(PaymentTier = as.factor(PaymentTier))\n",
    "head(employee_dat)"
   ]
  },
  {
   "cell_type": "code",
   "execution_count": 3,
   "id": "bf019d34-0d3d-4e54-a1b9-cfcb941393b3",
   "metadata": {},
   "outputs": [
    {
     "data": {
      "text/html": [
       "<table class=\"dataframe\">\n",
       "<caption>A tibble: 5 × 9</caption>\n",
       "<thead>\n",
       "\t<tr><th scope=col>Education</th><th scope=col>JoiningYear</th><th scope=col>City</th><th scope=col>PaymentTier</th><th scope=col>Age</th><th scope=col>Gender</th><th scope=col>EverBenched</th><th scope=col>ExperienceInCurrentDomain</th><th scope=col>LeaveOrNot</th></tr>\n",
       "\t<tr><th scope=col>&lt;chr&gt;</th><th scope=col>&lt;dbl&gt;</th><th scope=col>&lt;chr&gt;</th><th scope=col>&lt;fct&gt;</th><th scope=col>&lt;dbl&gt;</th><th scope=col>&lt;chr&gt;</th><th scope=col>&lt;chr&gt;</th><th scope=col>&lt;dbl&gt;</th><th scope=col>&lt;dbl&gt;</th></tr>\n",
       "</thead>\n",
       "<tbody>\n",
       "\t<tr><td>Bachelors</td><td>2015</td><td>Pune     </td><td>3</td><td>28</td><td>Male</td><td>No</td><td>1</td><td>0</td></tr>\n",
       "\t<tr><td>Bachelors</td><td>2014</td><td>Bangalore</td><td>3</td><td>29</td><td>Male</td><td>No</td><td>1</td><td>0</td></tr>\n",
       "\t<tr><td>Masters  </td><td>2017</td><td>New Delhi</td><td>3</td><td>26</td><td>Male</td><td>No</td><td>4</td><td>1</td></tr>\n",
       "\t<tr><td>Bachelors</td><td>2015</td><td>Bangalore</td><td>3</td><td>25</td><td>Male</td><td>No</td><td>3</td><td>0</td></tr>\n",
       "\t<tr><td>Masters  </td><td>2017</td><td>New Delhi</td><td>2</td><td>31</td><td>Male</td><td>No</td><td>4</td><td>0</td></tr>\n",
       "</tbody>\n",
       "</table>\n"
      ],
      "text/latex": [
       "A tibble: 5 × 9\n",
       "\\begin{tabular}{lllllllll}\n",
       " Education & JoiningYear & City & PaymentTier & Age & Gender & EverBenched & ExperienceInCurrentDomain & LeaveOrNot\\\\\n",
       " <chr> & <dbl> & <chr> & <fct> & <dbl> & <chr> & <chr> & <dbl> & <dbl>\\\\\n",
       "\\hline\n",
       "\t Bachelors & 2015 & Pune      & 3 & 28 & Male & No & 1 & 0\\\\\n",
       "\t Bachelors & 2014 & Bangalore & 3 & 29 & Male & No & 1 & 0\\\\\n",
       "\t Masters   & 2017 & New Delhi & 3 & 26 & Male & No & 4 & 1\\\\\n",
       "\t Bachelors & 2015 & Bangalore & 3 & 25 & Male & No & 3 & 0\\\\\n",
       "\t Masters   & 2017 & New Delhi & 2 & 31 & Male & No & 4 & 0\\\\\n",
       "\\end{tabular}\n"
      ],
      "text/markdown": [
       "\n",
       "A tibble: 5 × 9\n",
       "\n",
       "| Education &lt;chr&gt; | JoiningYear &lt;dbl&gt; | City &lt;chr&gt; | PaymentTier &lt;fct&gt; | Age &lt;dbl&gt; | Gender &lt;chr&gt; | EverBenched &lt;chr&gt; | ExperienceInCurrentDomain &lt;dbl&gt; | LeaveOrNot &lt;dbl&gt; |\n",
       "|---|---|---|---|---|---|---|---|---|\n",
       "| Bachelors | 2015 | Pune      | 3 | 28 | Male | No | 1 | 0 |\n",
       "| Bachelors | 2014 | Bangalore | 3 | 29 | Male | No | 1 | 0 |\n",
       "| Masters   | 2017 | New Delhi | 3 | 26 | Male | No | 4 | 1 |\n",
       "| Bachelors | 2015 | Bangalore | 3 | 25 | Male | No | 3 | 0 |\n",
       "| Masters   | 2017 | New Delhi | 2 | 31 | Male | No | 4 | 0 |\n",
       "\n"
      ],
      "text/plain": [
       "  Education JoiningYear City      PaymentTier Age Gender EverBenched\n",
       "1 Bachelors 2015        Pune      3           28  Male   No         \n",
       "2 Bachelors 2014        Bangalore 3           29  Male   No         \n",
       "3 Masters   2017        New Delhi 3           26  Male   No         \n",
       "4 Bachelors 2015        Bangalore 3           25  Male   No         \n",
       "5 Masters   2017        New Delhi 2           31  Male   No         \n",
       "  ExperienceInCurrentDomain LeaveOrNot\n",
       "1 1                         0         \n",
       "2 1                         0         \n",
       "3 4                         1         \n",
       "4 3                         0         \n",
       "5 4                         0         "
      ]
     },
     "metadata": {},
     "output_type": "display_data"
    },
    {
     "data": {
      "text/html": [
       "<table class=\"dataframe\">\n",
       "<caption>A tibble: 5 × 9</caption>\n",
       "<thead>\n",
       "\t<tr><th scope=col>Education</th><th scope=col>JoiningYear</th><th scope=col>City</th><th scope=col>PaymentTier</th><th scope=col>Age</th><th scope=col>Gender</th><th scope=col>EverBenched</th><th scope=col>ExperienceInCurrentDomain</th><th scope=col>LeaveOrNot</th></tr>\n",
       "\t<tr><th scope=col>&lt;chr&gt;</th><th scope=col>&lt;dbl&gt;</th><th scope=col>&lt;chr&gt;</th><th scope=col>&lt;fct&gt;</th><th scope=col>&lt;dbl&gt;</th><th scope=col>&lt;chr&gt;</th><th scope=col>&lt;chr&gt;</th><th scope=col>&lt;dbl&gt;</th><th scope=col>&lt;dbl&gt;</th></tr>\n",
       "</thead>\n",
       "<tbody>\n",
       "\t<tr><td>Bachelors</td><td>2014</td><td>New Delhi</td><td>3</td><td>38</td><td>Female</td><td>No</td><td>2</td><td>0</td></tr>\n",
       "\t<tr><td>Bachelors</td><td>2016</td><td>Bangalore</td><td>3</td><td>22</td><td>Male  </td><td>No</td><td>0</td><td>0</td></tr>\n",
       "\t<tr><td>Bachelors</td><td>2016</td><td>Bangalore</td><td>3</td><td>34</td><td>Female</td><td>No</td><td>2</td><td>1</td></tr>\n",
       "\t<tr><td>Masters  </td><td>2017</td><td>New Delhi</td><td>2</td><td>37</td><td>Male  </td><td>No</td><td>2</td><td>0</td></tr>\n",
       "\t<tr><td>Bachelors</td><td>2016</td><td>Bangalore</td><td>3</td><td>39</td><td>Male  </td><td>No</td><td>2</td><td>0</td></tr>\n",
       "</tbody>\n",
       "</table>\n"
      ],
      "text/latex": [
       "A tibble: 5 × 9\n",
       "\\begin{tabular}{lllllllll}\n",
       " Education & JoiningYear & City & PaymentTier & Age & Gender & EverBenched & ExperienceInCurrentDomain & LeaveOrNot\\\\\n",
       " <chr> & <dbl> & <chr> & <fct> & <dbl> & <chr> & <chr> & <dbl> & <dbl>\\\\\n",
       "\\hline\n",
       "\t Bachelors & 2014 & New Delhi & 3 & 38 & Female & No & 2 & 0\\\\\n",
       "\t Bachelors & 2016 & Bangalore & 3 & 22 & Male   & No & 0 & 0\\\\\n",
       "\t Bachelors & 2016 & Bangalore & 3 & 34 & Female & No & 2 & 1\\\\\n",
       "\t Masters   & 2017 & New Delhi & 2 & 37 & Male   & No & 2 & 0\\\\\n",
       "\t Bachelors & 2016 & Bangalore & 3 & 39 & Male   & No & 2 & 0\\\\\n",
       "\\end{tabular}\n"
      ],
      "text/markdown": [
       "\n",
       "A tibble: 5 × 9\n",
       "\n",
       "| Education &lt;chr&gt; | JoiningYear &lt;dbl&gt; | City &lt;chr&gt; | PaymentTier &lt;fct&gt; | Age &lt;dbl&gt; | Gender &lt;chr&gt; | EverBenched &lt;chr&gt; | ExperienceInCurrentDomain &lt;dbl&gt; | LeaveOrNot &lt;dbl&gt; |\n",
       "|---|---|---|---|---|---|---|---|---|\n",
       "| Bachelors | 2014 | New Delhi | 3 | 38 | Female | No | 2 | 0 |\n",
       "| Bachelors | 2016 | Bangalore | 3 | 22 | Male   | No | 0 | 0 |\n",
       "| Bachelors | 2016 | Bangalore | 3 | 34 | Female | No | 2 | 1 |\n",
       "| Masters   | 2017 | New Delhi | 2 | 37 | Male   | No | 2 | 0 |\n",
       "| Bachelors | 2016 | Bangalore | 3 | 39 | Male   | No | 2 | 0 |\n",
       "\n"
      ],
      "text/plain": [
       "  Education JoiningYear City      PaymentTier Age Gender EverBenched\n",
       "1 Bachelors 2014        New Delhi 3           38  Female No         \n",
       "2 Bachelors 2016        Bangalore 3           22  Male   No         \n",
       "3 Bachelors 2016        Bangalore 3           34  Female No         \n",
       "4 Masters   2017        New Delhi 2           37  Male   No         \n",
       "5 Bachelors 2016        Bangalore 3           39  Male   No         \n",
       "  ExperienceInCurrentDomain LeaveOrNot\n",
       "1 2                         0         \n",
       "2 0                         0         \n",
       "3 2                         1         \n",
       "4 2                         0         \n",
       "5 2                         0         "
      ]
     },
     "metadata": {},
     "output_type": "display_data"
    }
   ],
   "source": [
    "employee_dat$id <- 1:nrow(employee_dat) # add a new ID column\n",
    "\n",
    "# 70% into train split\n",
    "employee_train <- \n",
    "    employee_dat %>% \n",
    "    slice_sample(prop = 0.7)\n",
    "\n",
    "# 30% into test split\n",
    "employee_test <- \n",
    "    employee_dat %>% \n",
    "    anti_join(employee_train, by = \"id\") \n",
    "\n",
    "# drop the ID column\n",
    "employee_train <- \n",
    "    employee_train %>% \n",
    "    select(-id)\n",
    "\n",
    "employee_test <-\n",
    "    employee_test %>%\n",
    "    select(-id)\n",
    "\n",
    "head(employee_train, 5)\n",
    "head(employee_test, 5)"
   ]
  },
  {
   "cell_type": "code",
   "execution_count": 4,
   "id": "d654fd16-4ca2-417b-b2f4-18caee560aa2",
   "metadata": {},
   "outputs": [],
   "source": [
    "model_matrix_X_train <- \n",
    "    model.matrix(LeaveOrNot ~ ., employee_train)\n",
    "model_matrix_X_train <- model_matrix_X_train[,-1]\n",
    "\n",
    "matrix_Y_train <- \n",
    "    as.matrix(employee_train %>% select(LeaveOrNot), ncol = 1)\n",
    "\n",
    "model_matrix_X_test <- \n",
    "    model.matrix(LeaveOrNot ~ ., employee_test)\n",
    "model_matrix_X_test <- model_matrix_X_test[,-1]\n",
    "\n",
    "matrix_Y_test <- \n",
    "    as.matrix(employee_test %>% select(LeaveOrNot), ncol = 1)"
   ]
  },
  {
   "cell_type": "markdown",
   "id": "6f9b44b6-be76-4d3d-8a4c-85ff1017500f",
   "metadata": {},
   "source": [
    "## LASSO Model"
   ]
  },
  {
   "cell_type": "code",
   "execution_count": 5,
   "id": "b875bf69-01cd-4f3b-87a7-ffb1a287f7c0",
   "metadata": {},
   "outputs": [
    {
     "data": {
      "text/plain": [
       "\n",
       "Call:  cv.glmnet(x = model_matrix_X_train, y = matrix_Y_train, type.measure = \"auc\",      nfolds = 10, family = \"binomial\", alpha = 1) \n",
       "\n",
       "Measure: AUC \n",
       "\n",
       "     Lambda Index Measure       SE Nonzero\n",
       "min 0.00153    48  0.7314 0.010253      11\n",
       "1se 0.01887    21  0.7219 0.009725       9"
      ]
     },
     "metadata": {},
     "output_type": "display_data"
    }
   ],
   "source": [
    "lasso_model = cv.glmnet(x = model_matrix_X_train,\n",
    "                        y = matrix_Y_train,\n",
    "                        family = \"binomial\",\n",
    "                        type.measure = \"auc\",\n",
    "                        nfolds = 10,\n",
    "                        alpha = 1)\n",
    "\n",
    "lasso_model"
   ]
  },
  {
   "cell_type": "code",
   "execution_count": 6,
   "id": "5e2b97de-e29c-48e6-8e1c-de4cc7e1b480",
   "metadata": {},
   "outputs": [
    {
     "data": {
      "text/html": [
       "<table class=\"dataframe\">\n",
       "<caption>A tibble: 12 × 2</caption>\n",
       "<thead>\n",
       "\t<tr><th scope=col>covariate</th><th scope=col>s1</th></tr>\n",
       "\t<tr><th scope=col>&lt;chr&gt;</th><th scope=col>&lt;dbl&gt;</th></tr>\n",
       "</thead>\n",
       "<tbody>\n",
       "\t<tr><td>(Intercept)              </td><td>-278.05479776</td></tr>\n",
       "\t<tr><td>EducationMasters         </td><td>   0.30505363</td></tr>\n",
       "\t<tr><td>EducationPHD             </td><td>   0.00000000</td></tr>\n",
       "\t<tr><td>JoiningYear              </td><td>   0.13788571</td></tr>\n",
       "\t<tr><td>CityNew Delhi            </td><td>  -0.09848657</td></tr>\n",
       "\t<tr><td>CityPune                 </td><td>   0.48510959</td></tr>\n",
       "\t<tr><td>PaymentTier2             </td><td>   0.45049384</td></tr>\n",
       "\t<tr><td>PaymentTier3             </td><td>  -0.15989502</td></tr>\n",
       "\t<tr><td>Age                      </td><td>  -0.01033995</td></tr>\n",
       "\t<tr><td>GenderMale               </td><td>  -0.60691865</td></tr>\n",
       "\t<tr><td>EverBenchedYes           </td><td>   0.28417176</td></tr>\n",
       "\t<tr><td>ExperienceInCurrentDomain</td><td>   0.00000000</td></tr>\n",
       "</tbody>\n",
       "</table>\n"
      ],
      "text/latex": [
       "A tibble: 12 × 2\n",
       "\\begin{tabular}{ll}\n",
       " covariate & s1\\\\\n",
       " <chr> & <dbl>\\\\\n",
       "\\hline\n",
       "\t (Intercept)               & -278.05479776\\\\\n",
       "\t EducationMasters          &    0.30505363\\\\\n",
       "\t EducationPHD              &    0.00000000\\\\\n",
       "\t JoiningYear               &    0.13788571\\\\\n",
       "\t CityNew Delhi             &   -0.09848657\\\\\n",
       "\t CityPune                  &    0.48510959\\\\\n",
       "\t PaymentTier2              &    0.45049384\\\\\n",
       "\t PaymentTier3              &   -0.15989502\\\\\n",
       "\t Age                       &   -0.01033995\\\\\n",
       "\t GenderMale                &   -0.60691865\\\\\n",
       "\t EverBenchedYes            &    0.28417176\\\\\n",
       "\t ExperienceInCurrentDomain &    0.00000000\\\\\n",
       "\\end{tabular}\n"
      ],
      "text/markdown": [
       "\n",
       "A tibble: 12 × 2\n",
       "\n",
       "| covariate &lt;chr&gt; | s1 &lt;dbl&gt; |\n",
       "|---|---|\n",
       "| (Intercept)               | -278.05479776 |\n",
       "| EducationMasters          |    0.30505363 |\n",
       "| EducationPHD              |    0.00000000 |\n",
       "| JoiningYear               |    0.13788571 |\n",
       "| CityNew Delhi             |   -0.09848657 |\n",
       "| CityPune                  |    0.48510959 |\n",
       "| PaymentTier2              |    0.45049384 |\n",
       "| PaymentTier3              |   -0.15989502 |\n",
       "| Age                       |   -0.01033995 |\n",
       "| GenderMale                |   -0.60691865 |\n",
       "| EverBenchedYes            |    0.28417176 |\n",
       "| ExperienceInCurrentDomain |    0.00000000 |\n",
       "\n"
      ],
      "text/plain": [
       "   covariate                 s1           \n",
       "1  (Intercept)               -278.05479776\n",
       "2  EducationMasters             0.30505363\n",
       "3  EducationPHD                 0.00000000\n",
       "4  JoiningYear                  0.13788571\n",
       "5  CityNew Delhi               -0.09848657\n",
       "6  CityPune                     0.48510959\n",
       "7  PaymentTier2                 0.45049384\n",
       "8  PaymentTier3                -0.15989502\n",
       "9  Age                         -0.01033995\n",
       "10 GenderMale                  -0.60691865\n",
       "11 EverBenchedYes               0.28417176\n",
       "12 ExperienceInCurrentDomain    0.00000000"
      ]
     },
     "metadata": {},
     "output_type": "display_data"
    }
   ],
   "source": [
    "selected_variables <- as_tibble(as.matrix(coef(lasso_model, s = \"lambda.1se\")),\n",
    "                                rownames='covariate')\n",
    "selected_variables"
   ]
  },
  {
   "cell_type": "code",
   "execution_count": 7,
   "id": "6c85a945-9217-46eb-9496-5e4b015fca69",
   "metadata": {},
   "outputs": [
    {
     "data": {
      "text/html": [
       "<table class=\"dataframe\">\n",
       "<caption>A tibble: 6 × 7</caption>\n",
       "<thead>\n",
       "\t<tr><th scope=col>Education</th><th scope=col>JoiningYear</th><th scope=col>City</th><th scope=col>PaymentTier</th><th scope=col>Age</th><th scope=col>Gender</th><th scope=col>LeaveOrNot</th></tr>\n",
       "\t<tr><th scope=col>&lt;chr&gt;</th><th scope=col>&lt;dbl&gt;</th><th scope=col>&lt;chr&gt;</th><th scope=col>&lt;fct&gt;</th><th scope=col>&lt;dbl&gt;</th><th scope=col>&lt;chr&gt;</th><th scope=col>&lt;dbl&gt;</th></tr>\n",
       "</thead>\n",
       "<tbody>\n",
       "\t<tr><td>Bachelors</td><td>2015</td><td>Pune     </td><td>3</td><td>28</td><td>Male</td><td>0</td></tr>\n",
       "\t<tr><td>Bachelors</td><td>2014</td><td>Bangalore</td><td>3</td><td>29</td><td>Male</td><td>0</td></tr>\n",
       "\t<tr><td>Masters  </td><td>2017</td><td>New Delhi</td><td>3</td><td>26</td><td>Male</td><td>1</td></tr>\n",
       "\t<tr><td>Bachelors</td><td>2015</td><td>Bangalore</td><td>3</td><td>25</td><td>Male</td><td>0</td></tr>\n",
       "\t<tr><td>Masters  </td><td>2017</td><td>New Delhi</td><td>2</td><td>31</td><td>Male</td><td>0</td></tr>\n",
       "\t<tr><td>Bachelors</td><td>2013</td><td>Bangalore</td><td>3</td><td>26</td><td>Male</td><td>0</td></tr>\n",
       "</tbody>\n",
       "</table>\n"
      ],
      "text/latex": [
       "A tibble: 6 × 7\n",
       "\\begin{tabular}{lllllll}\n",
       " Education & JoiningYear & City & PaymentTier & Age & Gender & LeaveOrNot\\\\\n",
       " <chr> & <dbl> & <chr> & <fct> & <dbl> & <chr> & <dbl>\\\\\n",
       "\\hline\n",
       "\t Bachelors & 2015 & Pune      & 3 & 28 & Male & 0\\\\\n",
       "\t Bachelors & 2014 & Bangalore & 3 & 29 & Male & 0\\\\\n",
       "\t Masters   & 2017 & New Delhi & 3 & 26 & Male & 1\\\\\n",
       "\t Bachelors & 2015 & Bangalore & 3 & 25 & Male & 0\\\\\n",
       "\t Masters   & 2017 & New Delhi & 2 & 31 & Male & 0\\\\\n",
       "\t Bachelors & 2013 & Bangalore & 3 & 26 & Male & 0\\\\\n",
       "\\end{tabular}\n"
      ],
      "text/markdown": [
       "\n",
       "A tibble: 6 × 7\n",
       "\n",
       "| Education &lt;chr&gt; | JoiningYear &lt;dbl&gt; | City &lt;chr&gt; | PaymentTier &lt;fct&gt; | Age &lt;dbl&gt; | Gender &lt;chr&gt; | LeaveOrNot &lt;dbl&gt; |\n",
       "|---|---|---|---|---|---|---|\n",
       "| Bachelors | 2015 | Pune      | 3 | 28 | Male | 0 |\n",
       "| Bachelors | 2014 | Bangalore | 3 | 29 | Male | 0 |\n",
       "| Masters   | 2017 | New Delhi | 3 | 26 | Male | 1 |\n",
       "| Bachelors | 2015 | Bangalore | 3 | 25 | Male | 0 |\n",
       "| Masters   | 2017 | New Delhi | 2 | 31 | Male | 0 |\n",
       "| Bachelors | 2013 | Bangalore | 3 | 26 | Male | 0 |\n",
       "\n"
      ],
      "text/plain": [
       "  Education JoiningYear City      PaymentTier Age Gender LeaveOrNot\n",
       "1 Bachelors 2015        Pune      3           28  Male   0         \n",
       "2 Bachelors 2014        Bangalore 3           29  Male   0         \n",
       "3 Masters   2017        New Delhi 3           26  Male   1         \n",
       "4 Bachelors 2015        Bangalore 3           25  Male   0         \n",
       "5 Masters   2017        New Delhi 2           31  Male   0         \n",
       "6 Bachelors 2013        Bangalore 3           26  Male   0         "
      ]
     },
     "metadata": {},
     "output_type": "display_data"
    }
   ],
   "source": [
    "data_train <- employee_train |>\n",
    "            select(-EverBenched, -ExperienceInCurrentDomain)\n",
    "data_test <- employee_test |>\n",
    "            select(-EverBenched, -ExperienceInCurrentDomain)\n",
    "head(data_train)"
   ]
  },
  {
   "cell_type": "code",
   "execution_count": 8,
   "id": "b4145247-83b1-41ee-84c9-c474ec45d98e",
   "metadata": {},
   "outputs": [
    {
     "data": {
      "text/html": [
       "<table class=\"dataframe\">\n",
       "<caption>A tibble: 10 × 5</caption>\n",
       "<thead>\n",
       "\t<tr><th scope=col>term</th><th scope=col>estimate</th><th scope=col>std.error</th><th scope=col>statistic</th><th scope=col>p.value</th></tr>\n",
       "\t<tr><th scope=col>&lt;chr&gt;</th><th scope=col>&lt;dbl&gt;</th><th scope=col>&lt;dbl&gt;</th><th scope=col>&lt;dbl&gt;</th><th scope=col>&lt;dbl&gt;</th></tr>\n",
       "</thead>\n",
       "<tbody>\n",
       "\t<tr><td>(Intercept)     </td><td>-399.75863022</td><td>46.058984158</td><td> -8.6792759</td><td>3.982965e-18</td></tr>\n",
       "\t<tr><td>EducationMasters</td><td>   0.63589156</td><td> 0.112440947</td><td>  5.6553380</td><td>1.555399e-08</td></tr>\n",
       "\t<tr><td>EducationPHD    </td><td>   0.06636736</td><td> 0.220656257</td><td>  0.3007726</td><td>7.635879e-01</td></tr>\n",
       "\t<tr><td>JoiningYear     </td><td>   0.19870885</td><td> 0.022869555</td><td>  8.6887939</td><td>3.663075e-18</td></tr>\n",
       "\t<tr><td>CityNew Delhi   </td><td>  -0.53912149</td><td> 0.116679603</td><td> -4.6205290</td><td>3.827629e-06</td></tr>\n",
       "\t<tr><td>CityPune        </td><td>   0.52281738</td><td> 0.101765642</td><td>  5.1374646</td><td>2.784700e-07</td></tr>\n",
       "\t<tr><td>PaymentTier2    </td><td>   0.52491356</td><td> 0.188188716</td><td>  2.7892935</td><td>5.282318e-03</td></tr>\n",
       "\t<tr><td>PaymentTier3    </td><td>  -0.19688926</td><td> 0.172263193</td><td> -1.1429561</td><td>2.530568e-01</td></tr>\n",
       "\t<tr><td>Age             </td><td>  -0.03308748</td><td> 0.008403318</td><td> -3.9374306</td><td>8.235875e-05</td></tr>\n",
       "\t<tr><td>GenderMale      </td><td>  -0.85100011</td><td> 0.084473731</td><td>-10.0741390</td><td>7.188766e-24</td></tr>\n",
       "</tbody>\n",
       "</table>\n"
      ],
      "text/latex": [
       "A tibble: 10 × 5\n",
       "\\begin{tabular}{lllll}\n",
       " term & estimate & std.error & statistic & p.value\\\\\n",
       " <chr> & <dbl> & <dbl> & <dbl> & <dbl>\\\\\n",
       "\\hline\n",
       "\t (Intercept)      & -399.75863022 & 46.058984158 &  -8.6792759 & 3.982965e-18\\\\\n",
       "\t EducationMasters &    0.63589156 &  0.112440947 &   5.6553380 & 1.555399e-08\\\\\n",
       "\t EducationPHD     &    0.06636736 &  0.220656257 &   0.3007726 & 7.635879e-01\\\\\n",
       "\t JoiningYear      &    0.19870885 &  0.022869555 &   8.6887939 & 3.663075e-18\\\\\n",
       "\t CityNew Delhi    &   -0.53912149 &  0.116679603 &  -4.6205290 & 3.827629e-06\\\\\n",
       "\t CityPune         &    0.52281738 &  0.101765642 &   5.1374646 & 2.784700e-07\\\\\n",
       "\t PaymentTier2     &    0.52491356 &  0.188188716 &   2.7892935 & 5.282318e-03\\\\\n",
       "\t PaymentTier3     &   -0.19688926 &  0.172263193 &  -1.1429561 & 2.530568e-01\\\\\n",
       "\t Age              &   -0.03308748 &  0.008403318 &  -3.9374306 & 8.235875e-05\\\\\n",
       "\t GenderMale       &   -0.85100011 &  0.084473731 & -10.0741390 & 7.188766e-24\\\\\n",
       "\\end{tabular}\n"
      ],
      "text/markdown": [
       "\n",
       "A tibble: 10 × 5\n",
       "\n",
       "| term &lt;chr&gt; | estimate &lt;dbl&gt; | std.error &lt;dbl&gt; | statistic &lt;dbl&gt; | p.value &lt;dbl&gt; |\n",
       "|---|---|---|---|---|\n",
       "| (Intercept)      | -399.75863022 | 46.058984158 |  -8.6792759 | 3.982965e-18 |\n",
       "| EducationMasters |    0.63589156 |  0.112440947 |   5.6553380 | 1.555399e-08 |\n",
       "| EducationPHD     |    0.06636736 |  0.220656257 |   0.3007726 | 7.635879e-01 |\n",
       "| JoiningYear      |    0.19870885 |  0.022869555 |   8.6887939 | 3.663075e-18 |\n",
       "| CityNew Delhi    |   -0.53912149 |  0.116679603 |  -4.6205290 | 3.827629e-06 |\n",
       "| CityPune         |    0.52281738 |  0.101765642 |   5.1374646 | 2.784700e-07 |\n",
       "| PaymentTier2     |    0.52491356 |  0.188188716 |   2.7892935 | 5.282318e-03 |\n",
       "| PaymentTier3     |   -0.19688926 |  0.172263193 |  -1.1429561 | 2.530568e-01 |\n",
       "| Age              |   -0.03308748 |  0.008403318 |  -3.9374306 | 8.235875e-05 |\n",
       "| GenderMale       |   -0.85100011 |  0.084473731 | -10.0741390 | 7.188766e-24 |\n",
       "\n"
      ],
      "text/plain": [
       "   term             estimate      std.error    statistic   p.value     \n",
       "1  (Intercept)      -399.75863022 46.058984158  -8.6792759 3.982965e-18\n",
       "2  EducationMasters    0.63589156  0.112440947   5.6553380 1.555399e-08\n",
       "3  EducationPHD        0.06636736  0.220656257   0.3007726 7.635879e-01\n",
       "4  JoiningYear         0.19870885  0.022869555   8.6887939 3.663075e-18\n",
       "5  CityNew Delhi      -0.53912149  0.116679603  -4.6205290 3.827629e-06\n",
       "6  CityPune            0.52281738  0.101765642   5.1374646 2.784700e-07\n",
       "7  PaymentTier2        0.52491356  0.188188716   2.7892935 5.282318e-03\n",
       "8  PaymentTier3       -0.19688926  0.172263193  -1.1429561 2.530568e-01\n",
       "9  Age                -0.03308748  0.008403318  -3.9374306 8.235875e-05\n",
       "10 GenderMale         -0.85100011  0.084473731 -10.0741390 7.188766e-24"
      ]
     },
     "metadata": {},
     "output_type": "display_data"
    }
   ],
   "source": [
    "final_model <- glm(LeaveOrNot ~ ., family = \"binomial\", data = data_train)\n",
    "tidy(final_model)"
   ]
  },
  {
   "cell_type": "code",
   "execution_count": 9,
   "id": "9f1aabac-a98d-4fe6-8ffe-2c9920b3be16",
   "metadata": {},
   "outputs": [
    {
     "data": {
      "text/html": [
       "<style>\n",
       ".dl-inline {width: auto; margin:0; padding: 0}\n",
       ".dl-inline>dt, .dl-inline>dd {float: none; width: auto; display: inline-block}\n",
       ".dl-inline>dt::after {content: \":\\0020\"; padding-right: .5ex}\n",
       ".dl-inline>dt:not(:first-of-type) {padding-left: .5ex}\n",
       "</style><dl class=dl-inline><dt>1</dt><dd>0</dd><dt>2</dt><dd>0</dd><dt>3</dt><dd>0</dd><dt>4</dt><dd>0</dd><dt>5</dt><dd>0</dd><dt>6</dt><dd>0</dd></dl>\n"
      ],
      "text/latex": [
       "\\begin{description*}\n",
       "\\item[1] 0\n",
       "\\item[2] 0\n",
       "\\item[3] 0\n",
       "\\item[4] 0\n",
       "\\item[5] 0\n",
       "\\item[6] 0\n",
       "\\end{description*}\n"
      ],
      "text/markdown": [
       "1\n",
       ":   02\n",
       ":   03\n",
       ":   04\n",
       ":   05\n",
       ":   06\n",
       ":   0\n",
       "\n"
      ],
      "text/plain": [
       "1 2 3 4 5 6 \n",
       "0 0 0 0 0 0 "
      ]
     },
     "metadata": {},
     "output_type": "display_data"
    }
   ],
   "source": [
    "prediction = round(predict(final_model, newdata = data_test |> select(-LeaveOrNot), type = \"response\"), 0)\n",
    "head(prediction)"
   ]
  },
  {
   "cell_type": "code",
   "execution_count": 10,
   "id": "378b568f-da84-499f-ba32-70db9ab6e4b5",
   "metadata": {},
   "outputs": [
    {
     "data": {
      "text/plain": [
       "Confusion Matrix and Statistics\n",
       "\n",
       "          Reference\n",
       "Prediction   0   1\n",
       "         0 820 289\n",
       "         1  87 200\n",
       "                                          \n",
       "               Accuracy : 0.7307          \n",
       "                 95% CI : (0.7066, 0.7538)\n",
       "    No Information Rate : 0.6497          \n",
       "    P-Value [Acc > NIR] : 5.891e-11       \n",
       "                                          \n",
       "                  Kappa : 0.346           \n",
       "                                          \n",
       " Mcnemar's Test P-Value : < 2.2e-16       \n",
       "                                          \n",
       "            Sensitivity : 0.4090          \n",
       "            Specificity : 0.9041          \n",
       "         Pos Pred Value : 0.6969          \n",
       "         Neg Pred Value : 0.7394          \n",
       "             Prevalence : 0.3503          \n",
       "         Detection Rate : 0.1433          \n",
       "   Detection Prevalence : 0.2056          \n",
       "      Balanced Accuracy : 0.6565          \n",
       "                                          \n",
       "       'Positive' Class : 1               \n",
       "                                          "
      ]
     },
     "metadata": {},
     "output_type": "display_data"
    }
   ],
   "source": [
    "conf_matrix <- \n",
    "    confusionMatrix(\n",
    "    data = as.factor(prediction),\n",
    "    reference = data_test |> select(LeaveOrNot) |> unlist() |> as.factor(),\n",
    "    positive = \"1\"\n",
    ")\n",
    "conf_matrix"
   ]
  },
  {
   "cell_type": "code",
   "execution_count": 11,
   "id": "80b94667-d5be-43b2-9496-bfe18ac4de02",
   "metadata": {},
   "outputs": [
    {
     "data": {
      "text/html": [
       "<strong>Accuracy:</strong> 0.730659025787966"
      ],
      "text/latex": [
       "\\textbf{Accuracy:} 0.730659025787966"
      ],
      "text/markdown": [
       "**Accuracy:** 0.730659025787966"
      ],
      "text/plain": [
       "Accuracy \n",
       "0.730659 "
      ]
     },
     "metadata": {},
     "output_type": "display_data"
    }
   ],
   "source": [
    "lasso_acc <- conf_matrix$overall['Accuracy']\n",
    "lasso_acc"
   ]
  },
  {
   "cell_type": "code",
   "execution_count": 12,
   "id": "868ad215-ad48-4bba-905f-d425bc220d50",
   "metadata": {},
   "outputs": [
    {
     "data": {
      "text/html": [
       "<table class=\"dataframe\">\n",
       "<caption>A data.frame: 1 × 2</caption>\n",
       "<thead>\n",
       "\t<tr><th></th><th scope=col>model</th><th scope=col>accuracy</th></tr>\n",
       "\t<tr><th></th><th scope=col>&lt;chr&gt;</th><th scope=col>&lt;dbl&gt;</th></tr>\n",
       "</thead>\n",
       "<tbody>\n",
       "\t<tr><th scope=row>Accuracy</th><td>LASSO Selection OLS</td><td>0.730659</td></tr>\n",
       "</tbody>\n",
       "</table>\n"
      ],
      "text/latex": [
       "A data.frame: 1 × 2\n",
       "\\begin{tabular}{r|ll}\n",
       "  & model & accuracy\\\\\n",
       "  & <chr> & <dbl>\\\\\n",
       "\\hline\n",
       "\tAccuracy & LASSO Selection OLS & 0.730659\\\\\n",
       "\\end{tabular}\n"
      ],
      "text/markdown": [
       "\n",
       "A data.frame: 1 × 2\n",
       "\n",
       "| <!--/--> | model &lt;chr&gt; | accuracy &lt;dbl&gt; |\n",
       "|---|---|---|\n",
       "| Accuracy | LASSO Selection OLS | 0.730659 |\n",
       "\n"
      ],
      "text/plain": [
       "         model               accuracy\n",
       "Accuracy LASSO Selection OLS 0.730659"
      ]
     },
     "metadata": {},
     "output_type": "display_data"
    }
   ],
   "source": [
    "results <- data.frame(model = c(\"LASSO Selection OLS\"),  accuracy = c(lasso_acc))\n",
    "results"
   ]
  },
  {
   "cell_type": "markdown",
   "id": "bc2dd1cb-f8b1-4ee2-9024-dfde53b7d871",
   "metadata": {},
   "source": [
    "# LASSO Direct"
   ]
  },
  {
   "cell_type": "code",
   "execution_count": 13,
   "id": "92acc072-6b24-4e64-91b1-8140cbf3de4e",
   "metadata": {},
   "outputs": [
    {
     "data": {
      "text/plain": [
       "12 x 1 sparse Matrix of class \"dgCMatrix\"\n",
       "                                     s0\n",
       "(Intercept)               -278.11649213\n",
       "EducationMasters             0.30519184\n",
       "EducationPHD                 .         \n",
       "JoiningYear                  0.13791673\n",
       "CityNew Delhi               -0.09851312\n",
       "CityPune                     0.48513188\n",
       "PaymentTier2                 0.44943798\n",
       "PaymentTier3                -0.16064489\n",
       "Age                         -0.01034093\n",
       "GenderMale                  -0.60697109\n",
       "EverBenchedYes               0.28418565\n",
       "ExperienceInCurrentDomain    .         "
      ]
     },
     "metadata": {},
     "output_type": "display_data"
    }
   ],
   "source": [
    "employee_lasso_max_AUC <- \n",
    "  glmnet(\n",
    "  x = model_matrix_X_train, y = matrix_Y_train,\n",
    "  alpha = 1,\n",
    "  family = \"binomial\",\n",
    "  type.measure = \"auc\",\n",
    "  lambda = lasso_model$lambda.1se\n",
    ")\n",
    "\n",
    "coef(employee_lasso_max_AUC)"
   ]
  },
  {
   "cell_type": "code",
   "execution_count": 14,
   "id": "c4ef0788-236a-447f-8a2b-d528c6247cfa",
   "metadata": {},
   "outputs": [
    {
     "data": {
      "text/html": [
       "<table class=\"dataframe\">\n",
       "<caption>A matrix: 10 × 1 of type dbl</caption>\n",
       "<thead>\n",
       "\t<tr><th></th><th scope=col>s0</th></tr>\n",
       "</thead>\n",
       "<tbody>\n",
       "\t<tr><th scope=row>1</th><td>0</td></tr>\n",
       "\t<tr><th scope=row>2</th><td>0</td></tr>\n",
       "\t<tr><th scope=row>3</th><td>0</td></tr>\n",
       "\t<tr><th scope=row>4</th><td>0</td></tr>\n",
       "\t<tr><th scope=row>5</th><td>0</td></tr>\n",
       "\t<tr><th scope=row>6</th><td>0</td></tr>\n",
       "\t<tr><th scope=row>7</th><td>0</td></tr>\n",
       "\t<tr><th scope=row>8</th><td>0</td></tr>\n",
       "\t<tr><th scope=row>9</th><td>0</td></tr>\n",
       "\t<tr><th scope=row>10</th><td>0</td></tr>\n",
       "</tbody>\n",
       "</table>\n"
      ],
      "text/latex": [
       "A matrix: 10 × 1 of type dbl\n",
       "\\begin{tabular}{r|l}\n",
       "  & s0\\\\\n",
       "\\hline\n",
       "\t1 & 0\\\\\n",
       "\t2 & 0\\\\\n",
       "\t3 & 0\\\\\n",
       "\t4 & 0\\\\\n",
       "\t5 & 0\\\\\n",
       "\t6 & 0\\\\\n",
       "\t7 & 0\\\\\n",
       "\t8 & 0\\\\\n",
       "\t9 & 0\\\\\n",
       "\t10 & 0\\\\\n",
       "\\end{tabular}\n"
      ],
      "text/markdown": [
       "\n",
       "A matrix: 10 × 1 of type dbl\n",
       "\n",
       "| <!--/--> | s0 |\n",
       "|---|---|\n",
       "| 1 | 0 |\n",
       "| 2 | 0 |\n",
       "| 3 | 0 |\n",
       "| 4 | 0 |\n",
       "| 5 | 0 |\n",
       "| 6 | 0 |\n",
       "| 7 | 0 |\n",
       "| 8 | 0 |\n",
       "| 9 | 0 |\n",
       "| 10 | 0 |\n",
       "\n"
      ],
      "text/plain": [
       "   s0\n",
       "1  0 \n",
       "2  0 \n",
       "3  0 \n",
       "4  0 \n",
       "5  0 \n",
       "6  0 \n",
       "7  0 \n",
       "8  0 \n",
       "9  0 \n",
       "10 0 "
      ]
     },
     "metadata": {},
     "output_type": "display_data"
    }
   ],
   "source": [
    "employee_class <- \n",
    "  predict(employee_lasso_max_AUC, model_matrix_X_test, type = \"response\") %>% round(0)\n",
    "head(employee_class, 10)"
   ]
  },
  {
   "cell_type": "code",
   "execution_count": 15,
   "id": "98e1d818-7c8a-4bd1-88c6-d1c1f6a70792",
   "metadata": {},
   "outputs": [
    {
     "data": {
      "text/plain": [
       "Confusion Matrix and Statistics\n",
       "\n",
       "          Reference\n",
       "Prediction   0   1\n",
       "         0 839 329\n",
       "         1  68 160\n",
       "                                          \n",
       "               Accuracy : 0.7156          \n",
       "                 95% CI : (0.6912, 0.7392)\n",
       "    No Information Rate : 0.6497          \n",
       "    P-Value [Acc > NIR] : 9.155e-08       \n",
       "                                          \n",
       "                  Kappa : 0.2876          \n",
       "                                          \n",
       " Mcnemar's Test P-Value : < 2.2e-16       \n",
       "                                          \n",
       "            Sensitivity : 0.3272          \n",
       "            Specificity : 0.9250          \n",
       "         Pos Pred Value : 0.7018          \n",
       "         Neg Pred Value : 0.7183          \n",
       "             Prevalence : 0.3503          \n",
       "         Detection Rate : 0.1146          \n",
       "   Detection Prevalence : 0.1633          \n",
       "      Balanced Accuracy : 0.6261          \n",
       "                                          \n",
       "       'Positive' Class : 1               \n",
       "                                          "
      ]
     },
     "metadata": {},
     "output_type": "display_data"
    }
   ],
   "source": [
    "conf_matrix <- \n",
    "    confusionMatrix(\n",
    "    data = as.factor(employee_class),\n",
    "    reference = as.factor(employee_test$LeaveOrNot),\n",
    "    positive = \"1\"\n",
    ")\n",
    "conf_matrix"
   ]
  },
  {
   "cell_type": "code",
   "execution_count": 16,
   "id": "cc5156f5-e27e-4658-ae71-368bb45734a6",
   "metadata": {},
   "outputs": [
    {
     "data": {
      "text/html": [
       "<strong>Accuracy:</strong> 0.715616045845272"
      ],
      "text/latex": [
       "\\textbf{Accuracy:} 0.715616045845272"
      ],
      "text/markdown": [
       "**Accuracy:** 0.715616045845272"
      ],
      "text/plain": [
       "Accuracy \n",
       "0.715616 "
      ]
     },
     "metadata": {},
     "output_type": "display_data"
    }
   ],
   "source": [
    "lasso_dir_acc <- conf_matrix$overall['Accuracy']\n",
    "lasso_dir_acc"
   ]
  },
  {
   "cell_type": "code",
   "execution_count": 17,
   "id": "3b5a4c1a-0add-45f4-bcd9-b75bd7735a9f",
   "metadata": {},
   "outputs": [
    {
     "data": {
      "text/html": [
       "<table class=\"dataframe\">\n",
       "<caption>A data.frame: 2 × 2</caption>\n",
       "<thead>\n",
       "\t<tr><th></th><th scope=col>model</th><th scope=col>accuracy</th></tr>\n",
       "\t<tr><th></th><th scope=col>&lt;chr&gt;</th><th scope=col>&lt;dbl&gt;</th></tr>\n",
       "</thead>\n",
       "<tbody>\n",
       "\t<tr><th scope=row>Accuracy</th><td>LASSO Selection OLS</td><td>0.730659</td></tr>\n",
       "\t<tr><th scope=row>...2</th><td>LASSO Direct       </td><td>0.715616</td></tr>\n",
       "</tbody>\n",
       "</table>\n"
      ],
      "text/latex": [
       "A data.frame: 2 × 2\n",
       "\\begin{tabular}{r|ll}\n",
       "  & model & accuracy\\\\\n",
       "  & <chr> & <dbl>\\\\\n",
       "\\hline\n",
       "\tAccuracy & LASSO Selection OLS & 0.730659\\\\\n",
       "\t...2 & LASSO Direct        & 0.715616\\\\\n",
       "\\end{tabular}\n"
      ],
      "text/markdown": [
       "\n",
       "A data.frame: 2 × 2\n",
       "\n",
       "| <!--/--> | model &lt;chr&gt; | accuracy &lt;dbl&gt; |\n",
       "|---|---|---|\n",
       "| Accuracy | LASSO Selection OLS | 0.730659 |\n",
       "| ...2 | LASSO Direct        | 0.715616 |\n",
       "\n"
      ],
      "text/plain": [
       "         model               accuracy\n",
       "Accuracy LASSO Selection OLS 0.730659\n",
       "...2     LASSO Direct        0.715616"
      ]
     },
     "metadata": {},
     "output_type": "display_data"
    }
   ],
   "source": [
    "results <- results %>% add_row(model = \"LASSO Direct\", accuracy = lasso_dir_acc)\n",
    "results"
   ]
  },
  {
   "cell_type": "markdown",
   "id": "74d4d145-c5a8-4ce8-b9e4-4bf67cf3aa29",
   "metadata": {},
   "source": [
    "## OLS with Forward Selection Model"
   ]
  },
  {
   "cell_type": "code",
   "execution_count": 18,
   "id": "7920304d-25a4-436f-8a7f-9a2aba8a390d",
   "metadata": {},
   "outputs": [
    {
     "data": {
      "text/html": [
       "<table class=\"dataframe\">\n",
       "<caption>A data.frame: 6 × 9</caption>\n",
       "<thead>\n",
       "\t<tr><th></th><th scope=col>Education</th><th scope=col>JoiningYear</th><th scope=col>City</th><th scope=col>PaymentTier</th><th scope=col>Age</th><th scope=col>Gender</th><th scope=col>EverBenched</th><th scope=col>ExperienceInCurrentDomain</th><th scope=col>LeaveOrNot</th></tr>\n",
       "\t<tr><th></th><th scope=col>&lt;chr&gt;</th><th scope=col>&lt;dbl&gt;</th><th scope=col>&lt;chr&gt;</th><th scope=col>&lt;ord&gt;</th><th scope=col>&lt;dbl&gt;</th><th scope=col>&lt;chr&gt;</th><th scope=col>&lt;chr&gt;</th><th scope=col>&lt;dbl&gt;</th><th scope=col>&lt;ord&gt;</th></tr>\n",
       "</thead>\n",
       "<tbody>\n",
       "\t<tr><th scope=row>1</th><td>Bachelors</td><td>2015</td><td>Pune     </td><td>High  </td><td>28</td><td>Male</td><td>No</td><td>1</td><td>Not Leave</td></tr>\n",
       "\t<tr><th scope=row>2</th><td>Bachelors</td><td>2014</td><td>Bangalore</td><td>High  </td><td>29</td><td>Male</td><td>No</td><td>1</td><td>Not Leave</td></tr>\n",
       "\t<tr><th scope=row>3</th><td>Masters  </td><td>2017</td><td>New Delhi</td><td>High  </td><td>26</td><td>Male</td><td>No</td><td>4</td><td>Leave    </td></tr>\n",
       "\t<tr><th scope=row>4</th><td>Bachelors</td><td>2015</td><td>Bangalore</td><td>High  </td><td>25</td><td>Male</td><td>No</td><td>3</td><td>Not Leave</td></tr>\n",
       "\t<tr><th scope=row>5</th><td>Masters  </td><td>2017</td><td>New Delhi</td><td>Median</td><td>31</td><td>Male</td><td>No</td><td>4</td><td>Not Leave</td></tr>\n",
       "\t<tr><th scope=row>6</th><td>Bachelors</td><td>2013</td><td>Bangalore</td><td>High  </td><td>26</td><td>Male</td><td>No</td><td>4</td><td>Not Leave</td></tr>\n",
       "</tbody>\n",
       "</table>\n"
      ],
      "text/latex": [
       "A data.frame: 6 × 9\n",
       "\\begin{tabular}{r|lllllllll}\n",
       "  & Education & JoiningYear & City & PaymentTier & Age & Gender & EverBenched & ExperienceInCurrentDomain & LeaveOrNot\\\\\n",
       "  & <chr> & <dbl> & <chr> & <ord> & <dbl> & <chr> & <chr> & <dbl> & <ord>\\\\\n",
       "\\hline\n",
       "\t1 & Bachelors & 2015 & Pune      & High   & 28 & Male & No & 1 & Not Leave\\\\\n",
       "\t2 & Bachelors & 2014 & Bangalore & High   & 29 & Male & No & 1 & Not Leave\\\\\n",
       "\t3 & Masters   & 2017 & New Delhi & High   & 26 & Male & No & 4 & Leave    \\\\\n",
       "\t4 & Bachelors & 2015 & Bangalore & High   & 25 & Male & No & 3 & Not Leave\\\\\n",
       "\t5 & Masters   & 2017 & New Delhi & Median & 31 & Male & No & 4 & Not Leave\\\\\n",
       "\t6 & Bachelors & 2013 & Bangalore & High   & 26 & Male & No & 4 & Not Leave\\\\\n",
       "\\end{tabular}\n"
      ],
      "text/markdown": [
       "\n",
       "A data.frame: 6 × 9\n",
       "\n",
       "| <!--/--> | Education &lt;chr&gt; | JoiningYear &lt;dbl&gt; | City &lt;chr&gt; | PaymentTier &lt;ord&gt; | Age &lt;dbl&gt; | Gender &lt;chr&gt; | EverBenched &lt;chr&gt; | ExperienceInCurrentDomain &lt;dbl&gt; | LeaveOrNot &lt;ord&gt; |\n",
       "|---|---|---|---|---|---|---|---|---|---|\n",
       "| 1 | Bachelors | 2015 | Pune      | High   | 28 | Male | No | 1 | Not Leave |\n",
       "| 2 | Bachelors | 2014 | Bangalore | High   | 29 | Male | No | 1 | Not Leave |\n",
       "| 3 | Masters   | 2017 | New Delhi | High   | 26 | Male | No | 4 | Leave     |\n",
       "| 4 | Bachelors | 2015 | Bangalore | High   | 25 | Male | No | 3 | Not Leave |\n",
       "| 5 | Masters   | 2017 | New Delhi | Median | 31 | Male | No | 4 | Not Leave |\n",
       "| 6 | Bachelors | 2013 | Bangalore | High   | 26 | Male | No | 4 | Not Leave |\n",
       "\n"
      ],
      "text/plain": [
       "  Education JoiningYear City      PaymentTier Age Gender EverBenched\n",
       "1 Bachelors 2015        Pune      High        28  Male   No         \n",
       "2 Bachelors 2014        Bangalore High        29  Male   No         \n",
       "3 Masters   2017        New Delhi High        26  Male   No         \n",
       "4 Bachelors 2015        Bangalore High        25  Male   No         \n",
       "5 Masters   2017        New Delhi Median      31  Male   No         \n",
       "6 Bachelors 2013        Bangalore High        26  Male   No         \n",
       "  ExperienceInCurrentDomain LeaveOrNot\n",
       "1 1                         Not Leave \n",
       "2 1                         Not Leave \n",
       "3 4                         Leave     \n",
       "4 3                         Not Leave \n",
       "5 4                         Not Leave \n",
       "6 4                         Not Leave "
      ]
     },
     "metadata": {},
     "output_type": "display_data"
    },
    {
     "data": {
      "text/html": [
       "<table class=\"dataframe\">\n",
       "<caption>A data.frame: 6 × 9</caption>\n",
       "<thead>\n",
       "\t<tr><th></th><th scope=col>Education</th><th scope=col>JoiningYear</th><th scope=col>City</th><th scope=col>PaymentTier</th><th scope=col>Age</th><th scope=col>Gender</th><th scope=col>EverBenched</th><th scope=col>ExperienceInCurrentDomain</th><th scope=col>LeaveOrNot</th></tr>\n",
       "\t<tr><th></th><th scope=col>&lt;chr&gt;</th><th scope=col>&lt;dbl&gt;</th><th scope=col>&lt;chr&gt;</th><th scope=col>&lt;ord&gt;</th><th scope=col>&lt;dbl&gt;</th><th scope=col>&lt;chr&gt;</th><th scope=col>&lt;chr&gt;</th><th scope=col>&lt;dbl&gt;</th><th scope=col>&lt;ord&gt;</th></tr>\n",
       "</thead>\n",
       "<tbody>\n",
       "\t<tr><th scope=row>1</th><td>Bachelors</td><td>2014</td><td>New Delhi</td><td>High  </td><td>38</td><td>Female</td><td>No</td><td>2</td><td>Not Leave</td></tr>\n",
       "\t<tr><th scope=row>2</th><td>Bachelors</td><td>2016</td><td>Bangalore</td><td>High  </td><td>22</td><td>Male  </td><td>No</td><td>0</td><td>Not Leave</td></tr>\n",
       "\t<tr><th scope=row>3</th><td>Bachelors</td><td>2016</td><td>Bangalore</td><td>High  </td><td>34</td><td>Female</td><td>No</td><td>2</td><td>Leave    </td></tr>\n",
       "\t<tr><th scope=row>4</th><td>Masters  </td><td>2017</td><td>New Delhi</td><td>Median</td><td>37</td><td>Male  </td><td>No</td><td>2</td><td>Not Leave</td></tr>\n",
       "\t<tr><th scope=row>5</th><td>Bachelors</td><td>2016</td><td>Bangalore</td><td>High  </td><td>39</td><td>Male  </td><td>No</td><td>2</td><td>Not Leave</td></tr>\n",
       "\t<tr><th scope=row>6</th><td>Bachelors</td><td>2012</td><td>Bangalore</td><td>High  </td><td>37</td><td>Male  </td><td>No</td><td>4</td><td>Not Leave</td></tr>\n",
       "</tbody>\n",
       "</table>\n"
      ],
      "text/latex": [
       "A data.frame: 6 × 9\n",
       "\\begin{tabular}{r|lllllllll}\n",
       "  & Education & JoiningYear & City & PaymentTier & Age & Gender & EverBenched & ExperienceInCurrentDomain & LeaveOrNot\\\\\n",
       "  & <chr> & <dbl> & <chr> & <ord> & <dbl> & <chr> & <chr> & <dbl> & <ord>\\\\\n",
       "\\hline\n",
       "\t1 & Bachelors & 2014 & New Delhi & High   & 38 & Female & No & 2 & Not Leave\\\\\n",
       "\t2 & Bachelors & 2016 & Bangalore & High   & 22 & Male   & No & 0 & Not Leave\\\\\n",
       "\t3 & Bachelors & 2016 & Bangalore & High   & 34 & Female & No & 2 & Leave    \\\\\n",
       "\t4 & Masters   & 2017 & New Delhi & Median & 37 & Male   & No & 2 & Not Leave\\\\\n",
       "\t5 & Bachelors & 2016 & Bangalore & High   & 39 & Male   & No & 2 & Not Leave\\\\\n",
       "\t6 & Bachelors & 2012 & Bangalore & High   & 37 & Male   & No & 4 & Not Leave\\\\\n",
       "\\end{tabular}\n"
      ],
      "text/markdown": [
       "\n",
       "A data.frame: 6 × 9\n",
       "\n",
       "| <!--/--> | Education &lt;chr&gt; | JoiningYear &lt;dbl&gt; | City &lt;chr&gt; | PaymentTier &lt;ord&gt; | Age &lt;dbl&gt; | Gender &lt;chr&gt; | EverBenched &lt;chr&gt; | ExperienceInCurrentDomain &lt;dbl&gt; | LeaveOrNot &lt;ord&gt; |\n",
       "|---|---|---|---|---|---|---|---|---|---|\n",
       "| 1 | Bachelors | 2014 | New Delhi | High   | 38 | Female | No | 2 | Not Leave |\n",
       "| 2 | Bachelors | 2016 | Bangalore | High   | 22 | Male   | No | 0 | Not Leave |\n",
       "| 3 | Bachelors | 2016 | Bangalore | High   | 34 | Female | No | 2 | Leave     |\n",
       "| 4 | Masters   | 2017 | New Delhi | Median | 37 | Male   | No | 2 | Not Leave |\n",
       "| 5 | Bachelors | 2016 | Bangalore | High   | 39 | Male   | No | 2 | Not Leave |\n",
       "| 6 | Bachelors | 2012 | Bangalore | High   | 37 | Male   | No | 4 | Not Leave |\n",
       "\n"
      ],
      "text/plain": [
       "  Education JoiningYear City      PaymentTier Age Gender EverBenched\n",
       "1 Bachelors 2014        New Delhi High        38  Female No         \n",
       "2 Bachelors 2016        Bangalore High        22  Male   No         \n",
       "3 Bachelors 2016        Bangalore High        34  Female No         \n",
       "4 Masters   2017        New Delhi Median      37  Male   No         \n",
       "5 Bachelors 2016        Bangalore High        39  Male   No         \n",
       "6 Bachelors 2012        Bangalore High        37  Male   No         \n",
       "  ExperienceInCurrentDomain LeaveOrNot\n",
       "1 2                         Not Leave \n",
       "2 0                         Not Leave \n",
       "3 2                         Leave     \n",
       "4 2                         Not Leave \n",
       "5 2                         Not Leave \n",
       "6 4                         Not Leave "
      ]
     },
     "metadata": {},
     "output_type": "display_data"
    }
   ],
   "source": [
    "##Since some categorical variables are present numeric ways,use factor() to transform them into categorical form.\n",
    "ly_employee_train <- data.frame(employee_train)\n",
    "ly_employee_test <- data.frame(employee_test)\n",
    "ly_employee_train$PaymentTier<-factor(ly_employee_train$PaymentTier, levels = c(1, 2, 3), labels = c(\"Low\", \"Median\", \"High\"),ordered = TRUE)\n",
    "ly_employee_train$LeaveOrNot<-factor(ly_employee_train$LeaveOrNot, levels = c(0, 1), labels = c(\"Not Leave\", \"Leave\"), ordered = TRUE)\n",
    "head(ly_employee_train)\n",
    "ly_employee_test$PaymentTier<-factor(ly_employee_test$PaymentTier, levels = c(1, 2, 3), labels = c(\"Low\", \"Median\", \"High\"),ordered = TRUE)\n",
    "ly_employee_test$LeaveOrNot<-factor(ly_employee_test$LeaveOrNot, levels = c(0, 1), labels = c(\"Not Leave\", \"Leave\"), ordered = TRUE)\n",
    "head(ly_employee_test)\n"
   ]
  },
  {
   "cell_type": "code",
   "execution_count": 19,
   "id": "a1865aea-e634-4cd5-b94e-43bb037d11c1",
   "metadata": {},
   "outputs": [
    {
     "data": {
      "text/plain": [
       "Subset selection object\n",
       "Call: regsubsets.formula(x = LeaveOrNot ~ ., nvmax = NULL, data = ly_employee_train, \n",
       "    method = \"forward\")\n",
       "11 Variables  (and intercept)\n",
       "                          Forced in Forced out\n",
       "EducationMasters              FALSE      FALSE\n",
       "EducationPHD                  FALSE      FALSE\n",
       "JoiningYear                   FALSE      FALSE\n",
       "CityNew Delhi                 FALSE      FALSE\n",
       "CityPune                      FALSE      FALSE\n",
       "PaymentTier.L                 FALSE      FALSE\n",
       "PaymentTier.Q                 FALSE      FALSE\n",
       "Age                           FALSE      FALSE\n",
       "GenderMale                    FALSE      FALSE\n",
       "EverBenchedYes                FALSE      FALSE\n",
       "ExperienceInCurrentDomain     FALSE      FALSE\n",
       "1 subsets of each size up to 11\n",
       "Selection Algorithm: forward\n",
       "          EducationMasters EducationPHD JoiningYear CityNew Delhi CityPune\n",
       "1  ( 1 )  \" \"              \" \"          \" \"         \" \"           \" \"     \n",
       "2  ( 1 )  \" \"              \" \"          \" \"         \" \"           \" \"     \n",
       "3  ( 1 )  \" \"              \" \"          \"*\"         \" \"           \" \"     \n",
       "4  ( 1 )  \" \"              \" \"          \"*\"         \" \"           \"*\"     \n",
       "5  ( 1 )  \" \"              \" \"          \"*\"         \" \"           \"*\"     \n",
       "6  ( 1 )  \"*\"              \" \"          \"*\"         \" \"           \"*\"     \n",
       "7  ( 1 )  \"*\"              \" \"          \"*\"         \"*\"           \"*\"     \n",
       "8  ( 1 )  \"*\"              \" \"          \"*\"         \"*\"           \"*\"     \n",
       "9  ( 1 )  \"*\"              \" \"          \"*\"         \"*\"           \"*\"     \n",
       "10  ( 1 ) \"*\"              \" \"          \"*\"         \"*\"           \"*\"     \n",
       "11  ( 1 ) \"*\"              \"*\"          \"*\"         \"*\"           \"*\"     \n",
       "          PaymentTier.L PaymentTier.Q Age GenderMale EverBenchedYes\n",
       "1  ( 1 )  \" \"           \"*\"           \" \" \" \"        \" \"           \n",
       "2  ( 1 )  \" \"           \"*\"           \" \" \"*\"        \" \"           \n",
       "3  ( 1 )  \" \"           \"*\"           \" \" \"*\"        \" \"           \n",
       "4  ( 1 )  \" \"           \"*\"           \" \" \"*\"        \" \"           \n",
       "5  ( 1 )  \" \"           \"*\"           \" \" \"*\"        \"*\"           \n",
       "6  ( 1 )  \" \"           \"*\"           \" \" \"*\"        \"*\"           \n",
       "7  ( 1 )  \" \"           \"*\"           \" \" \"*\"        \"*\"           \n",
       "8  ( 1 )  \" \"           \"*\"           \"*\" \"*\"        \"*\"           \n",
       "9  ( 1 )  \" \"           \"*\"           \"*\" \"*\"        \"*\"           \n",
       "10  ( 1 ) \"*\"           \"*\"           \"*\" \"*\"        \"*\"           \n",
       "11  ( 1 ) \"*\"           \"*\"           \"*\" \"*\"        \"*\"           \n",
       "          ExperienceInCurrentDomain\n",
       "1  ( 1 )  \" \"                      \n",
       "2  ( 1 )  \" \"                      \n",
       "3  ( 1 )  \" \"                      \n",
       "4  ( 1 )  \" \"                      \n",
       "5  ( 1 )  \" \"                      \n",
       "6  ( 1 )  \" \"                      \n",
       "7  ( 1 )  \" \"                      \n",
       "8  ( 1 )  \" \"                      \n",
       "9  ( 1 )  \"*\"                      \n",
       "10  ( 1 ) \"*\"                      \n",
       "11  ( 1 ) \"*\"                      "
      ]
     },
     "metadata": {},
     "output_type": "display_data"
    }
   ],
   "source": [
    "###using forward selection to find the variables to best fit predict modeling\n",
    "employee_forward_sel <- regsubsets(x = LeaveOrNot ~ ., nvmax = NULL,\n",
    "                                  data = ly_employee_train,\n",
    "                                  method = \"forward\")\n",
    "\n",
    "employee_forward_summary <- summary(employee_forward_sel)\n",
    "employee_forward_summary"
   ]
  },
  {
   "cell_type": "code",
   "execution_count": 20,
   "id": "3c87e757-d847-4447-972f-4fd55825760a",
   "metadata": {},
   "outputs": [
    {
     "data": {
      "text/html": [
       "<table class=\"dataframe\">\n",
       "<caption>A tibble: 11 × 6</caption>\n",
       "<thead>\n",
       "\t<tr><th scope=col>n_input_variables</th><th scope=col>RSQ</th><th scope=col>RSS</th><th scope=col>ADJ_R2</th><th scope=col>Cp</th><th scope=col>BIC</th></tr>\n",
       "\t<tr><th scope=col>&lt;int&gt;</th><th scope=col>&lt;dbl&gt;</th><th scope=col>&lt;dbl&gt;</th><th scope=col>&lt;dbl&gt;</th><th scope=col>&lt;dbl&gt;</th><th scope=col>&lt;dbl&gt;</th></tr>\n",
       "</thead>\n",
       "<tbody>\n",
       "\t<tr><td> 1</td><td>0.06544388</td><td>684.1186</td><td>0.06515677</td><td>313.01063</td><td>-204.2684</td></tr>\n",
       "\t<tr><td> 2</td><td>0.08796898</td><td>667.6297</td><td>0.08740842</td><td>229.06103</td><td>-275.6430</td></tr>\n",
       "\t<tr><td> 3</td><td>0.10757788</td><td>653.2755</td><td>0.10675486</td><td>156.23883</td><td>-338.3445</td></tr>\n",
       "\t<tr><td> 4</td><td>0.12504012</td><td>640.4927</td><td>0.12396391</td><td> 91.60770</td><td>-394.6183</td></tr>\n",
       "\t<tr><td> 5</td><td>0.13096820</td><td>636.1532</td><td>0.12963164</td><td> 70.98776</td><td>-408.6718</td></tr>\n",
       "\t<tr><td> 6</td><td>0.13700853</td><td>631.7315</td><td>0.13541531</td><td> 49.93951</td><td>-423.3005</td></tr>\n",
       "\t<tr><td> 7</td><td>0.14322972</td><td>627.1774</td><td>0.14138380</td><td> 28.20113</td><td>-438.7763</td></tr>\n",
       "\t<tr><td> 8</td><td>0.14711021</td><td>624.3368</td><td>0.14500950</td><td> 15.39425</td><td>-445.4729</td></tr>\n",
       "\t<tr><td> 9</td><td>0.14899282</td><td>622.9587</td><td>0.14663401</td><td> 10.21071</td><td>-444.5816</td></tr>\n",
       "\t<tr><td>10</td><td>0.14941450</td><td>622.6500</td><td>0.14679409</td><td> 10.60171</td><td>-438.1073</td></tr>\n",
       "\t<tr><td>11</td><td>0.14957219</td><td>622.5346</td><td>0.14668939</td><td> 12.00000</td><td>-430.6226</td></tr>\n",
       "</tbody>\n",
       "</table>\n"
      ],
      "text/latex": [
       "A tibble: 11 × 6\n",
       "\\begin{tabular}{llllll}\n",
       " n\\_input\\_variables & RSQ & RSS & ADJ\\_R2 & Cp & BIC\\\\\n",
       " <int> & <dbl> & <dbl> & <dbl> & <dbl> & <dbl>\\\\\n",
       "\\hline\n",
       "\t  1 & 0.06544388 & 684.1186 & 0.06515677 & 313.01063 & -204.2684\\\\\n",
       "\t  2 & 0.08796898 & 667.6297 & 0.08740842 & 229.06103 & -275.6430\\\\\n",
       "\t  3 & 0.10757788 & 653.2755 & 0.10675486 & 156.23883 & -338.3445\\\\\n",
       "\t  4 & 0.12504012 & 640.4927 & 0.12396391 &  91.60770 & -394.6183\\\\\n",
       "\t  5 & 0.13096820 & 636.1532 & 0.12963164 &  70.98776 & -408.6718\\\\\n",
       "\t  6 & 0.13700853 & 631.7315 & 0.13541531 &  49.93951 & -423.3005\\\\\n",
       "\t  7 & 0.14322972 & 627.1774 & 0.14138380 &  28.20113 & -438.7763\\\\\n",
       "\t  8 & 0.14711021 & 624.3368 & 0.14500950 &  15.39425 & -445.4729\\\\\n",
       "\t  9 & 0.14899282 & 622.9587 & 0.14663401 &  10.21071 & -444.5816\\\\\n",
       "\t 10 & 0.14941450 & 622.6500 & 0.14679409 &  10.60171 & -438.1073\\\\\n",
       "\t 11 & 0.14957219 & 622.5346 & 0.14668939 &  12.00000 & -430.6226\\\\\n",
       "\\end{tabular}\n"
      ],
      "text/markdown": [
       "\n",
       "A tibble: 11 × 6\n",
       "\n",
       "| n_input_variables &lt;int&gt; | RSQ &lt;dbl&gt; | RSS &lt;dbl&gt; | ADJ_R2 &lt;dbl&gt; | Cp &lt;dbl&gt; | BIC &lt;dbl&gt; |\n",
       "|---|---|---|---|---|---|\n",
       "|  1 | 0.06544388 | 684.1186 | 0.06515677 | 313.01063 | -204.2684 |\n",
       "|  2 | 0.08796898 | 667.6297 | 0.08740842 | 229.06103 | -275.6430 |\n",
       "|  3 | 0.10757788 | 653.2755 | 0.10675486 | 156.23883 | -338.3445 |\n",
       "|  4 | 0.12504012 | 640.4927 | 0.12396391 |  91.60770 | -394.6183 |\n",
       "|  5 | 0.13096820 | 636.1532 | 0.12963164 |  70.98776 | -408.6718 |\n",
       "|  6 | 0.13700853 | 631.7315 | 0.13541531 |  49.93951 | -423.3005 |\n",
       "|  7 | 0.14322972 | 627.1774 | 0.14138380 |  28.20113 | -438.7763 |\n",
       "|  8 | 0.14711021 | 624.3368 | 0.14500950 |  15.39425 | -445.4729 |\n",
       "|  9 | 0.14899282 | 622.9587 | 0.14663401 |  10.21071 | -444.5816 |\n",
       "| 10 | 0.14941450 | 622.6500 | 0.14679409 |  10.60171 | -438.1073 |\n",
       "| 11 | 0.14957219 | 622.5346 | 0.14668939 |  12.00000 | -430.6226 |\n",
       "\n"
      ],
      "text/plain": [
       "   n_input_variables RSQ        RSS      ADJ_R2     Cp        BIC      \n",
       "1   1                0.06544388 684.1186 0.06515677 313.01063 -204.2684\n",
       "2   2                0.08796898 667.6297 0.08740842 229.06103 -275.6430\n",
       "3   3                0.10757788 653.2755 0.10675486 156.23883 -338.3445\n",
       "4   4                0.12504012 640.4927 0.12396391  91.60770 -394.6183\n",
       "5   5                0.13096820 636.1532 0.12963164  70.98776 -408.6718\n",
       "6   6                0.13700853 631.7315 0.13541531  49.93951 -423.3005\n",
       "7   7                0.14322972 627.1774 0.14138380  28.20113 -438.7763\n",
       "8   8                0.14711021 624.3368 0.14500950  15.39425 -445.4729\n",
       "9   9                0.14899282 622.9587 0.14663401  10.21071 -444.5816\n",
       "10 10                0.14941450 622.6500 0.14679409  10.60171 -438.1073\n",
       "11 11                0.14957219 622.5346 0.14668939  12.00000 -430.6226"
      ]
     },
     "metadata": {},
     "output_type": "display_data"
    }
   ],
   "source": [
    "##store and examine different evaluation metrics to determine the best one in terms of its goodness of fit.\n",
    "employee_forward_summary_df <- tibble(\n",
    "    n_input_variables = 1:11,\n",
    "    RSQ = employee_forward_summary$rsq,\n",
    "    RSS = employee_forward_summary$rss,\n",
    "    ADJ_R2 = employee_forward_summary$adjr2,\n",
    "    Cp = employee_forward_summary$cp,\n",
    "    BIC = employee_forward_summary$bic,\n",
    ")\n",
    "employee_forward_summary_df"
   ]
  },
  {
   "cell_type": "code",
   "execution_count": 21,
   "id": "107e6a63-99ba-4a99-8d68-e0da2bf9a076",
   "metadata": {},
   "outputs": [
    {
     "data": {
      "text/html": [
       "<style>\n",
       ".list-inline {list-style: none; margin:0; padding: 0}\n",
       ".list-inline>li {display: inline-block}\n",
       ".list-inline>li:not(:last-child)::after {content: \"\\00b7\"; padding: 0 .5ex}\n",
       "</style>\n",
       "<ol class=list-inline><li>'EducationMasters'</li><li>'JoiningYear'</li><li>'CityNew Delhi'</li><li>'CityPune'</li><li>'PaymentTier.Q'</li><li>'Age'</li><li>'GenderMale'</li><li>'EverBenchedYes'</li><li>'ExperienceInCurrentDomain'</li></ol>\n"
      ],
      "text/latex": [
       "\\begin{enumerate*}\n",
       "\\item 'EducationMasters'\n",
       "\\item 'JoiningYear'\n",
       "\\item 'CityNew Delhi'\n",
       "\\item 'CityPune'\n",
       "\\item 'PaymentTier.Q'\n",
       "\\item 'Age'\n",
       "\\item 'GenderMale'\n",
       "\\item 'EverBenchedYes'\n",
       "\\item 'ExperienceInCurrentDomain'\n",
       "\\end{enumerate*}\n"
      ],
      "text/markdown": [
       "1. 'EducationMasters'\n",
       "2. 'JoiningYear'\n",
       "3. 'CityNew Delhi'\n",
       "4. 'CityPune'\n",
       "5. 'PaymentTier.Q'\n",
       "6. 'Age'\n",
       "7. 'GenderMale'\n",
       "8. 'EverBenchedYes'\n",
       "9. 'ExperienceInCurrentDomain'\n",
       "\n",
       "\n"
      ],
      "text/plain": [
       "[1] \"EducationMasters\"          \"JoiningYear\"              \n",
       "[3] \"CityNew Delhi\"             \"CityPune\"                 \n",
       "[5] \"PaymentTier.Q\"             \"Age\"                      \n",
       "[7] \"GenderMale\"                \"EverBenchedYes\"           \n",
       "[9] \"ExperienceInCurrentDomain\""
      ]
     },
     "metadata": {},
     "output_type": "display_data"
    }
   ],
   "source": [
    "#select the model that minimizes the Cp and present its predictor variables\n",
    "cp_min = which.min(employee_forward_summary$cp) \n",
    "\n",
    "selected_var <- names(coef(employee_forward_sel, cp_min))[-1]\n",
    "selected_var"
   ]
  },
  {
   "cell_type": "code",
   "execution_count": 22,
   "id": "6ac681d0-309f-403d-852f-b01c7dae866b",
   "metadata": {},
   "outputs": [
    {
     "data": {
      "text/html": [
       "<table class=\"dataframe\">\n",
       "<caption>A data.frame: 6 × 13</caption>\n",
       "<thead>\n",
       "\t<tr><th></th><th scope=col>Education</th><th scope=col>JoiningYear</th><th scope=col>City</th><th scope=col>PaymentTier</th><th scope=col>Age</th><th scope=col>Gender</th><th scope=col>EverBenched</th><th scope=col>ExperienceInCurrentDomain</th><th scope=col>LeaveOrNot</th><th scope=col>EducationMasters</th><th scope=col>CityNewDelhi</th><th scope=col>CityPune</th><th scope=col>PaymentTier.Q</th></tr>\n",
       "\t<tr><th></th><th scope=col>&lt;chr&gt;</th><th scope=col>&lt;dbl&gt;</th><th scope=col>&lt;chr&gt;</th><th scope=col>&lt;ord&gt;</th><th scope=col>&lt;dbl&gt;</th><th scope=col>&lt;chr&gt;</th><th scope=col>&lt;chr&gt;</th><th scope=col>&lt;dbl&gt;</th><th scope=col>&lt;ord&gt;</th><th scope=col>&lt;chr&gt;</th><th scope=col>&lt;chr&gt;</th><th scope=col>&lt;chr&gt;</th><th scope=col>&lt;chr&gt;</th></tr>\n",
       "</thead>\n",
       "<tbody>\n",
       "\t<tr><th scope=row>1</th><td>Bachelors</td><td>2015</td><td>Pune     </td><td>High  </td><td>28</td><td>Male</td><td>No</td><td>1</td><td>Not Leave</td><td>No </td><td>No </td><td>Yes</td><td>No </td></tr>\n",
       "\t<tr><th scope=row>2</th><td>Bachelors</td><td>2014</td><td>Bangalore</td><td>High  </td><td>29</td><td>Male</td><td>No</td><td>1</td><td>Not Leave</td><td>No </td><td>No </td><td>No </td><td>No </td></tr>\n",
       "\t<tr><th scope=row>3</th><td>Masters  </td><td>2017</td><td>New Delhi</td><td>High  </td><td>26</td><td>Male</td><td>No</td><td>4</td><td>Leave    </td><td>Yes</td><td>Yes</td><td>No </td><td>No </td></tr>\n",
       "\t<tr><th scope=row>4</th><td>Bachelors</td><td>2015</td><td>Bangalore</td><td>High  </td><td>25</td><td>Male</td><td>No</td><td>3</td><td>Not Leave</td><td>No </td><td>No </td><td>No </td><td>No </td></tr>\n",
       "\t<tr><th scope=row>5</th><td>Masters  </td><td>2017</td><td>New Delhi</td><td>Median</td><td>31</td><td>Male</td><td>No</td><td>4</td><td>Not Leave</td><td>Yes</td><td>Yes</td><td>No </td><td>Yes</td></tr>\n",
       "\t<tr><th scope=row>6</th><td>Bachelors</td><td>2013</td><td>Bangalore</td><td>High  </td><td>26</td><td>Male</td><td>No</td><td>4</td><td>Not Leave</td><td>No </td><td>No </td><td>No </td><td>No </td></tr>\n",
       "</tbody>\n",
       "</table>\n"
      ],
      "text/latex": [
       "A data.frame: 6 × 13\n",
       "\\begin{tabular}{r|lllllllllllll}\n",
       "  & Education & JoiningYear & City & PaymentTier & Age & Gender & EverBenched & ExperienceInCurrentDomain & LeaveOrNot & EducationMasters & CityNewDelhi & CityPune & PaymentTier.Q\\\\\n",
       "  & <chr> & <dbl> & <chr> & <ord> & <dbl> & <chr> & <chr> & <dbl> & <ord> & <chr> & <chr> & <chr> & <chr>\\\\\n",
       "\\hline\n",
       "\t1 & Bachelors & 2015 & Pune      & High   & 28 & Male & No & 1 & Not Leave & No  & No  & Yes & No \\\\\n",
       "\t2 & Bachelors & 2014 & Bangalore & High   & 29 & Male & No & 1 & Not Leave & No  & No  & No  & No \\\\\n",
       "\t3 & Masters   & 2017 & New Delhi & High   & 26 & Male & No & 4 & Leave     & Yes & Yes & No  & No \\\\\n",
       "\t4 & Bachelors & 2015 & Bangalore & High   & 25 & Male & No & 3 & Not Leave & No  & No  & No  & No \\\\\n",
       "\t5 & Masters   & 2017 & New Delhi & Median & 31 & Male & No & 4 & Not Leave & Yes & Yes & No  & Yes\\\\\n",
       "\t6 & Bachelors & 2013 & Bangalore & High   & 26 & Male & No & 4 & Not Leave & No  & No  & No  & No \\\\\n",
       "\\end{tabular}\n"
      ],
      "text/markdown": [
       "\n",
       "A data.frame: 6 × 13\n",
       "\n",
       "| <!--/--> | Education &lt;chr&gt; | JoiningYear &lt;dbl&gt; | City &lt;chr&gt; | PaymentTier &lt;ord&gt; | Age &lt;dbl&gt; | Gender &lt;chr&gt; | EverBenched &lt;chr&gt; | ExperienceInCurrentDomain &lt;dbl&gt; | LeaveOrNot &lt;ord&gt; | EducationMasters &lt;chr&gt; | CityNewDelhi &lt;chr&gt; | CityPune &lt;chr&gt; | PaymentTier.Q &lt;chr&gt; |\n",
       "|---|---|---|---|---|---|---|---|---|---|---|---|---|---|\n",
       "| 1 | Bachelors | 2015 | Pune      | High   | 28 | Male | No | 1 | Not Leave | No  | No  | Yes | No  |\n",
       "| 2 | Bachelors | 2014 | Bangalore | High   | 29 | Male | No | 1 | Not Leave | No  | No  | No  | No  |\n",
       "| 3 | Masters   | 2017 | New Delhi | High   | 26 | Male | No | 4 | Leave     | Yes | Yes | No  | No  |\n",
       "| 4 | Bachelors | 2015 | Bangalore | High   | 25 | Male | No | 3 | Not Leave | No  | No  | No  | No  |\n",
       "| 5 | Masters   | 2017 | New Delhi | Median | 31 | Male | No | 4 | Not Leave | Yes | Yes | No  | Yes |\n",
       "| 6 | Bachelors | 2013 | Bangalore | High   | 26 | Male | No | 4 | Not Leave | No  | No  | No  | No  |\n",
       "\n"
      ],
      "text/plain": [
       "  Education JoiningYear City      PaymentTier Age Gender EverBenched\n",
       "1 Bachelors 2015        Pune      High        28  Male   No         \n",
       "2 Bachelors 2014        Bangalore High        29  Male   No         \n",
       "3 Masters   2017        New Delhi High        26  Male   No         \n",
       "4 Bachelors 2015        Bangalore High        25  Male   No         \n",
       "5 Masters   2017        New Delhi Median      31  Male   No         \n",
       "6 Bachelors 2013        Bangalore High        26  Male   No         \n",
       "  ExperienceInCurrentDomain LeaveOrNot EducationMasters CityNewDelhi CityPune\n",
       "1 1                         Not Leave  No               No           Yes     \n",
       "2 1                         Not Leave  No               No           No      \n",
       "3 4                         Leave      Yes              Yes          No      \n",
       "4 3                         Not Leave  No               No           No      \n",
       "5 4                         Not Leave  Yes              Yes          No      \n",
       "6 4                         Not Leave  No               No           No      \n",
       "  PaymentTier.Q\n",
       "1 No           \n",
       "2 No           \n",
       "3 No           \n",
       "4 No           \n",
       "5 Yes          \n",
       "6 No           "
      ]
     },
     "metadata": {},
     "output_type": "display_data"
    }
   ],
   "source": [
    "##rearrange the training dataset to ensure it contain the best fiting variables\n",
    "rearrange_training <- ly_employee_train |>\n",
    "mutate(EducationMasters = ifelse(Education == \"Masters\", \"Yes\", \"No\"))|>\n",
    "mutate(CityNewDelhi = ifelse(City == \"New Delhi\", \"Yes\", \"No\"))|>\n",
    "mutate(CityPune = ifelse(City == \"Pune\", \"Yes\", \"No\"))|>\n",
    "mutate(PaymentTier.Q = ifelse(PaymentTier == \"Median\", \"Yes\", \"No\"))\n",
    "head(rearrange_training)"
   ]
  },
  {
   "cell_type": "code",
   "execution_count": 23,
   "id": "abd38b45-8c17-49a4-9931-6283d263b67a",
   "metadata": {},
   "outputs": [
    {
     "data": {
      "text/plain": [
       "\n",
       "Call:\n",
       "glm(formula = LeaveOrNot ~ EducationMasters + JoiningYear + CityNewDelhi + \n",
       "    CityPune + PaymentTier.Q + Age + Gender + EverBenched + ExperienceInCurrentDomain, \n",
       "    family = binomial, data = rearrange_training)\n",
       "\n",
       "Coefficients:\n",
       "                            Estimate Std. Error z value Pr(>|z|)    \n",
       "(Intercept)               -3.871e+02  4.613e+01  -8.392  < 2e-16 ***\n",
       "EducationMastersYes        6.539e-01  1.112e-01   5.879 4.13e-09 ***\n",
       "JoiningYear                1.925e-01  2.290e-02   8.404  < 2e-16 ***\n",
       "CityNewDelhiYes           -5.292e-01  1.154e-01  -4.585 4.53e-06 ***\n",
       "CityPuneYes                5.235e-01  1.019e-01   5.137 2.79e-07 ***\n",
       "PaymentTier.QYes           7.146e-01  1.097e-01   6.516 7.23e-11 ***\n",
       "Age                       -3.566e-02  8.533e-03  -4.180 2.92e-05 ***\n",
       "GenderMale                -8.732e-01  8.438e-02 -10.349  < 2e-16 ***\n",
       "EverBenchedYes             5.765e-01  1.255e-01   4.595 4.32e-06 ***\n",
       "ExperienceInCurrentDomain -7.030e-02  2.616e-02  -2.687  0.00721 ** \n",
       "---\n",
       "Signif. codes:  0 ‘***’ 0.001 ‘**’ 0.01 ‘*’ 0.05 ‘.’ 0.1 ‘ ’ 1\n",
       "\n",
       "(Dispersion parameter for binomial family taken to be 1)\n",
       "\n",
       "    Null deviance: 4180.5  on 3256  degrees of freedom\n",
       "Residual deviance: 3681.4  on 3247  degrees of freedom\n",
       "AIC: 3701.4\n",
       "\n",
       "Number of Fisher Scoring iterations: 4\n"
      ]
     },
     "metadata": {},
     "output_type": "display_data"
    }
   ],
   "source": [
    "##employing logistic regression, using binomial distribution\n",
    "rearrange_training_log <- \n",
    "    glm(formula = LeaveOrNot ~ EducationMasters+JoiningYear+CityNewDelhi+\n",
    "        CityPune+PaymentTier.Q+Age+Gender+EverBenched+ExperienceInCurrentDomain,\n",
    "        data = rearrange_training,\n",
    "        family = binomial)\n",
    "\n",
    "summary(rearrange_training_log)"
   ]
  },
  {
   "cell_type": "code",
   "execution_count": 24,
   "id": "96d9ff5d-4c4e-4e9a-8d21-e8eb22da5e46",
   "metadata": {},
   "outputs": [],
   "source": [
    "##rearrange the testing dataset to ensure it contain the best fiting variables\n",
    "rearrange_testing<-ly_employee_test|>\n",
    "mutate(EducationMasters = ifelse(Education == \"Masters\", \"Yes\", \"No\"))|>\n",
    "mutate(CityNewDelhi = ifelse(City == \"New Delhi\", \"Yes\", \"No\"))|>\n",
    "mutate(CityPune = ifelse(City == \"Pune\", \"Yes\", \"No\"))|>\n",
    "mutate(PaymentTier.Q = ifelse(PaymentTier == \"Median\", \"Yes\", \"No\"))\n",
    "\n",
    "                              "
   ]
  },
  {
   "cell_type": "code",
   "execution_count": 25,
   "id": "716ea7da-55f0-4939-b937-5f424dde0434",
   "metadata": {},
   "outputs": [
    {
     "data": {
      "text/html": [
       "0.435837095628896"
      ],
      "text/latex": [
       "0.435837095628896"
      ],
      "text/markdown": [
       "0.435837095628896"
      ],
      "text/plain": [
       "[1] 0.4358371"
      ]
     },
     "metadata": {},
     "output_type": "display_data"
    }
   ],
   "source": [
    "##Use the resulting predictive values to compute the error and the RMSE of the predictive values based on training set\n",
    "predicted_probabilities_training <- predict(rearrange_training_log, \n",
    "                                   newdata=rearrange_training,\n",
    "                                   type = \"response\")\n",
    "\n",
    "\n",
    "rearrange_training<-mutate(rearrange_training,\n",
    "                          LeaveOrNot_P = ifelse(LeaveOrNot == \"Leave\", 1, 0))\n",
    "\n",
    "#true probability of leave\n",
    "p_true_training <- rearrange_training$LeaveOrNot_P\n",
    "\n",
    "#calculate residuals\n",
    "residuals_training <- p_true_training - predicted_probabilities_training\n",
    "\n",
    "rmse_red_glm_training<-sqrt(mean(residuals_training^2))\n",
    "\n",
    "rmse_red_glm_training"
   ]
  },
  {
   "cell_type": "code",
   "execution_count": 26,
   "id": "d5aa5164-e316-40db-a2f0-81a7fdd68286",
   "metadata": {},
   "outputs": [
    {
     "data": {
      "text/html": [
       "<style>\n",
       ".dl-inline {width: auto; margin:0; padding: 0}\n",
       ".dl-inline>dt, .dl-inline>dd {float: none; width: auto; display: inline-block}\n",
       ".dl-inline>dt::after {content: \":\\0020\"; padding-right: .5ex}\n",
       ".dl-inline>dt:not(:first-of-type) {padding-left: .5ex}\n",
       "</style><dl class=dl-inline><dt>1</dt><dd>0</dd><dt>2</dt><dd>0</dd><dt>3</dt><dd>0</dd><dt>4</dt><dd>0</dd><dt>5</dt><dd>0</dd><dt>6</dt><dd>0</dd></dl>\n"
      ],
      "text/latex": [
       "\\begin{description*}\n",
       "\\item[1] 0\n",
       "\\item[2] 0\n",
       "\\item[3] 0\n",
       "\\item[4] 0\n",
       "\\item[5] 0\n",
       "\\item[6] 0\n",
       "\\end{description*}\n"
      ],
      "text/markdown": [
       "1\n",
       ":   02\n",
       ":   03\n",
       ":   04\n",
       ":   05\n",
       ":   06\n",
       ":   0\n",
       "\n"
      ],
      "text/plain": [
       "1 2 3 4 5 6 \n",
       "0 0 0 0 0 0 "
      ]
     },
     "metadata": {},
     "output_type": "display_data"
    }
   ],
   "source": [
    "prediction = round(predict(rearrange_training_log, newdata = rearrange_testing, type = \"response\"), 0)\n",
    "head(prediction)"
   ]
  },
  {
   "cell_type": "code",
   "execution_count": 27,
   "id": "60471e34-671f-44ef-82e2-d11e39ba4e4c",
   "metadata": {},
   "outputs": [
    {
     "data": {
      "text/plain": [
       "Confusion Matrix and Statistics\n",
       "\n",
       "          Reference\n",
       "Prediction   0   1\n",
       "         0 825 289\n",
       "         1  82 200\n",
       "                                          \n",
       "               Accuracy : 0.7342          \n",
       "                 95% CI : (0.7102, 0.7573)\n",
       "    No Information Rate : 0.6497          \n",
       "    P-Value [Acc > NIR] : 8.142e-12       \n",
       "                                          \n",
       "                  Kappa : 0.353           \n",
       "                                          \n",
       " Mcnemar's Test P-Value : < 2.2e-16       \n",
       "                                          \n",
       "            Sensitivity : 0.4090          \n",
       "            Specificity : 0.9096          \n",
       "         Pos Pred Value : 0.7092          \n",
       "         Neg Pred Value : 0.7406          \n",
       "             Prevalence : 0.3503          \n",
       "         Detection Rate : 0.1433          \n",
       "   Detection Prevalence : 0.2020          \n",
       "      Balanced Accuracy : 0.6593          \n",
       "                                          \n",
       "       'Positive' Class : 1               \n",
       "                                          "
      ]
     },
     "metadata": {},
     "output_type": "display_data"
    }
   ],
   "source": [
    "conf_matrix <- \n",
    "    confusionMatrix(\n",
    "    data = as.factor(prediction),\n",
    "    reference = as.factor(employee_test$LeaveOrNot),\n",
    "    positive = \"1\"\n",
    ")\n",
    "conf_matrix"
   ]
  },
  {
   "cell_type": "code",
   "execution_count": 28,
   "id": "bf9393b6-737c-4084-9aec-de806273aa88",
   "metadata": {},
   "outputs": [
    {
     "data": {
      "text/html": [
       "<strong>Accuracy:</strong> 0.734240687679083"
      ],
      "text/latex": [
       "\\textbf{Accuracy:} 0.734240687679083"
      ],
      "text/markdown": [
       "**Accuracy:** 0.734240687679083"
      ],
      "text/plain": [
       " Accuracy \n",
       "0.7342407 "
      ]
     },
     "metadata": {},
     "output_type": "display_data"
    }
   ],
   "source": [
    "ols_forward_acc <- conf_matrix$overall['Accuracy']\n",
    "ols_forward_acc"
   ]
  },
  {
   "cell_type": "code",
   "execution_count": 29,
   "id": "9711ac37-f7f2-4f59-90f2-8d19a8606689",
   "metadata": {},
   "outputs": [
    {
     "data": {
      "text/html": [
       "<table class=\"dataframe\">\n",
       "<caption>A data.frame: 3 × 2</caption>\n",
       "<thead>\n",
       "\t<tr><th></th><th scope=col>model</th><th scope=col>accuracy</th></tr>\n",
       "\t<tr><th></th><th scope=col>&lt;chr&gt;</th><th scope=col>&lt;dbl&gt;</th></tr>\n",
       "</thead>\n",
       "<tbody>\n",
       "\t<tr><th scope=row>Accuracy</th><td>LASSO Selection OLS    </td><td>0.7306590</td></tr>\n",
       "\t<tr><th scope=row>...2</th><td>LASSO Direct           </td><td>0.7156160</td></tr>\n",
       "\t<tr><th scope=row>...3</th><td>OLS w/Forward Selection</td><td>0.7342407</td></tr>\n",
       "</tbody>\n",
       "</table>\n"
      ],
      "text/latex": [
       "A data.frame: 3 × 2\n",
       "\\begin{tabular}{r|ll}\n",
       "  & model & accuracy\\\\\n",
       "  & <chr> & <dbl>\\\\\n",
       "\\hline\n",
       "\tAccuracy & LASSO Selection OLS     & 0.7306590\\\\\n",
       "\t...2 & LASSO Direct            & 0.7156160\\\\\n",
       "\t...3 & OLS w/Forward Selection & 0.7342407\\\\\n",
       "\\end{tabular}\n"
      ],
      "text/markdown": [
       "\n",
       "A data.frame: 3 × 2\n",
       "\n",
       "| <!--/--> | model &lt;chr&gt; | accuracy &lt;dbl&gt; |\n",
       "|---|---|---|\n",
       "| Accuracy | LASSO Selection OLS     | 0.7306590 |\n",
       "| ...2 | LASSO Direct            | 0.7156160 |\n",
       "| ...3 | OLS w/Forward Selection | 0.7342407 |\n",
       "\n"
      ],
      "text/plain": [
       "         model                   accuracy \n",
       "Accuracy LASSO Selection OLS     0.7306590\n",
       "...2     LASSO Direct            0.7156160\n",
       "...3     OLS w/Forward Selection 0.7342407"
      ]
     },
     "metadata": {},
     "output_type": "display_data"
    }
   ],
   "source": [
    "results <- results %>% add_row(model = \"OLS w/Forward Selection\", accuracy = ols_forward_acc)\n",
    "results"
   ]
  },
  {
   "cell_type": "markdown",
   "id": "1d42a36f-881b-4458-bcf8-8a6a811c357a",
   "metadata": {},
   "source": [
    "## Ridge Model"
   ]
  },
  {
   "cell_type": "code",
   "execution_count": 30,
   "id": "7ae4fe64-79bb-4eac-b095-354bdc2b3610",
   "metadata": {},
   "outputs": [
    {
     "data": {
      "text/plain": [
       "\n",
       "Call:  cv.glmnet(x = model_matrix_X_train, y = matrix_Y_train, type.measure = \"auc\",      nfolds = 10, alpha = 0, family = \"binomial\") \n",
       "\n",
       "Measure: AUC \n",
       "\n",
       "    Lambda Index Measure       SE Nonzero\n",
       "min 0.0121   100  0.7310 0.006852      11\n",
       "1se 0.5011    60  0.7242 0.008972      11"
      ]
     },
     "metadata": {},
     "output_type": "display_data"
    }
   ],
   "source": [
    "employee_cv_lambda_ridge <- \n",
    "  cv.glmnet(\n",
    "       x = model_matrix_X_train, \n",
    "       y = matrix_Y_train,\n",
    "       alpha = 0,\n",
    "       family = \"binomial\",\n",
    "       type.measure = \"auc\",\n",
    "       nfolds = 10)\n",
    "\n",
    "employee_cv_lambda_ridge"
   ]
  },
  {
   "cell_type": "code",
   "execution_count": 31,
   "id": "5b6474e0-10b0-4694-a9d5-4a1c4eb6185b",
   "metadata": {},
   "outputs": [
    {
     "data": {
      "text/plain": [
       "12 x 1 sparse Matrix of class \"dgCMatrix\"\n",
       "                                     s0\n",
       "(Intercept)               -361.80222684\n",
       "EducationMasters             0.59466898\n",
       "EducationPHD                 0.08283041\n",
       "JoiningYear                  0.17993174\n",
       "CityNew Delhi               -0.46870155\n",
       "CityPune                     0.50088821\n",
       "PaymentTier2                 0.49153196\n",
       "PaymentTier3                -0.24690636\n",
       "Age                         -0.03249241\n",
       "GenderMale                  -0.79555833\n",
       "EverBenchedYes               0.54868707\n",
       "ExperienceInCurrentDomain   -0.06389274"
      ]
     },
     "metadata": {},
     "output_type": "display_data"
    }
   ],
   "source": [
    "employee_ridge_max_AUC <- \n",
    "  glmnet(\n",
    "  x = model_matrix_X_train, y = matrix_Y_train,\n",
    "  alpha = 0,\n",
    "  family = \"binomial\",\n",
    "  lambda = employee_cv_lambda_ridge$lambda.min\n",
    ")\n",
    "\n",
    "coef(employee_ridge_max_AUC)"
   ]
  },
  {
   "cell_type": "code",
   "execution_count": 32,
   "id": "4e9758fb-9ed3-4418-ab2e-8ab37d94f4c4",
   "metadata": {},
   "outputs": [
    {
     "data": {
      "text/html": [
       "<table class=\"dataframe\">\n",
       "<caption>A matrix: 5 × 1 of type dbl</caption>\n",
       "<thead>\n",
       "\t<tr><th></th><th scope=col>s0</th></tr>\n",
       "</thead>\n",
       "<tbody>\n",
       "\t<tr><th scope=row>1</th><td>0</td></tr>\n",
       "\t<tr><th scope=row>2</th><td>0</td></tr>\n",
       "\t<tr><th scope=row>3</th><td>0</td></tr>\n",
       "\t<tr><th scope=row>4</th><td>0</td></tr>\n",
       "\t<tr><th scope=row>5</th><td>0</td></tr>\n",
       "</tbody>\n",
       "</table>\n"
      ],
      "text/latex": [
       "A matrix: 5 × 1 of type dbl\n",
       "\\begin{tabular}{r|l}\n",
       "  & s0\\\\\n",
       "\\hline\n",
       "\t1 & 0\\\\\n",
       "\t2 & 0\\\\\n",
       "\t3 & 0\\\\\n",
       "\t4 & 0\\\\\n",
       "\t5 & 0\\\\\n",
       "\\end{tabular}\n"
      ],
      "text/markdown": [
       "\n",
       "A matrix: 5 × 1 of type dbl\n",
       "\n",
       "| <!--/--> | s0 |\n",
       "|---|---|\n",
       "| 1 | 0 |\n",
       "| 2 | 0 |\n",
       "| 3 | 0 |\n",
       "| 4 | 0 |\n",
       "| 5 | 0 |\n",
       "\n"
      ],
      "text/plain": [
       "  s0\n",
       "1 0 \n",
       "2 0 \n",
       "3 0 \n",
       "4 0 \n",
       "5 0 "
      ]
     },
     "metadata": {},
     "output_type": "display_data"
    }
   ],
   "source": [
    "employee_class <- \n",
    "  predict(employee_ridge_max_AUC, model_matrix_X_train, type = \"response\") %>% round(0)\n",
    "head(employee_class, 5)"
   ]
  },
  {
   "cell_type": "code",
   "execution_count": 33,
   "id": "01deafce-7992-4b52-b14b-e3772430ffff",
   "metadata": {},
   "outputs": [
    {
     "data": {
      "text/plain": [
       "Confusion Matrix and Statistics\n",
       "\n",
       "          Reference\n",
       "Prediction    0    1\n",
       "         0 1934  691\n",
       "         1  212  420\n",
       "                                         \n",
       "               Accuracy : 0.7228         \n",
       "                 95% CI : (0.707, 0.7381)\n",
       "    No Information Rate : 0.6589         \n",
       "    P-Value [Acc > NIR] : 3.106e-15      \n",
       "                                         \n",
       "                  Kappa : 0.3117         \n",
       "                                         \n",
       " Mcnemar's Test P-Value : < 2.2e-16      \n",
       "                                         \n",
       "            Sensitivity : 0.3780         \n",
       "            Specificity : 0.9012         \n",
       "         Pos Pred Value : 0.6646         \n",
       "         Neg Pred Value : 0.7368         \n",
       "             Prevalence : 0.3411         \n",
       "         Detection Rate : 0.1290         \n",
       "   Detection Prevalence : 0.1940         \n",
       "      Balanced Accuracy : 0.6396         \n",
       "                                         \n",
       "       'Positive' Class : 1              \n",
       "                                         "
      ]
     },
     "metadata": {},
     "output_type": "display_data"
    }
   ],
   "source": [
    "employee_confusion_matrix <- \n",
    "    confusionMatrix(\n",
    "    data = as.factor(employee_class),\n",
    "    reference = as.factor(employee_train$LeaveOrNot),\n",
    "    positive = \"1\"\n",
    ")\n",
    "\n",
    "employee_confusion_matrix"
   ]
  },
  {
   "cell_type": "code",
   "execution_count": 34,
   "id": "621a29a2-a895-4b71-becd-a8027fb34a16",
   "metadata": {},
   "outputs": [
    {
     "name": "stderr",
     "output_type": "stream",
     "text": [
      "Setting levels: control = 0, case = 1\n",
      "\n",
      "Setting direction: controls < cases\n",
      "\n"
     ]
    },
    {
     "data": {
      "text/html": [
       "-0.392400015089886"
      ],
      "text/latex": [
       "-0.392400015089886"
      ],
      "text/markdown": [
       "-0.392400015089886"
      ],
      "text/plain": [
       "[1] -0.3924"
      ]
     },
     "metadata": {},
     "output_type": "display_data"
    }
   ],
   "source": [
    "options(repr.plot.width = 8, repr.plot.height = 8)\n",
    "\n",
    "ROC_ridge <- roc(\n",
    "  response = employee_train$LeaveOrNot,\n",
    "  predictor = predict(employee_ridge_max_AUC, newx = model_matrix_X_train)[,\"s0\"])\n",
    "\n",
    "best_threshold <- coords(ROC_ridge, \"best\")[\"threshold\"] %>% pull()\n",
    "best_threshold"
   ]
  },
  {
   "cell_type": "code",
   "execution_count": 35,
   "id": "faeb8fcb-993c-4d4d-b40f-16b86b3ba1d2",
   "metadata": {},
   "outputs": [
    {
     "data": {
      "text/plain": [
       "Confusion Matrix and Statistics\n",
       "\n",
       "          Reference\n",
       "Prediction    0    1\n",
       "         0 1761  495\n",
       "         1  385  616\n",
       "                                         \n",
       "               Accuracy : 0.7298         \n",
       "                 95% CI : (0.7142, 0.745)\n",
       "    No Information Rate : 0.6589         \n",
       "    P-Value [Acc > NIR] : < 2.2e-16      \n",
       "                                         \n",
       "                  Kappa : 0.3842         \n",
       "                                         \n",
       " Mcnemar's Test P-Value : 0.0002384      \n",
       "                                         \n",
       "            Sensitivity : 0.5545         \n",
       "            Specificity : 0.8206         \n",
       "         Pos Pred Value : 0.6154         \n",
       "         Neg Pred Value : 0.7806         \n",
       "             Prevalence : 0.3411         \n",
       "         Detection Rate : 0.1891         \n",
       "   Detection Prevalence : 0.3073         \n",
       "      Balanced Accuracy : 0.6875         \n",
       "                                         \n",
       "       'Positive' Class : 1              \n",
       "                                         "
      ]
     },
     "metadata": {},
     "output_type": "display_data"
    }
   ],
   "source": [
    "train_pred <- as.integer(predict(employee_ridge_max_AUC, newx = model_matrix_X_train, newy = matrix_Y_train) > best_threshold)\n",
    "\n",
    "employee_confusion_matrix <- \n",
    "    confusionMatrix(\n",
    "    data = as.factor(train_pred),\n",
    "    reference = as.factor(employee_train$LeaveOrNot),\n",
    "    positive = \"1\"\n",
    ")\n",
    "employee_confusion_matrix"
   ]
  },
  {
   "cell_type": "code",
   "execution_count": 36,
   "id": "3080de12-7427-4f2d-b44f-4cccc3d25487",
   "metadata": {},
   "outputs": [
    {
     "data": {
      "text/plain": [
       "Confusion Matrix and Statistics\n",
       "\n",
       "          Reference\n",
       "Prediction   0   1\n",
       "         0 829 296\n",
       "         1  78 193\n",
       "                                         \n",
       "               Accuracy : 0.7321         \n",
       "                 95% CI : (0.708, 0.7552)\n",
       "    No Information Rate : 0.6497         \n",
       "    P-Value [Acc > NIR] : 2.698e-11      \n",
       "                                         \n",
       "                  Kappa : 0.344          \n",
       "                                         \n",
       " Mcnemar's Test P-Value : < 2.2e-16      \n",
       "                                         \n",
       "            Sensitivity : 0.3947         \n",
       "            Specificity : 0.9140         \n",
       "         Pos Pred Value : 0.7122         \n",
       "         Neg Pred Value : 0.7369         \n",
       "             Prevalence : 0.3503         \n",
       "         Detection Rate : 0.1383         \n",
       "   Detection Prevalence : 0.1941         \n",
       "      Balanced Accuracy : 0.6543         \n",
       "                                         \n",
       "       'Positive' Class : 1              \n",
       "                                         "
      ]
     },
     "metadata": {},
     "output_type": "display_data"
    }
   ],
   "source": [
    "test_pred <- round(predict(employee_ridge_max_AUC, newx = model_matrix_X_test, newy = matrix_Y_test, type = \"response\"), 0)\n",
    "\n",
    "employee_confusion_matrix_test <- \n",
    "    confusionMatrix(\n",
    "    data = as.factor(test_pred),\n",
    "    reference = as.factor(employee_test$LeaveOrNot),\n",
    "    positive = \"1\"\n",
    ")\n",
    "employee_confusion_matrix_test"
   ]
  },
  {
   "cell_type": "code",
   "execution_count": 37,
   "id": "0b3cad06-8320-41c5-a1f6-2333b33ce416",
   "metadata": {},
   "outputs": [
    {
     "data": {
      "text/html": [
       "<strong>Accuracy:</strong> 0.732091690544413"
      ],
      "text/latex": [
       "\\textbf{Accuracy:} 0.732091690544413"
      ],
      "text/markdown": [
       "**Accuracy:** 0.732091690544413"
      ],
      "text/plain": [
       " Accuracy \n",
       "0.7320917 "
      ]
     },
     "metadata": {},
     "output_type": "display_data"
    }
   ],
   "source": [
    "ridge_acc <- employee_confusion_matrix_test$overall['Accuracy']\n",
    "ridge_acc"
   ]
  },
  {
   "cell_type": "code",
   "execution_count": 38,
   "id": "7fa9734c-ddae-4ced-818b-bda1030c4d28",
   "metadata": {},
   "outputs": [
    {
     "data": {
      "text/html": [
       "<table class=\"dataframe\">\n",
       "<caption>A data.frame: 4 × 2</caption>\n",
       "<thead>\n",
       "\t<tr><th></th><th scope=col>model</th><th scope=col>accuracy</th></tr>\n",
       "\t<tr><th></th><th scope=col>&lt;chr&gt;</th><th scope=col>&lt;dbl&gt;</th></tr>\n",
       "</thead>\n",
       "<tbody>\n",
       "\t<tr><th scope=row>Accuracy</th><td>LASSO Selection OLS      </td><td>0.7306590</td></tr>\n",
       "\t<tr><th scope=row>...2</th><td>LASSO Direct             </td><td>0.7156160</td></tr>\n",
       "\t<tr><th scope=row>...3</th><td>OLS w/Forward Selection  </td><td>0.7342407</td></tr>\n",
       "\t<tr><th scope=row>...4</th><td>Ridge w/default threshold</td><td>0.7320917</td></tr>\n",
       "</tbody>\n",
       "</table>\n"
      ],
      "text/latex": [
       "A data.frame: 4 × 2\n",
       "\\begin{tabular}{r|ll}\n",
       "  & model & accuracy\\\\\n",
       "  & <chr> & <dbl>\\\\\n",
       "\\hline\n",
       "\tAccuracy & LASSO Selection OLS       & 0.7306590\\\\\n",
       "\t...2 & LASSO Direct              & 0.7156160\\\\\n",
       "\t...3 & OLS w/Forward Selection   & 0.7342407\\\\\n",
       "\t...4 & Ridge w/default threshold & 0.7320917\\\\\n",
       "\\end{tabular}\n"
      ],
      "text/markdown": [
       "\n",
       "A data.frame: 4 × 2\n",
       "\n",
       "| <!--/--> | model &lt;chr&gt; | accuracy &lt;dbl&gt; |\n",
       "|---|---|---|\n",
       "| Accuracy | LASSO Selection OLS       | 0.7306590 |\n",
       "| ...2 | LASSO Direct              | 0.7156160 |\n",
       "| ...3 | OLS w/Forward Selection   | 0.7342407 |\n",
       "| ...4 | Ridge w/default threshold | 0.7320917 |\n",
       "\n"
      ],
      "text/plain": [
       "         model                     accuracy \n",
       "Accuracy LASSO Selection OLS       0.7306590\n",
       "...2     LASSO Direct              0.7156160\n",
       "...3     OLS w/Forward Selection   0.7342407\n",
       "...4     Ridge w/default threshold 0.7320917"
      ]
     },
     "metadata": {},
     "output_type": "display_data"
    }
   ],
   "source": [
    "results <- results %>% add_row(model = \"Ridge w/default threshold\", accuracy = ridge_acc)\n",
    "results"
   ]
  },
  {
   "cell_type": "code",
   "execution_count": 39,
   "id": "00ffd06f-26b4-4aae-b08f-86ba38705c44",
   "metadata": {},
   "outputs": [
    {
     "data": {
      "text/plain": [
       "Confusion Matrix and Statistics\n",
       "\n",
       "          Reference\n",
       "Prediction   0   1\n",
       "         0 760 217\n",
       "         1 147 272\n",
       "                                          \n",
       "               Accuracy : 0.7393          \n",
       "                 95% CI : (0.7154, 0.7621)\n",
       "    No Information Rate : 0.6497          \n",
       "    P-Value [Acc > NIR] : 4.381e-13       \n",
       "                                          \n",
       "                  Kappa : 0.4076          \n",
       "                                          \n",
       " Mcnemar's Test P-Value : 0.0002985       \n",
       "                                          \n",
       "            Sensitivity : 0.5562          \n",
       "            Specificity : 0.8379          \n",
       "         Pos Pred Value : 0.6492          \n",
       "         Neg Pred Value : 0.7779          \n",
       "             Prevalence : 0.3503          \n",
       "         Detection Rate : 0.1948          \n",
       "   Detection Prevalence : 0.3001          \n",
       "      Balanced Accuracy : 0.6971          \n",
       "                                          \n",
       "       'Positive' Class : 1               \n",
       "                                          "
      ]
     },
     "metadata": {},
     "output_type": "display_data"
    }
   ],
   "source": [
    "test_pred <- as.integer(predict(employee_ridge_max_AUC, newx = model_matrix_X_test, newy = matrix_Y_test) > best_threshold)\n",
    "\n",
    "employee_confusion_matrix_adj <- \n",
    "    confusionMatrix(\n",
    "    data = as.factor(test_pred),\n",
    "    reference = as.factor(employee_test$LeaveOrNot),\n",
    "    positive = \"1\"\n",
    ")\n",
    "employee_confusion_matrix_adj"
   ]
  },
  {
   "cell_type": "code",
   "execution_count": 40,
   "id": "e7042759-77f9-4708-8a5a-35a3904138a0",
   "metadata": {},
   "outputs": [
    {
     "data": {
      "text/html": [
       "<strong>Accuracy:</strong> 0.739255014326648"
      ],
      "text/latex": [
       "\\textbf{Accuracy:} 0.739255014326648"
      ],
      "text/markdown": [
       "**Accuracy:** 0.739255014326648"
      ],
      "text/plain": [
       "Accuracy \n",
       "0.739255 "
      ]
     },
     "metadata": {},
     "output_type": "display_data"
    }
   ],
   "source": [
    "ridge_acc_adj <- employee_confusion_matrix_adj$overall['Accuracy']\n",
    "ridge_acc_adj"
   ]
  },
  {
   "cell_type": "code",
   "execution_count": 41,
   "id": "ca210f98-3c72-42db-81ab-81c6ced09014",
   "metadata": {},
   "outputs": [
    {
     "data": {
      "text/html": [
       "<table class=\"dataframe\">\n",
       "<caption>A data.frame: 5 × 2</caption>\n",
       "<thead>\n",
       "\t<tr><th></th><th scope=col>model</th><th scope=col>accuracy</th></tr>\n",
       "\t<tr><th></th><th scope=col>&lt;chr&gt;</th><th scope=col>&lt;dbl&gt;</th></tr>\n",
       "</thead>\n",
       "<tbody>\n",
       "\t<tr><th scope=row>Accuracy</th><td>LASSO Selection OLS      </td><td>0.7306590</td></tr>\n",
       "\t<tr><th scope=row>...2</th><td>LASSO Direct             </td><td>0.7156160</td></tr>\n",
       "\t<tr><th scope=row>...3</th><td>OLS w/Forward Selection  </td><td>0.7342407</td></tr>\n",
       "\t<tr><th scope=row>...4</th><td>Ridge w/default threshold</td><td>0.7320917</td></tr>\n",
       "\t<tr><th scope=row>...5</th><td>Ridge w/best threshold   </td><td>0.7392550</td></tr>\n",
       "</tbody>\n",
       "</table>\n"
      ],
      "text/latex": [
       "A data.frame: 5 × 2\n",
       "\\begin{tabular}{r|ll}\n",
       "  & model & accuracy\\\\\n",
       "  & <chr> & <dbl>\\\\\n",
       "\\hline\n",
       "\tAccuracy & LASSO Selection OLS       & 0.7306590\\\\\n",
       "\t...2 & LASSO Direct              & 0.7156160\\\\\n",
       "\t...3 & OLS w/Forward Selection   & 0.7342407\\\\\n",
       "\t...4 & Ridge w/default threshold & 0.7320917\\\\\n",
       "\t...5 & Ridge w/best threshold    & 0.7392550\\\\\n",
       "\\end{tabular}\n"
      ],
      "text/markdown": [
       "\n",
       "A data.frame: 5 × 2\n",
       "\n",
       "| <!--/--> | model &lt;chr&gt; | accuracy &lt;dbl&gt; |\n",
       "|---|---|---|\n",
       "| Accuracy | LASSO Selection OLS       | 0.7306590 |\n",
       "| ...2 | LASSO Direct              | 0.7156160 |\n",
       "| ...3 | OLS w/Forward Selection   | 0.7342407 |\n",
       "| ...4 | Ridge w/default threshold | 0.7320917 |\n",
       "| ...5 | Ridge w/best threshold    | 0.7392550 |\n",
       "\n"
      ],
      "text/plain": [
       "         model                     accuracy \n",
       "Accuracy LASSO Selection OLS       0.7306590\n",
       "...2     LASSO Direct              0.7156160\n",
       "...3     OLS w/Forward Selection   0.7342407\n",
       "...4     Ridge w/default threshold 0.7320917\n",
       "...5     Ridge w/best threshold    0.7392550"
      ]
     },
     "metadata": {},
     "output_type": "display_data"
    }
   ],
   "source": [
    "results <- results %>% add_row(model = \"Ridge w/best threshold\", accuracy = ridge_acc_adj)\n",
    "results"
   ]
  },
  {
   "cell_type": "markdown",
   "id": "a8eb41f9-6bd0-47e5-84ff-73ef6397f678",
   "metadata": {},
   "source": [
    "# Stepwise Selection"
   ]
  },
  {
   "cell_type": "code",
   "execution_count": 42,
   "id": "8a625a57-4f14-460f-9c63-4056dca49d37",
   "metadata": {},
   "outputs": [
    {
     "name": "stdout",
     "output_type": "stream",
     "text": [
      "Start:  AIC=4182.49\n",
      "LeaveOrNot ~ 1\n",
      "\n",
      "                            Df Deviance    AIC\n",
      "+ PaymentTier                2   3969.5 3975.5\n",
      "+ Gender                     1   4036.9 4040.9\n",
      "+ City                       2   4057.1 4063.1\n",
      "+ JoiningYear                1   4073.0 4077.0\n",
      "+ Education                  2   4112.9 4118.9\n",
      "+ EverBenched                1   4160.6 4164.6\n",
      "+ Age                        1   4167.9 4171.9\n",
      "+ ExperienceInCurrentDomain  1   4174.4 4178.4\n",
      "<none>                           4180.5 4182.5\n",
      "\n",
      "Step:  AIC=3975.45\n",
      "LeaveOrNot ~ PaymentTier\n",
      "\n",
      "                            Df Deviance    AIC\n",
      "+ Gender                     1   3897.0 3905.0\n",
      "+ JoiningYear                1   3906.0 3914.0\n",
      "+ City                       2   3923.6 3933.6\n",
      "+ EverBenched                1   3946.2 3954.2\n",
      "+ Education                  2   3947.4 3957.4\n",
      "+ Age                        1   3958.2 3966.2\n",
      "+ ExperienceInCurrentDomain  1   3962.8 3970.8\n",
      "<none>                           3969.5 3975.5\n",
      "- PaymentTier                2   4180.5 4182.5\n",
      "\n",
      "Step:  AIC=3904.97\n",
      "LeaveOrNot ~ PaymentTier + Gender\n",
      "\n",
      "                            Df Deviance    AIC\n",
      "+ JoiningYear                1   3823.8 3833.8\n",
      "+ City                       2   3846.9 3858.9\n",
      "+ EverBenched                1   3871.5 3881.5\n",
      "+ Education                  2   3869.9 3881.9\n",
      "+ Age                        1   3884.6 3894.6\n",
      "+ ExperienceInCurrentDomain  1   3890.8 3900.8\n",
      "<none>                           3897.0 3905.0\n",
      "- Gender                     1   3969.5 3975.5\n",
      "- PaymentTier                2   4036.9 4040.9\n",
      "\n",
      "Step:  AIC=3833.79\n",
      "LeaveOrNot ~ PaymentTier + Gender + JoiningYear\n",
      "\n",
      "                            Df Deviance    AIC\n",
      "+ City                       2   3756.0 3770.0\n",
      "+ EverBenched                1   3801.0 3813.0\n",
      "+ Age                        1   3809.1 3821.1\n",
      "+ Education                  2   3808.9 3822.9\n",
      "+ ExperienceInCurrentDomain  1   3818.7 3830.7\n",
      "<none>                           3823.8 3833.8\n",
      "- JoiningYear                1   3897.0 3905.0\n",
      "- Gender                     1   3906.0 3914.0\n",
      "- PaymentTier                2   3924.0 3930.0\n",
      "\n",
      "Step:  AIC=3769.96\n",
      "LeaveOrNot ~ PaymentTier + Gender + JoiningYear + City\n",
      "\n",
      "                            Df Deviance    AIC\n",
      "+ Education                  2   3723.7 3741.7\n",
      "+ EverBenched                1   3735.4 3751.4\n",
      "+ Age                        1   3740.3 3756.3\n",
      "+ ExperienceInCurrentDomain  1   3751.7 3767.7\n",
      "<none>                           3756.0 3770.0\n",
      "- PaymentTier                2   3814.6 3824.6\n",
      "- City                       2   3823.8 3833.8\n",
      "- Gender                     1   3846.1 3858.1\n",
      "- JoiningYear                1   3846.9 3858.9\n",
      "\n",
      "Step:  AIC=3741.65\n",
      "LeaveOrNot ~ PaymentTier + Gender + JoiningYear + City + Education\n",
      "\n",
      "                            Df Deviance    AIC\n",
      "+ EverBenched                1   3701.9 3721.9\n",
      "+ Age                        1   3707.8 3727.8\n",
      "+ ExperienceInCurrentDomain  1   3719.3 3739.3\n",
      "<none>                           3723.7 3741.7\n",
      "- Education                  2   3756.0 3770.0\n",
      "- PaymentTier                2   3767.1 3781.1\n",
      "- JoiningYear                1   3798.8 3814.8\n",
      "- City                       2   3808.9 3822.9\n",
      "- Gender                     1   3824.0 3840.0\n",
      "\n",
      "Step:  AIC=3721.88\n",
      "LeaveOrNot ~ PaymentTier + Gender + JoiningYear + City + Education + \n",
      "    EverBenched\n",
      "\n",
      "                            Df Deviance    AIC\n",
      "+ Age                        1   3686.7 3708.7\n",
      "+ ExperienceInCurrentDomain  1   3697.4 3719.4\n",
      "<none>                           3701.9 3721.9\n",
      "- EverBenched                1   3723.7 3741.7\n",
      "- Education                  2   3735.4 3751.4\n",
      "- PaymentTier                2   3746.3 3762.3\n",
      "- JoiningYear                1   3773.5 3791.5\n",
      "- City                       2   3785.6 3801.6\n",
      "- Gender                     1   3804.5 3822.5\n",
      "\n",
      "Step:  AIC=3708.69\n",
      "LeaveOrNot ~ PaymentTier + Gender + JoiningYear + City + Education + \n",
      "    EverBenched + Age\n",
      "\n",
      "                            Df Deviance    AIC\n",
      "+ ExperienceInCurrentDomain  1   3679.7 3703.7\n",
      "<none>                           3686.7 3708.7\n",
      "- Age                        1   3701.9 3721.9\n",
      "- EverBenched                1   3707.8 3727.8\n",
      "- Education                  2   3720.4 3738.4\n",
      "- PaymentTier                2   3730.1 3748.1\n",
      "- JoiningYear                1   3761.0 3781.0\n",
      "- City                       2   3771.8 3789.8\n",
      "- Gender                     1   3791.4 3811.4\n",
      "\n",
      "Step:  AIC=3703.66\n",
      "LeaveOrNot ~ PaymentTier + Gender + JoiningYear + City + Education + \n",
      "    EverBenched + Age + ExperienceInCurrentDomain\n",
      "\n",
      "                            Df Deviance    AIC\n",
      "<none>                           3679.7 3703.7\n",
      "- ExperienceInCurrentDomain  1   3686.7 3708.7\n",
      "- Age                        1   3697.4 3719.4\n",
      "- EverBenched                1   3700.9 3722.9\n",
      "- Education                  2   3713.6 3733.6\n",
      "- PaymentTier                2   3723.7 3743.7\n",
      "- JoiningYear                1   3752.8 3774.8\n",
      "- City                       2   3764.0 3784.0\n",
      "- Gender                     1   3783.8 3805.8\n"
     ]
    }
   ],
   "source": [
    "# Initial (null) model with no predictors\n",
    "null_model <- glm(LeaveOrNot ~ 1, data = employee_train, family = binomial)\n",
    "\n",
    "# Full model with all predictors\n",
    "full_model <- glm(LeaveOrNot ~ ., data = employee_train, family = binomial)\n",
    "\n",
    "# Forward selection using AIC\n",
    "employee_forward_sel <- step(null_model, \n",
    "                             scope = formula(full_model), \n",
    "                             direction = \"both\")\n",
    "# summary\n",
    "employee_forward_sel_summary <- summary(employee_forward_sel)"
   ]
  },
  {
   "cell_type": "code",
   "execution_count": 43,
   "id": "7eee98a8-5646-4ee2-bb00-99d0c5a8f923",
   "metadata": {},
   "outputs": [
    {
     "data": {
      "text/html": [
       "<style>\n",
       ".list-inline {list-style: none; margin:0; padding: 0}\n",
       ".list-inline>li {display: inline-block}\n",
       ".list-inline>li:not(:last-child)::after {content: \"\\00b7\"; padding: 0 .5ex}\n",
       "</style>\n",
       "<ol class=list-inline><li>'PaymentTier2'</li><li>'PaymentTier3'</li><li>'GenderMale'</li><li>'JoiningYear'</li><li>'CityNew Delhi'</li><li>'CityPune'</li><li>'EducationMasters'</li><li>'EducationPHD'</li><li>'EverBenchedYes'</li><li>'Age'</li><li>'ExperienceInCurrentDomain'</li></ol>\n"
      ],
      "text/latex": [
       "\\begin{enumerate*}\n",
       "\\item 'PaymentTier2'\n",
       "\\item 'PaymentTier3'\n",
       "\\item 'GenderMale'\n",
       "\\item 'JoiningYear'\n",
       "\\item 'CityNew Delhi'\n",
       "\\item 'CityPune'\n",
       "\\item 'EducationMasters'\n",
       "\\item 'EducationPHD'\n",
       "\\item 'EverBenchedYes'\n",
       "\\item 'Age'\n",
       "\\item 'ExperienceInCurrentDomain'\n",
       "\\end{enumerate*}\n"
      ],
      "text/markdown": [
       "1. 'PaymentTier2'\n",
       "2. 'PaymentTier3'\n",
       "3. 'GenderMale'\n",
       "4. 'JoiningYear'\n",
       "5. 'CityNew Delhi'\n",
       "6. 'CityPune'\n",
       "7. 'EducationMasters'\n",
       "8. 'EducationPHD'\n",
       "9. 'EverBenchedYes'\n",
       "10. 'Age'\n",
       "11. 'ExperienceInCurrentDomain'\n",
       "\n",
       "\n"
      ],
      "text/plain": [
       " [1] \"PaymentTier2\"              \"PaymentTier3\"             \n",
       " [3] \"GenderMale\"                \"JoiningYear\"              \n",
       " [5] \"CityNew Delhi\"             \"CityPune\"                 \n",
       " [7] \"EducationMasters\"          \"EducationPHD\"             \n",
       " [9] \"EverBenchedYes\"            \"Age\"                      \n",
       "[11] \"ExperienceInCurrentDomain\""
      ]
     },
     "metadata": {},
     "output_type": "display_data"
    }
   ],
   "source": [
    "AIC_min <- which.min(employee_forward_sel_summary$deviance)\n",
    "selected_var <- names(coef(employee_forward_sel, AIC_min))[-1]\n",
    "selected_var"
   ]
  },
  {
   "cell_type": "code",
   "execution_count": 44,
   "id": "76fdd827-3bca-479b-b7d0-77f0e010c5e8",
   "metadata": {},
   "outputs": [
    {
     "data": {
      "text/plain": [
       "\n",
       "Call:\n",
       "glm(formula = LeaveOrNot ~ ., family = binomial, data = employee_train)\n",
       "\n",
       "Coefficients:\n",
       "                            Estimate Std. Error z value Pr(>|z|)    \n",
       "(Intercept)               -3.885e+02  4.618e+01  -8.412  < 2e-16 ***\n",
       "EducationMasters           6.557e-01  1.131e-01   5.797 6.77e-09 ***\n",
       "EducationPHD               1.274e-01  2.216e-01   0.575  0.56528    \n",
       "JoiningYear                1.932e-01  2.293e-02   8.427  < 2e-16 ***\n",
       "CityNew Delhi             -5.418e-01  1.173e-01  -4.620 3.84e-06 ***\n",
       "CityPune                   5.115e-01  1.024e-01   4.995 5.89e-07 ***\n",
       "PaymentTier2               5.363e-01  1.890e-01   2.838  0.00454 ** \n",
       "PaymentTier3              -2.025e-01  1.730e-01  -1.171  0.24180    \n",
       "Age                       -3.554e-02  8.534e-03  -4.165 3.12e-05 ***\n",
       "GenderMale                -8.632e-01  8.502e-02 -10.153  < 2e-16 ***\n",
       "EverBenchedYes             5.847e-01  1.258e-01   4.648 3.35e-06 ***\n",
       "ExperienceInCurrentDomain -6.937e-02  2.618e-02  -2.650  0.00806 ** \n",
       "---\n",
       "Signif. codes:  0 ‘***’ 0.001 ‘**’ 0.01 ‘*’ 0.05 ‘.’ 0.1 ‘ ’ 1\n",
       "\n",
       "(Dispersion parameter for binomial family taken to be 1)\n",
       "\n",
       "    Null deviance: 4180.5  on 3256  degrees of freedom\n",
       "Residual deviance: 3679.7  on 3245  degrees of freedom\n",
       "AIC: 3703.7\n",
       "\n",
       "Number of Fisher Scoring iterations: 4\n"
      ]
     },
     "metadata": {},
     "output_type": "display_data"
    }
   ],
   "source": [
    "# generate model\n",
    "employee_log_model <- glm(LeaveOrNot ~., \n",
    "                         data = employee_train,\n",
    "                         family = binomial\n",
    "                         )\n",
    "summary(employee_log_model)"
   ]
  },
  {
   "cell_type": "code",
   "execution_count": 45,
   "id": "cfaebaff-be4e-40e1-a78c-217c13e5593f",
   "metadata": {},
   "outputs": [
    {
     "data": {
      "text/plain": [
       "\n",
       "Call:\n",
       "glm(formula = LeaveOrNot ~ ., family = binomial, data = employee_train)\n",
       "\n",
       "Coefficients:\n",
       "                            Estimate Std. Error z value Pr(>|z|)    \n",
       "(Intercept)               -3.885e+02  4.618e+01  -8.412  < 2e-16 ***\n",
       "EducationMasters           6.557e-01  1.131e-01   5.797 6.77e-09 ***\n",
       "EducationPHD               1.274e-01  2.216e-01   0.575  0.56528    \n",
       "JoiningYear                1.932e-01  2.293e-02   8.427  < 2e-16 ***\n",
       "CityNew Delhi             -5.418e-01  1.173e-01  -4.620 3.84e-06 ***\n",
       "CityPune                   5.115e-01  1.024e-01   4.995 5.89e-07 ***\n",
       "PaymentTier2               5.363e-01  1.890e-01   2.838  0.00454 ** \n",
       "PaymentTier3              -2.025e-01  1.730e-01  -1.171  0.24180    \n",
       "Age                       -3.554e-02  8.534e-03  -4.165 3.12e-05 ***\n",
       "GenderMale                -8.632e-01  8.502e-02 -10.153  < 2e-16 ***\n",
       "EverBenchedYes             5.847e-01  1.258e-01   4.648 3.35e-06 ***\n",
       "ExperienceInCurrentDomain -6.937e-02  2.618e-02  -2.650  0.00806 ** \n",
       "---\n",
       "Signif. codes:  0 ‘***’ 0.001 ‘**’ 0.01 ‘*’ 0.05 ‘.’ 0.1 ‘ ’ 1\n",
       "\n",
       "(Dispersion parameter for binomial family taken to be 1)\n",
       "\n",
       "    Null deviance: 4180.5  on 3256  degrees of freedom\n",
       "Residual deviance: 3679.7  on 3245  degrees of freedom\n",
       "AIC: 3703.7\n",
       "\n",
       "Number of Fisher Scoring iterations: 4\n"
      ]
     },
     "metadata": {},
     "output_type": "display_data"
    }
   ],
   "source": [
    "# generate model\n",
    "employee_log_model <- glm(LeaveOrNot ~., \n",
    "                         data = employee_train,\n",
    "                         family = binomial\n",
    "                         )\n",
    "summary(employee_log_model)"
   ]
  },
  {
   "cell_type": "code",
   "execution_count": 46,
   "id": "179b6715-4f46-43c7-81b5-8102af7e5bcf",
   "metadata": {},
   "outputs": [],
   "source": [
    "# Using model to predict \n",
    "predict_model <- predict(employee_log_model, newdata = employee_test, type = \"response\")\n",
    "predicted_classes <- ifelse(predict_model > 0.5, 1, 0)"
   ]
  },
  {
   "cell_type": "code",
   "execution_count": 47,
   "id": "76befece-8c27-466d-8670-844eee8d89a3",
   "metadata": {},
   "outputs": [
    {
     "data": {
      "text/plain": [
       "Confusion Matrix and Statistics\n",
       "\n",
       "          Reference\n",
       "Prediction   0   1\n",
       "         0 823 289\n",
       "         1  84 200\n",
       "                                          \n",
       "               Accuracy : 0.7328          \n",
       "                 95% CI : (0.7088, 0.7559)\n",
       "    No Information Rate : 0.6497          \n",
       "    P-Value [Acc > NIR] : 1.816e-11       \n",
       "                                          \n",
       "                  Kappa : 0.3502          \n",
       "                                          \n",
       " Mcnemar's Test P-Value : < 2.2e-16       \n",
       "                                          \n",
       "            Sensitivity : 0.4090          \n",
       "            Specificity : 0.9074          \n",
       "         Pos Pred Value : 0.7042          \n",
       "         Neg Pred Value : 0.7401          \n",
       "             Prevalence : 0.3503          \n",
       "         Detection Rate : 0.1433          \n",
       "   Detection Prevalence : 0.2034          \n",
       "      Balanced Accuracy : 0.6582          \n",
       "                                          \n",
       "       'Positive' Class : 1               \n",
       "                                          "
      ]
     },
     "metadata": {},
     "output_type": "display_data"
    }
   ],
   "source": [
    "employee_confusion_matrix_test <- \n",
    "    confusionMatrix(\n",
    "    data = as.factor(predicted_classes),\n",
    "    reference = as.factor(employee_test$LeaveOrNot),\n",
    "    positive = \"1\"\n",
    ")\n",
    "employee_confusion_matrix_test"
   ]
  },
  {
   "cell_type": "code",
   "execution_count": 48,
   "id": "83c27517-b721-4c2b-8ad0-8c96a073812b",
   "metadata": {},
   "outputs": [
    {
     "data": {
      "text/html": [
       "<strong>Accuracy:</strong> 0.732808022922636"
      ],
      "text/latex": [
       "\\textbf{Accuracy:} 0.732808022922636"
      ],
      "text/markdown": [
       "**Accuracy:** 0.732808022922636"
      ],
      "text/plain": [
       "Accuracy \n",
       "0.732808 "
      ]
     },
     "metadata": {},
     "output_type": "display_data"
    }
   ],
   "source": [
    "step_acc <- employee_confusion_matrix_test$overall['Accuracy']\n",
    "step_acc"
   ]
  },
  {
   "cell_type": "code",
   "execution_count": 49,
   "id": "8d1921ea-124e-4a43-acbb-8036cc49f79c",
   "metadata": {},
   "outputs": [
    {
     "data": {
      "text/html": [
       "<table class=\"dataframe\">\n",
       "<caption>A data.frame: 6 × 2</caption>\n",
       "<thead>\n",
       "\t<tr><th></th><th scope=col>model</th><th scope=col>accuracy</th></tr>\n",
       "\t<tr><th></th><th scope=col>&lt;chr&gt;</th><th scope=col>&lt;dbl&gt;</th></tr>\n",
       "</thead>\n",
       "<tbody>\n",
       "\t<tr><th scope=row>Accuracy</th><td>LASSO Selection OLS      </td><td>0.7306590</td></tr>\n",
       "\t<tr><th scope=row>...2</th><td>LASSO Direct             </td><td>0.7156160</td></tr>\n",
       "\t<tr><th scope=row>...3</th><td>OLS w/Forward Selection  </td><td>0.7342407</td></tr>\n",
       "\t<tr><th scope=row>...4</th><td>Ridge w/default threshold</td><td>0.7320917</td></tr>\n",
       "\t<tr><th scope=row>...5</th><td>Ridge w/best threshold   </td><td>0.7392550</td></tr>\n",
       "\t<tr><th scope=row>...6</th><td>OLS w/Stepwise Selection </td><td>0.7328080</td></tr>\n",
       "</tbody>\n",
       "</table>\n"
      ],
      "text/latex": [
       "A data.frame: 6 × 2\n",
       "\\begin{tabular}{r|ll}\n",
       "  & model & accuracy\\\\\n",
       "  & <chr> & <dbl>\\\\\n",
       "\\hline\n",
       "\tAccuracy & LASSO Selection OLS       & 0.7306590\\\\\n",
       "\t...2 & LASSO Direct              & 0.7156160\\\\\n",
       "\t...3 & OLS w/Forward Selection   & 0.7342407\\\\\n",
       "\t...4 & Ridge w/default threshold & 0.7320917\\\\\n",
       "\t...5 & Ridge w/best threshold    & 0.7392550\\\\\n",
       "\t...6 & OLS w/Stepwise Selection  & 0.7328080\\\\\n",
       "\\end{tabular}\n"
      ],
      "text/markdown": [
       "\n",
       "A data.frame: 6 × 2\n",
       "\n",
       "| <!--/--> | model &lt;chr&gt; | accuracy &lt;dbl&gt; |\n",
       "|---|---|---|\n",
       "| Accuracy | LASSO Selection OLS       | 0.7306590 |\n",
       "| ...2 | LASSO Direct              | 0.7156160 |\n",
       "| ...3 | OLS w/Forward Selection   | 0.7342407 |\n",
       "| ...4 | Ridge w/default threshold | 0.7320917 |\n",
       "| ...5 | Ridge w/best threshold    | 0.7392550 |\n",
       "| ...6 | OLS w/Stepwise Selection  | 0.7328080 |\n",
       "\n"
      ],
      "text/plain": [
       "         model                     accuracy \n",
       "Accuracy LASSO Selection OLS       0.7306590\n",
       "...2     LASSO Direct              0.7156160\n",
       "...3     OLS w/Forward Selection   0.7342407\n",
       "...4     Ridge w/default threshold 0.7320917\n",
       "...5     Ridge w/best threshold    0.7392550\n",
       "...6     OLS w/Stepwise Selection  0.7328080"
      ]
     },
     "metadata": {},
     "output_type": "display_data"
    }
   ],
   "source": [
    "results <- results %>% add_row(model = \"OLS w/Stepwise Selection\", accuracy = step_acc)\n",
    "results"
   ]
  },
  {
   "cell_type": "markdown",
   "id": "9207d3f2-2952-4af6-bfbe-023f2fd9cb6e",
   "metadata": {},
   "source": [
    "# Comparison"
   ]
  },
  {
   "cell_type": "markdown",
   "id": "a51c3394-e018-4fed-9e39-c7ebce4528df",
   "metadata": {},
   "source": [
    "The performance of the model is fairly consistent with all approaches, however, the Ridge model seems to perform the best."
   ]
  },
  {
   "cell_type": "code",
   "execution_count": null,
   "id": "bc193395-fd23-4090-9c75-2fd2865053d4",
   "metadata": {},
   "outputs": [],
   "source": []
  }
 ],
 "metadata": {
  "kernelspec": {
   "display_name": "R",
   "language": "R",
   "name": "ir"
  },
  "language_info": {
   "codemirror_mode": "r",
   "file_extension": ".r",
   "mimetype": "text/x-r-source",
   "name": "R",
   "pygments_lexer": "r",
   "version": "4.3.3"
  }
 },
 "nbformat": 4,
 "nbformat_minor": 5
}
