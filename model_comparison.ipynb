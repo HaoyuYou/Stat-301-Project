{
 "cells": [
  {
   "cell_type": "markdown",
   "id": "3c186156-05c6-47f3-affb-f1d9ea6b5a7a",
   "metadata": {},
   "source": [
    "# Data Splitting"
   ]
  },
  {
   "cell_type": "code",
   "execution_count": 7,
   "id": "75a51468-678c-4765-b8cd-5ce3133f438d",
   "metadata": {},
   "outputs": [],
   "source": [
    "# Run this cell before continuing.\n",
    "library(tidyverse)\n",
    "library(repr)\n",
    "library(infer)\n",
    "library(gridExtra)\n",
    "library(caret)\n",
    "library(pROC)\n",
    "library(boot)\n",
    "library(glmnet)\n",
    "library(broom)\n",
    "library(leaps)\n",
    "library(repr)\n",
    "library(faraway)\n",
    "library(mltools)"
   ]
  },
  {
   "cell_type": "code",
   "execution_count": 107,
   "id": "359a745c-d144-42fd-801a-7c7aeae6a593",
   "metadata": {},
   "outputs": [
    {
     "name": "stderr",
     "output_type": "stream",
     "text": [
      "\u001b[1mRows: \u001b[22m\u001b[34m4653\u001b[39m \u001b[1mColumns: \u001b[22m\u001b[34m9\u001b[39m\n",
      "\u001b[36m──\u001b[39m \u001b[1mColumn specification\u001b[22m \u001b[36m────────────────────────────────────────────────────────\u001b[39m\n",
      "\u001b[1mDelimiter:\u001b[22m \",\"\n",
      "\u001b[31mchr\u001b[39m (4): Education, City, Gender, EverBenched\n",
      "\u001b[32mdbl\u001b[39m (5): JoiningYear, PaymentTier, Age, ExperienceInCurrentDomain, LeaveOrNot\n",
      "\n",
      "\u001b[36mℹ\u001b[39m Use `spec()` to retrieve the full column specification for this data.\n",
      "\u001b[36mℹ\u001b[39m Specify the column types or set `show_col_types = FALSE` to quiet this message.\n"
     ]
    },
    {
     "ename": "ERROR",
     "evalue": "Error in head.data.frame(., employee_dat): invalid 'n' - must be numeric, possibly NA.\n",
     "output_type": "error",
     "traceback": [
      "Error in head.data.frame(., employee_dat): invalid 'n' - must be numeric, possibly NA.\nTraceback:\n",
      "1. employee_dat %>% mutate(PaymentTier = as.factor(PaymentTier)) %>% \n .     head(employee_dat)",
      "2. head(., employee_dat)",
      "3. head(., employee_dat)",
      "4. head.data.frame(., employee_dat)",
      "5. checkHT(n, d <- dim(x))"
     ]
    }
   ],
   "source": [
    "set.seed(123)\n",
    "employee_dat <- read_csv(\"https://raw.githubusercontent.com/jtan29/stat-301-project/main/Employee.csv\")\n",
    "employee_dat <- employee_dat %>%\n",
    "mutate(PaymentTier = as.factor(PaymentTier)) %>%\n",
    "\n",
    "head(employee_dat)"
   ]
  },
  {
   "cell_type": "code",
   "execution_count": 108,
   "id": "bf019d34-0d3d-4e54-a1b9-cfcb941393b3",
   "metadata": {},
   "outputs": [
    {
     "data": {
      "text/html": [
       "<table class=\"dataframe\">\n",
       "<caption>A tibble: 5 × 9</caption>\n",
       "<thead>\n",
       "\t<tr><th scope=col>Education</th><th scope=col>JoiningYear</th><th scope=col>City</th><th scope=col>PaymentTier</th><th scope=col>Age</th><th scope=col>Gender</th><th scope=col>EverBenched</th><th scope=col>ExperienceInCurrentDomain</th><th scope=col>LeaveOrNot</th></tr>\n",
       "\t<tr><th scope=col>&lt;chr&gt;</th><th scope=col>&lt;dbl&gt;</th><th scope=col>&lt;chr&gt;</th><th scope=col>&lt;dbl&gt;</th><th scope=col>&lt;dbl&gt;</th><th scope=col>&lt;chr&gt;</th><th scope=col>&lt;chr&gt;</th><th scope=col>&lt;dbl&gt;</th><th scope=col>&lt;dbl&gt;</th></tr>\n",
       "</thead>\n",
       "<tbody>\n",
       "\t<tr><td>Bachelors</td><td>2015</td><td>Pune     </td><td>3</td><td>28</td><td>Male</td><td>No</td><td>1</td><td>0</td></tr>\n",
       "\t<tr><td>Bachelors</td><td>2014</td><td>Bangalore</td><td>3</td><td>29</td><td>Male</td><td>No</td><td>1</td><td>0</td></tr>\n",
       "\t<tr><td>Masters  </td><td>2017</td><td>New Delhi</td><td>3</td><td>26</td><td>Male</td><td>No</td><td>4</td><td>1</td></tr>\n",
       "\t<tr><td>Bachelors</td><td>2015</td><td>Bangalore</td><td>3</td><td>25</td><td>Male</td><td>No</td><td>3</td><td>0</td></tr>\n",
       "\t<tr><td>Masters  </td><td>2017</td><td>New Delhi</td><td>2</td><td>31</td><td>Male</td><td>No</td><td>4</td><td>0</td></tr>\n",
       "</tbody>\n",
       "</table>\n"
      ],
      "text/latex": [
       "A tibble: 5 × 9\n",
       "\\begin{tabular}{lllllllll}\n",
       " Education & JoiningYear & City & PaymentTier & Age & Gender & EverBenched & ExperienceInCurrentDomain & LeaveOrNot\\\\\n",
       " <chr> & <dbl> & <chr> & <dbl> & <dbl> & <chr> & <chr> & <dbl> & <dbl>\\\\\n",
       "\\hline\n",
       "\t Bachelors & 2015 & Pune      & 3 & 28 & Male & No & 1 & 0\\\\\n",
       "\t Bachelors & 2014 & Bangalore & 3 & 29 & Male & No & 1 & 0\\\\\n",
       "\t Masters   & 2017 & New Delhi & 3 & 26 & Male & No & 4 & 1\\\\\n",
       "\t Bachelors & 2015 & Bangalore & 3 & 25 & Male & No & 3 & 0\\\\\n",
       "\t Masters   & 2017 & New Delhi & 2 & 31 & Male & No & 4 & 0\\\\\n",
       "\\end{tabular}\n"
      ],
      "text/markdown": [
       "\n",
       "A tibble: 5 × 9\n",
       "\n",
       "| Education &lt;chr&gt; | JoiningYear &lt;dbl&gt; | City &lt;chr&gt; | PaymentTier &lt;dbl&gt; | Age &lt;dbl&gt; | Gender &lt;chr&gt; | EverBenched &lt;chr&gt; | ExperienceInCurrentDomain &lt;dbl&gt; | LeaveOrNot &lt;dbl&gt; |\n",
       "|---|---|---|---|---|---|---|---|---|\n",
       "| Bachelors | 2015 | Pune      | 3 | 28 | Male | No | 1 | 0 |\n",
       "| Bachelors | 2014 | Bangalore | 3 | 29 | Male | No | 1 | 0 |\n",
       "| Masters   | 2017 | New Delhi | 3 | 26 | Male | No | 4 | 1 |\n",
       "| Bachelors | 2015 | Bangalore | 3 | 25 | Male | No | 3 | 0 |\n",
       "| Masters   | 2017 | New Delhi | 2 | 31 | Male | No | 4 | 0 |\n",
       "\n"
      ],
      "text/plain": [
       "  Education JoiningYear City      PaymentTier Age Gender EverBenched\n",
       "1 Bachelors 2015        Pune      3           28  Male   No         \n",
       "2 Bachelors 2014        Bangalore 3           29  Male   No         \n",
       "3 Masters   2017        New Delhi 3           26  Male   No         \n",
       "4 Bachelors 2015        Bangalore 3           25  Male   No         \n",
       "5 Masters   2017        New Delhi 2           31  Male   No         \n",
       "  ExperienceInCurrentDomain LeaveOrNot\n",
       "1 1                         0         \n",
       "2 1                         0         \n",
       "3 4                         1         \n",
       "4 3                         0         \n",
       "5 4                         0         "
      ]
     },
     "metadata": {},
     "output_type": "display_data"
    },
    {
     "data": {
      "text/html": [
       "<table class=\"dataframe\">\n",
       "<caption>A tibble: 5 × 9</caption>\n",
       "<thead>\n",
       "\t<tr><th scope=col>Education</th><th scope=col>JoiningYear</th><th scope=col>City</th><th scope=col>PaymentTier</th><th scope=col>Age</th><th scope=col>Gender</th><th scope=col>EverBenched</th><th scope=col>ExperienceInCurrentDomain</th><th scope=col>LeaveOrNot</th></tr>\n",
       "\t<tr><th scope=col>&lt;chr&gt;</th><th scope=col>&lt;dbl&gt;</th><th scope=col>&lt;chr&gt;</th><th scope=col>&lt;dbl&gt;</th><th scope=col>&lt;dbl&gt;</th><th scope=col>&lt;chr&gt;</th><th scope=col>&lt;chr&gt;</th><th scope=col>&lt;dbl&gt;</th><th scope=col>&lt;dbl&gt;</th></tr>\n",
       "</thead>\n",
       "<tbody>\n",
       "\t<tr><td>Bachelors</td><td>2014</td><td>New Delhi</td><td>3</td><td>38</td><td>Female</td><td>No</td><td>2</td><td>0</td></tr>\n",
       "\t<tr><td>Bachelors</td><td>2016</td><td>Bangalore</td><td>3</td><td>22</td><td>Male  </td><td>No</td><td>0</td><td>0</td></tr>\n",
       "\t<tr><td>Bachelors</td><td>2016</td><td>Bangalore</td><td>3</td><td>34</td><td>Female</td><td>No</td><td>2</td><td>1</td></tr>\n",
       "\t<tr><td>Masters  </td><td>2017</td><td>New Delhi</td><td>2</td><td>37</td><td>Male  </td><td>No</td><td>2</td><td>0</td></tr>\n",
       "\t<tr><td>Bachelors</td><td>2016</td><td>Bangalore</td><td>3</td><td>39</td><td>Male  </td><td>No</td><td>2</td><td>0</td></tr>\n",
       "</tbody>\n",
       "</table>\n"
      ],
      "text/latex": [
       "A tibble: 5 × 9\n",
       "\\begin{tabular}{lllllllll}\n",
       " Education & JoiningYear & City & PaymentTier & Age & Gender & EverBenched & ExperienceInCurrentDomain & LeaveOrNot\\\\\n",
       " <chr> & <dbl> & <chr> & <dbl> & <dbl> & <chr> & <chr> & <dbl> & <dbl>\\\\\n",
       "\\hline\n",
       "\t Bachelors & 2014 & New Delhi & 3 & 38 & Female & No & 2 & 0\\\\\n",
       "\t Bachelors & 2016 & Bangalore & 3 & 22 & Male   & No & 0 & 0\\\\\n",
       "\t Bachelors & 2016 & Bangalore & 3 & 34 & Female & No & 2 & 1\\\\\n",
       "\t Masters   & 2017 & New Delhi & 2 & 37 & Male   & No & 2 & 0\\\\\n",
       "\t Bachelors & 2016 & Bangalore & 3 & 39 & Male   & No & 2 & 0\\\\\n",
       "\\end{tabular}\n"
      ],
      "text/markdown": [
       "\n",
       "A tibble: 5 × 9\n",
       "\n",
       "| Education &lt;chr&gt; | JoiningYear &lt;dbl&gt; | City &lt;chr&gt; | PaymentTier &lt;dbl&gt; | Age &lt;dbl&gt; | Gender &lt;chr&gt; | EverBenched &lt;chr&gt; | ExperienceInCurrentDomain &lt;dbl&gt; | LeaveOrNot &lt;dbl&gt; |\n",
       "|---|---|---|---|---|---|---|---|---|\n",
       "| Bachelors | 2014 | New Delhi | 3 | 38 | Female | No | 2 | 0 |\n",
       "| Bachelors | 2016 | Bangalore | 3 | 22 | Male   | No | 0 | 0 |\n",
       "| Bachelors | 2016 | Bangalore | 3 | 34 | Female | No | 2 | 1 |\n",
       "| Masters   | 2017 | New Delhi | 2 | 37 | Male   | No | 2 | 0 |\n",
       "| Bachelors | 2016 | Bangalore | 3 | 39 | Male   | No | 2 | 0 |\n",
       "\n"
      ],
      "text/plain": [
       "  Education JoiningYear City      PaymentTier Age Gender EverBenched\n",
       "1 Bachelors 2014        New Delhi 3           38  Female No         \n",
       "2 Bachelors 2016        Bangalore 3           22  Male   No         \n",
       "3 Bachelors 2016        Bangalore 3           34  Female No         \n",
       "4 Masters   2017        New Delhi 2           37  Male   No         \n",
       "5 Bachelors 2016        Bangalore 3           39  Male   No         \n",
       "  ExperienceInCurrentDomain LeaveOrNot\n",
       "1 2                         0         \n",
       "2 0                         0         \n",
       "3 2                         1         \n",
       "4 2                         0         \n",
       "5 2                         0         "
      ]
     },
     "metadata": {},
     "output_type": "display_data"
    }
   ],
   "source": [
    "employee_dat$id <- 1:nrow(employee_dat) # add a new ID column\n",
    "\n",
    "# 70% into train split\n",
    "employee_train <- \n",
    "    employee_dat %>% \n",
    "    slice_sample(prop = 0.7)\n",
    "\n",
    "# 30% into test split\n",
    "employee_test <- \n",
    "    employee_dat %>% \n",
    "    anti_join(employee_train, by = \"id\") \n",
    "\n",
    "# drop the ID column\n",
    "employee_train <- \n",
    "    employee_train %>% \n",
    "    select(-id)\n",
    "\n",
    "employee_test <-\n",
    "    employee_test %>%\n",
    "    select(-id)\n",
    "\n",
    "head(employee_train, 5)\n",
    "head(employee_test, 5)"
   ]
  },
  {
   "cell_type": "code",
   "execution_count": 109,
   "id": "d654fd16-4ca2-417b-b2f4-18caee560aa2",
   "metadata": {},
   "outputs": [],
   "source": [
    "model_matrix_X_train <- \n",
    "    model.matrix(LeaveOrNot ~ ., employee_train)\n",
    "model_matrix_X_train <- model_matrix_X_train[,-1]\n",
    "\n",
    "matrix_Y_train <- \n",
    "    as.matrix(employee_train %>% select(LeaveOrNot), ncol = 1)"
   ]
  },
  {
   "cell_type": "markdown",
   "id": "6f9b44b6-be76-4d3d-8a4c-85ff1017500f",
   "metadata": {},
   "source": [
    "## LASSO Model"
   ]
  },
  {
   "cell_type": "code",
   "execution_count": 110,
   "id": "b875bf69-01cd-4f3b-87a7-ffb1a287f7c0",
   "metadata": {},
   "outputs": [
    {
     "data": {
      "text/plain": [
       "\n",
       "Call:  cv.glmnet(x = model_matrix_X_train, y = matrix_Y_train, alpha = 1) \n",
       "\n",
       "Measure: Mean-Squared Error \n",
       "\n",
       "      Lambda Index Measure       SE Nonzero\n",
       "min 0.002201    42  0.1947 0.003260      10\n",
       "1se 0.018705    19  0.1976 0.002917       8"
      ]
     },
     "metadata": {},
     "output_type": "display_data"
    }
   ],
   "source": [
    "lasso_model = cv.glmnet(x = model_matrix_X_train,\n",
    "                        y = matrix_Y_train,\n",
    "                         alpha = 1)\n",
    "lasso_model"
   ]
  },
  {
   "cell_type": "code",
   "execution_count": 111,
   "id": "5e2b97de-e29c-48e6-8e1c-de4cc7e1b480",
   "metadata": {},
   "outputs": [
    {
     "data": {
      "text/html": [
       "<table class=\"dataframe\">\n",
       "<caption>A tibble: 11 × 2</caption>\n",
       "<thead>\n",
       "\t<tr><th scope=col>covariate</th><th scope=col>s1</th></tr>\n",
       "\t<tr><th scope=col>&lt;chr&gt;</th><th scope=col>&lt;dbl&gt;</th></tr>\n",
       "</thead>\n",
       "<tbody>\n",
       "\t<tr><td>(Intercept)              </td><td>-62.674739661</td></tr>\n",
       "\t<tr><td>EducationMasters         </td><td>  0.082279905</td></tr>\n",
       "\t<tr><td>EducationPHD             </td><td>  0.000000000</td></tr>\n",
       "\t<tr><td>JoiningYear              </td><td>  0.031393651</td></tr>\n",
       "\t<tr><td>CityNew Delhi            </td><td> -0.011940981</td></tr>\n",
       "\t<tr><td>CityPune                 </td><td>  0.129756203</td></tr>\n",
       "\t<tr><td>PaymentTier              </td><td> -0.054620585</td></tr>\n",
       "\t<tr><td>Age                      </td><td> -0.002283375</td></tr>\n",
       "\t<tr><td>GenderMale               </td><td> -0.141466955</td></tr>\n",
       "\t<tr><td>EverBenchedYes           </td><td>  0.061964429</td></tr>\n",
       "\t<tr><td>ExperienceInCurrentDomain</td><td>  0.000000000</td></tr>\n",
       "</tbody>\n",
       "</table>\n"
      ],
      "text/latex": [
       "A tibble: 11 × 2\n",
       "\\begin{tabular}{ll}\n",
       " covariate & s1\\\\\n",
       " <chr> & <dbl>\\\\\n",
       "\\hline\n",
       "\t (Intercept)               & -62.674739661\\\\\n",
       "\t EducationMasters          &   0.082279905\\\\\n",
       "\t EducationPHD              &   0.000000000\\\\\n",
       "\t JoiningYear               &   0.031393651\\\\\n",
       "\t CityNew Delhi             &  -0.011940981\\\\\n",
       "\t CityPune                  &   0.129756203\\\\\n",
       "\t PaymentTier               &  -0.054620585\\\\\n",
       "\t Age                       &  -0.002283375\\\\\n",
       "\t GenderMale                &  -0.141466955\\\\\n",
       "\t EverBenchedYes            &   0.061964429\\\\\n",
       "\t ExperienceInCurrentDomain &   0.000000000\\\\\n",
       "\\end{tabular}\n"
      ],
      "text/markdown": [
       "\n",
       "A tibble: 11 × 2\n",
       "\n",
       "| covariate &lt;chr&gt; | s1 &lt;dbl&gt; |\n",
       "|---|---|\n",
       "| (Intercept)               | -62.674739661 |\n",
       "| EducationMasters          |   0.082279905 |\n",
       "| EducationPHD              |   0.000000000 |\n",
       "| JoiningYear               |   0.031393651 |\n",
       "| CityNew Delhi             |  -0.011940981 |\n",
       "| CityPune                  |   0.129756203 |\n",
       "| PaymentTier               |  -0.054620585 |\n",
       "| Age                       |  -0.002283375 |\n",
       "| GenderMale                |  -0.141466955 |\n",
       "| EverBenchedYes            |   0.061964429 |\n",
       "| ExperienceInCurrentDomain |   0.000000000 |\n",
       "\n"
      ],
      "text/plain": [
       "   covariate                 s1           \n",
       "1  (Intercept)               -62.674739661\n",
       "2  EducationMasters            0.082279905\n",
       "3  EducationPHD                0.000000000\n",
       "4  JoiningYear                 0.031393651\n",
       "5  CityNew Delhi              -0.011940981\n",
       "6  CityPune                    0.129756203\n",
       "7  PaymentTier                -0.054620585\n",
       "8  Age                        -0.002283375\n",
       "9  GenderMale                 -0.141466955\n",
       "10 EverBenchedYes              0.061964429\n",
       "11 ExperienceInCurrentDomain   0.000000000"
      ]
     },
     "metadata": {},
     "output_type": "display_data"
    }
   ],
   "source": [
    "selected_variables <- as_tibble(as.matrix(coef(lasso_model, s = \"lambda.1se\")),\n",
    "                                rownames='covariate')\n",
    "selected_variables"
   ]
  },
  {
   "cell_type": "code",
   "execution_count": 112,
   "id": "6c85a945-9217-46eb-9496-5e4b015fca69",
   "metadata": {},
   "outputs": [
    {
     "data": {
      "text/html": [
       "<table class=\"dataframe\">\n",
       "<caption>A tibble: 6 × 7</caption>\n",
       "<thead>\n",
       "\t<tr><th scope=col>Education</th><th scope=col>JoiningYear</th><th scope=col>City</th><th scope=col>PaymentTier</th><th scope=col>Age</th><th scope=col>Gender</th><th scope=col>LeaveOrNot</th></tr>\n",
       "\t<tr><th scope=col>&lt;chr&gt;</th><th scope=col>&lt;dbl&gt;</th><th scope=col>&lt;chr&gt;</th><th scope=col>&lt;dbl&gt;</th><th scope=col>&lt;dbl&gt;</th><th scope=col>&lt;chr&gt;</th><th scope=col>&lt;dbl&gt;</th></tr>\n",
       "</thead>\n",
       "<tbody>\n",
       "\t<tr><td>Bachelors</td><td>2015</td><td>Pune     </td><td>3</td><td>28</td><td>Male</td><td>0</td></tr>\n",
       "\t<tr><td>Bachelors</td><td>2014</td><td>Bangalore</td><td>3</td><td>29</td><td>Male</td><td>0</td></tr>\n",
       "\t<tr><td>Masters  </td><td>2017</td><td>New Delhi</td><td>3</td><td>26</td><td>Male</td><td>1</td></tr>\n",
       "\t<tr><td>Bachelors</td><td>2015</td><td>Bangalore</td><td>3</td><td>25</td><td>Male</td><td>0</td></tr>\n",
       "\t<tr><td>Masters  </td><td>2017</td><td>New Delhi</td><td>2</td><td>31</td><td>Male</td><td>0</td></tr>\n",
       "\t<tr><td>Bachelors</td><td>2013</td><td>Bangalore</td><td>3</td><td>26</td><td>Male</td><td>0</td></tr>\n",
       "</tbody>\n",
       "</table>\n"
      ],
      "text/latex": [
       "A tibble: 6 × 7\n",
       "\\begin{tabular}{lllllll}\n",
       " Education & JoiningYear & City & PaymentTier & Age & Gender & LeaveOrNot\\\\\n",
       " <chr> & <dbl> & <chr> & <dbl> & <dbl> & <chr> & <dbl>\\\\\n",
       "\\hline\n",
       "\t Bachelors & 2015 & Pune      & 3 & 28 & Male & 0\\\\\n",
       "\t Bachelors & 2014 & Bangalore & 3 & 29 & Male & 0\\\\\n",
       "\t Masters   & 2017 & New Delhi & 3 & 26 & Male & 1\\\\\n",
       "\t Bachelors & 2015 & Bangalore & 3 & 25 & Male & 0\\\\\n",
       "\t Masters   & 2017 & New Delhi & 2 & 31 & Male & 0\\\\\n",
       "\t Bachelors & 2013 & Bangalore & 3 & 26 & Male & 0\\\\\n",
       "\\end{tabular}\n"
      ],
      "text/markdown": [
       "\n",
       "A tibble: 6 × 7\n",
       "\n",
       "| Education &lt;chr&gt; | JoiningYear &lt;dbl&gt; | City &lt;chr&gt; | PaymentTier &lt;dbl&gt; | Age &lt;dbl&gt; | Gender &lt;chr&gt; | LeaveOrNot &lt;dbl&gt; |\n",
       "|---|---|---|---|---|---|---|\n",
       "| Bachelors | 2015 | Pune      | 3 | 28 | Male | 0 |\n",
       "| Bachelors | 2014 | Bangalore | 3 | 29 | Male | 0 |\n",
       "| Masters   | 2017 | New Delhi | 3 | 26 | Male | 1 |\n",
       "| Bachelors | 2015 | Bangalore | 3 | 25 | Male | 0 |\n",
       "| Masters   | 2017 | New Delhi | 2 | 31 | Male | 0 |\n",
       "| Bachelors | 2013 | Bangalore | 3 | 26 | Male | 0 |\n",
       "\n"
      ],
      "text/plain": [
       "  Education JoiningYear City      PaymentTier Age Gender LeaveOrNot\n",
       "1 Bachelors 2015        Pune      3           28  Male   0         \n",
       "2 Bachelors 2014        Bangalore 3           29  Male   0         \n",
       "3 Masters   2017        New Delhi 3           26  Male   1         \n",
       "4 Bachelors 2015        Bangalore 3           25  Male   0         \n",
       "5 Masters   2017        New Delhi 2           31  Male   0         \n",
       "6 Bachelors 2013        Bangalore 3           26  Male   0         "
      ]
     },
     "metadata": {},
     "output_type": "display_data"
    }
   ],
   "source": [
    "data_train <- employee_train |>\n",
    "            select(-EverBenched, -ExperienceInCurrentDomain)\n",
    "data_test <- employee_test |>\n",
    "            select(-EverBenched, -ExperienceInCurrentDomain)\n",
    "head(data_train)"
   ]
  },
  {
   "cell_type": "code",
   "execution_count": 113,
   "id": "b4145247-83b1-41ee-84c9-c474ec45d98e",
   "metadata": {},
   "outputs": [
    {
     "data": {
      "text/html": [
       "<table class=\"dataframe\">\n",
       "<caption>A tibble: 9 × 5</caption>\n",
       "<thead>\n",
       "\t<tr><th scope=col>term</th><th scope=col>estimate</th><th scope=col>std.error</th><th scope=col>statistic</th><th scope=col>p.value</th></tr>\n",
       "\t<tr><th scope=col>&lt;chr&gt;</th><th scope=col>&lt;dbl&gt;</th><th scope=col>&lt;dbl&gt;</th><th scope=col>&lt;dbl&gt;</th><th scope=col>&lt;dbl&gt;</th></tr>\n",
       "</thead>\n",
       "<tbody>\n",
       "\t<tr><td>(Intercept)     </td><td>-431.62752711</td><td>45.529545719</td><td> -9.4801633</td><td>2.538855e-21</td></tr>\n",
       "\t<tr><td>EducationMasters</td><td>   0.68164208</td><td> 0.111253509</td><td>  6.1269265</td><td>8.959283e-10</td></tr>\n",
       "\t<tr><td>EducationPHD    </td><td>   0.02633311</td><td> 0.220966229</td><td>  0.1191725</td><td>9.051387e-01</td></tr>\n",
       "\t<tr><td>JoiningYear     </td><td>   0.21490525</td><td> 0.022599751</td><td>  9.5091867</td><td>1.921590e-21</td></tr>\n",
       "\t<tr><td>CityNew Delhi   </td><td>  -0.44891707</td><td> 0.114270522</td><td> -3.9285466</td><td>8.546080e-05</td></tr>\n",
       "\t<tr><td>CityPune        </td><td>   0.64668123</td><td> 0.097890352</td><td>  6.6061794</td><td>3.943649e-11</td></tr>\n",
       "\t<tr><td>PaymentTier     </td><td>  -0.31417348</td><td> 0.072010150</td><td> -4.3629056</td><td>1.283464e-05</td></tr>\n",
       "\t<tr><td>Age             </td><td>  -0.03334676</td><td> 0.008361416</td><td> -3.9881719</td><td>6.658441e-05</td></tr>\n",
       "\t<tr><td>GenderMale      </td><td>  -0.89654767</td><td> 0.083683085</td><td>-10.7136068</td><td>8.787023e-27</td></tr>\n",
       "</tbody>\n",
       "</table>\n"
      ],
      "text/latex": [
       "A tibble: 9 × 5\n",
       "\\begin{tabular}{lllll}\n",
       " term & estimate & std.error & statistic & p.value\\\\\n",
       " <chr> & <dbl> & <dbl> & <dbl> & <dbl>\\\\\n",
       "\\hline\n",
       "\t (Intercept)      & -431.62752711 & 45.529545719 &  -9.4801633 & 2.538855e-21\\\\\n",
       "\t EducationMasters &    0.68164208 &  0.111253509 &   6.1269265 & 8.959283e-10\\\\\n",
       "\t EducationPHD     &    0.02633311 &  0.220966229 &   0.1191725 & 9.051387e-01\\\\\n",
       "\t JoiningYear      &    0.21490525 &  0.022599751 &   9.5091867 & 1.921590e-21\\\\\n",
       "\t CityNew Delhi    &   -0.44891707 &  0.114270522 &  -3.9285466 & 8.546080e-05\\\\\n",
       "\t CityPune         &    0.64668123 &  0.097890352 &   6.6061794 & 3.943649e-11\\\\\n",
       "\t PaymentTier      &   -0.31417348 &  0.072010150 &  -4.3629056 & 1.283464e-05\\\\\n",
       "\t Age              &   -0.03334676 &  0.008361416 &  -3.9881719 & 6.658441e-05\\\\\n",
       "\t GenderMale       &   -0.89654767 &  0.083683085 & -10.7136068 & 8.787023e-27\\\\\n",
       "\\end{tabular}\n"
      ],
      "text/markdown": [
       "\n",
       "A tibble: 9 × 5\n",
       "\n",
       "| term &lt;chr&gt; | estimate &lt;dbl&gt; | std.error &lt;dbl&gt; | statistic &lt;dbl&gt; | p.value &lt;dbl&gt; |\n",
       "|---|---|---|---|---|\n",
       "| (Intercept)      | -431.62752711 | 45.529545719 |  -9.4801633 | 2.538855e-21 |\n",
       "| EducationMasters |    0.68164208 |  0.111253509 |   6.1269265 | 8.959283e-10 |\n",
       "| EducationPHD     |    0.02633311 |  0.220966229 |   0.1191725 | 9.051387e-01 |\n",
       "| JoiningYear      |    0.21490525 |  0.022599751 |   9.5091867 | 1.921590e-21 |\n",
       "| CityNew Delhi    |   -0.44891707 |  0.114270522 |  -3.9285466 | 8.546080e-05 |\n",
       "| CityPune         |    0.64668123 |  0.097890352 |   6.6061794 | 3.943649e-11 |\n",
       "| PaymentTier      |   -0.31417348 |  0.072010150 |  -4.3629056 | 1.283464e-05 |\n",
       "| Age              |   -0.03334676 |  0.008361416 |  -3.9881719 | 6.658441e-05 |\n",
       "| GenderMale       |   -0.89654767 |  0.083683085 | -10.7136068 | 8.787023e-27 |\n",
       "\n"
      ],
      "text/plain": [
       "  term             estimate      std.error    statistic   p.value     \n",
       "1 (Intercept)      -431.62752711 45.529545719  -9.4801633 2.538855e-21\n",
       "2 EducationMasters    0.68164208  0.111253509   6.1269265 8.959283e-10\n",
       "3 EducationPHD        0.02633311  0.220966229   0.1191725 9.051387e-01\n",
       "4 JoiningYear         0.21490525  0.022599751   9.5091867 1.921590e-21\n",
       "5 CityNew Delhi      -0.44891707  0.114270522  -3.9285466 8.546080e-05\n",
       "6 CityPune            0.64668123  0.097890352   6.6061794 3.943649e-11\n",
       "7 PaymentTier        -0.31417348  0.072010150  -4.3629056 1.283464e-05\n",
       "8 Age                -0.03334676  0.008361416  -3.9881719 6.658441e-05\n",
       "9 GenderMale         -0.89654767  0.083683085 -10.7136068 8.787023e-27"
      ]
     },
     "metadata": {},
     "output_type": "display_data"
    }
   ],
   "source": [
    "final_model <- glm(LeaveOrNot ~ ., family = \"binomial\", data = data_train)\n",
    "tidy(final_model)"
   ]
  },
  {
   "cell_type": "code",
   "execution_count": 114,
   "id": "9f1aabac-a98d-4fe6-8ffe-2c9920b3be16",
   "metadata": {},
   "outputs": [
    {
     "data": {
      "text/html": [
       "<style>\n",
       ".dl-inline {width: auto; margin:0; padding: 0}\n",
       ".dl-inline>dt, .dl-inline>dd {float: none; width: auto; display: inline-block}\n",
       ".dl-inline>dt::after {content: \":\\0020\"; padding-right: .5ex}\n",
       ".dl-inline>dt:not(:first-of-type) {padding-left: .5ex}\n",
       "</style><dl class=dl-inline><dt>1</dt><dd>0</dd><dt>2</dt><dd>0</dd><dt>3</dt><dd>0</dd><dt>4</dt><dd>0</dd><dt>5</dt><dd>0</dd><dt>6</dt><dd>0</dd></dl>\n"
      ],
      "text/latex": [
       "\\begin{description*}\n",
       "\\item[1] 0\n",
       "\\item[2] 0\n",
       "\\item[3] 0\n",
       "\\item[4] 0\n",
       "\\item[5] 0\n",
       "\\item[6] 0\n",
       "\\end{description*}\n"
      ],
      "text/markdown": [
       "1\n",
       ":   02\n",
       ":   03\n",
       ":   04\n",
       ":   05\n",
       ":   06\n",
       ":   0\n",
       "\n"
      ],
      "text/plain": [
       "1 2 3 4 5 6 \n",
       "0 0 0 0 0 0 "
      ]
     },
     "metadata": {},
     "output_type": "display_data"
    }
   ],
   "source": [
    "prediction = round(predict(final_model, newdata = data_test |> select(-LeaveOrNot), type = \"response\"), 0)\n",
    "head(prediction)"
   ]
  },
  {
   "cell_type": "code",
   "execution_count": 115,
   "id": "378b568f-da84-499f-ba32-70db9ab6e4b5",
   "metadata": {},
   "outputs": [
    {
     "data": {
      "text/plain": [
       "Confusion Matrix and Statistics\n",
       "\n",
       "          Reference\n",
       "Prediction   0   1\n",
       "         0 824 291\n",
       "         1  83 198\n",
       "                                         \n",
       "               Accuracy : 0.7321         \n",
       "                 95% CI : (0.708, 0.7552)\n",
       "    No Information Rate : 0.6497         \n",
       "    P-Value [Acc > NIR] : 2.698e-11      \n",
       "                                         \n",
       "                  Kappa : 0.3475         \n",
       "                                         \n",
       " Mcnemar's Test P-Value : < 2.2e-16      \n",
       "                                         \n",
       "            Sensitivity : 0.4049         \n",
       "            Specificity : 0.9085         \n",
       "         Pos Pred Value : 0.7046         \n",
       "         Neg Pred Value : 0.7390         \n",
       "             Prevalence : 0.3503         \n",
       "         Detection Rate : 0.1418         \n",
       "   Detection Prevalence : 0.2013         \n",
       "      Balanced Accuracy : 0.6567         \n",
       "                                         \n",
       "       'Positive' Class : 1              \n",
       "                                         "
      ]
     },
     "metadata": {},
     "output_type": "display_data"
    }
   ],
   "source": [
    "conf_matrix <- \n",
    "    confusionMatrix(\n",
    "    data = as.factor(prediction),\n",
    "    reference = data_test |> select(LeaveOrNot) |> unlist() |> as.factor(),\n",
    "    positive = \"1\"\n",
    ")\n",
    "conf_matrix"
   ]
  },
  {
   "cell_type": "code",
   "execution_count": 116,
   "id": "80b94667-d5be-43b2-9496-bfe18ac4de02",
   "metadata": {},
   "outputs": [
    {
     "data": {
      "text/html": [
       "<strong>Accuracy:</strong> 0.732091690544413"
      ],
      "text/latex": [
       "\\textbf{Accuracy:} 0.732091690544413"
      ],
      "text/markdown": [
       "**Accuracy:** 0.732091690544413"
      ],
      "text/plain": [
       " Accuracy \n",
       "0.7320917 "
      ]
     },
     "metadata": {},
     "output_type": "display_data"
    }
   ],
   "source": [
    "lasso_acc <- conf_matrix$overall['Accuracy']\n",
    "lasso_acc"
   ]
  },
  {
   "cell_type": "markdown",
   "id": "74d4d145-c5a8-4ce8-b9e4-4bf67cf3aa29",
   "metadata": {},
   "source": [
    "## OLS with Forward Selection Model"
   ]
  },
  {
   "cell_type": "code",
   "execution_count": 117,
   "id": "7920304d-25a4-436f-8a7f-9a2aba8a390d",
   "metadata": {},
   "outputs": [
    {
     "data": {
      "text/html": [
       "<table class=\"dataframe\">\n",
       "<caption>A data.frame: 6 × 9</caption>\n",
       "<thead>\n",
       "\t<tr><th></th><th scope=col>Education</th><th scope=col>JoiningYear</th><th scope=col>City</th><th scope=col>PaymentTier</th><th scope=col>Age</th><th scope=col>Gender</th><th scope=col>EverBenched</th><th scope=col>ExperienceInCurrentDomain</th><th scope=col>LeaveOrNot</th></tr>\n",
       "\t<tr><th></th><th scope=col>&lt;chr&gt;</th><th scope=col>&lt;dbl&gt;</th><th scope=col>&lt;chr&gt;</th><th scope=col>&lt;ord&gt;</th><th scope=col>&lt;dbl&gt;</th><th scope=col>&lt;chr&gt;</th><th scope=col>&lt;chr&gt;</th><th scope=col>&lt;dbl&gt;</th><th scope=col>&lt;ord&gt;</th></tr>\n",
       "</thead>\n",
       "<tbody>\n",
       "\t<tr><th scope=row>1</th><td>Bachelors</td><td>2015</td><td>Pune     </td><td>High  </td><td>28</td><td>Male</td><td>No</td><td>1</td><td>Not Leave</td></tr>\n",
       "\t<tr><th scope=row>2</th><td>Bachelors</td><td>2014</td><td>Bangalore</td><td>High  </td><td>29</td><td>Male</td><td>No</td><td>1</td><td>Not Leave</td></tr>\n",
       "\t<tr><th scope=row>3</th><td>Masters  </td><td>2017</td><td>New Delhi</td><td>High  </td><td>26</td><td>Male</td><td>No</td><td>4</td><td>Leave    </td></tr>\n",
       "\t<tr><th scope=row>4</th><td>Bachelors</td><td>2015</td><td>Bangalore</td><td>High  </td><td>25</td><td>Male</td><td>No</td><td>3</td><td>Not Leave</td></tr>\n",
       "\t<tr><th scope=row>5</th><td>Masters  </td><td>2017</td><td>New Delhi</td><td>Median</td><td>31</td><td>Male</td><td>No</td><td>4</td><td>Not Leave</td></tr>\n",
       "\t<tr><th scope=row>6</th><td>Bachelors</td><td>2013</td><td>Bangalore</td><td>High  </td><td>26</td><td>Male</td><td>No</td><td>4</td><td>Not Leave</td></tr>\n",
       "</tbody>\n",
       "</table>\n"
      ],
      "text/latex": [
       "A data.frame: 6 × 9\n",
       "\\begin{tabular}{r|lllllllll}\n",
       "  & Education & JoiningYear & City & PaymentTier & Age & Gender & EverBenched & ExperienceInCurrentDomain & LeaveOrNot\\\\\n",
       "  & <chr> & <dbl> & <chr> & <ord> & <dbl> & <chr> & <chr> & <dbl> & <ord>\\\\\n",
       "\\hline\n",
       "\t1 & Bachelors & 2015 & Pune      & High   & 28 & Male & No & 1 & Not Leave\\\\\n",
       "\t2 & Bachelors & 2014 & Bangalore & High   & 29 & Male & No & 1 & Not Leave\\\\\n",
       "\t3 & Masters   & 2017 & New Delhi & High   & 26 & Male & No & 4 & Leave    \\\\\n",
       "\t4 & Bachelors & 2015 & Bangalore & High   & 25 & Male & No & 3 & Not Leave\\\\\n",
       "\t5 & Masters   & 2017 & New Delhi & Median & 31 & Male & No & 4 & Not Leave\\\\\n",
       "\t6 & Bachelors & 2013 & Bangalore & High   & 26 & Male & No & 4 & Not Leave\\\\\n",
       "\\end{tabular}\n"
      ],
      "text/markdown": [
       "\n",
       "A data.frame: 6 × 9\n",
       "\n",
       "| <!--/--> | Education &lt;chr&gt; | JoiningYear &lt;dbl&gt; | City &lt;chr&gt; | PaymentTier &lt;ord&gt; | Age &lt;dbl&gt; | Gender &lt;chr&gt; | EverBenched &lt;chr&gt; | ExperienceInCurrentDomain &lt;dbl&gt; | LeaveOrNot &lt;ord&gt; |\n",
       "|---|---|---|---|---|---|---|---|---|---|\n",
       "| 1 | Bachelors | 2015 | Pune      | High   | 28 | Male | No | 1 | Not Leave |\n",
       "| 2 | Bachelors | 2014 | Bangalore | High   | 29 | Male | No | 1 | Not Leave |\n",
       "| 3 | Masters   | 2017 | New Delhi | High   | 26 | Male | No | 4 | Leave     |\n",
       "| 4 | Bachelors | 2015 | Bangalore | High   | 25 | Male | No | 3 | Not Leave |\n",
       "| 5 | Masters   | 2017 | New Delhi | Median | 31 | Male | No | 4 | Not Leave |\n",
       "| 6 | Bachelors | 2013 | Bangalore | High   | 26 | Male | No | 4 | Not Leave |\n",
       "\n"
      ],
      "text/plain": [
       "  Education JoiningYear City      PaymentTier Age Gender EverBenched\n",
       "1 Bachelors 2015        Pune      High        28  Male   No         \n",
       "2 Bachelors 2014        Bangalore High        29  Male   No         \n",
       "3 Masters   2017        New Delhi High        26  Male   No         \n",
       "4 Bachelors 2015        Bangalore High        25  Male   No         \n",
       "5 Masters   2017        New Delhi Median      31  Male   No         \n",
       "6 Bachelors 2013        Bangalore High        26  Male   No         \n",
       "  ExperienceInCurrentDomain LeaveOrNot\n",
       "1 1                         Not Leave \n",
       "2 1                         Not Leave \n",
       "3 4                         Leave     \n",
       "4 3                         Not Leave \n",
       "5 4                         Not Leave \n",
       "6 4                         Not Leave "
      ]
     },
     "metadata": {},
     "output_type": "display_data"
    },
    {
     "data": {
      "text/html": [
       "<table class=\"dataframe\">\n",
       "<caption>A data.frame: 6 × 9</caption>\n",
       "<thead>\n",
       "\t<tr><th></th><th scope=col>Education</th><th scope=col>JoiningYear</th><th scope=col>City</th><th scope=col>PaymentTier</th><th scope=col>Age</th><th scope=col>Gender</th><th scope=col>EverBenched</th><th scope=col>ExperienceInCurrentDomain</th><th scope=col>LeaveOrNot</th></tr>\n",
       "\t<tr><th></th><th scope=col>&lt;chr&gt;</th><th scope=col>&lt;dbl&gt;</th><th scope=col>&lt;chr&gt;</th><th scope=col>&lt;ord&gt;</th><th scope=col>&lt;dbl&gt;</th><th scope=col>&lt;chr&gt;</th><th scope=col>&lt;chr&gt;</th><th scope=col>&lt;dbl&gt;</th><th scope=col>&lt;ord&gt;</th></tr>\n",
       "</thead>\n",
       "<tbody>\n",
       "\t<tr><th scope=row>1</th><td>Bachelors</td><td>2014</td><td>New Delhi</td><td>High  </td><td>38</td><td>Female</td><td>No</td><td>2</td><td>Not Leave</td></tr>\n",
       "\t<tr><th scope=row>2</th><td>Bachelors</td><td>2016</td><td>Bangalore</td><td>High  </td><td>22</td><td>Male  </td><td>No</td><td>0</td><td>Not Leave</td></tr>\n",
       "\t<tr><th scope=row>3</th><td>Bachelors</td><td>2016</td><td>Bangalore</td><td>High  </td><td>34</td><td>Female</td><td>No</td><td>2</td><td>Leave    </td></tr>\n",
       "\t<tr><th scope=row>4</th><td>Masters  </td><td>2017</td><td>New Delhi</td><td>Median</td><td>37</td><td>Male  </td><td>No</td><td>2</td><td>Not Leave</td></tr>\n",
       "\t<tr><th scope=row>5</th><td>Bachelors</td><td>2016</td><td>Bangalore</td><td>High  </td><td>39</td><td>Male  </td><td>No</td><td>2</td><td>Not Leave</td></tr>\n",
       "\t<tr><th scope=row>6</th><td>Bachelors</td><td>2012</td><td>Bangalore</td><td>High  </td><td>37</td><td>Male  </td><td>No</td><td>4</td><td>Not Leave</td></tr>\n",
       "</tbody>\n",
       "</table>\n"
      ],
      "text/latex": [
       "A data.frame: 6 × 9\n",
       "\\begin{tabular}{r|lllllllll}\n",
       "  & Education & JoiningYear & City & PaymentTier & Age & Gender & EverBenched & ExperienceInCurrentDomain & LeaveOrNot\\\\\n",
       "  & <chr> & <dbl> & <chr> & <ord> & <dbl> & <chr> & <chr> & <dbl> & <ord>\\\\\n",
       "\\hline\n",
       "\t1 & Bachelors & 2014 & New Delhi & High   & 38 & Female & No & 2 & Not Leave\\\\\n",
       "\t2 & Bachelors & 2016 & Bangalore & High   & 22 & Male   & No & 0 & Not Leave\\\\\n",
       "\t3 & Bachelors & 2016 & Bangalore & High   & 34 & Female & No & 2 & Leave    \\\\\n",
       "\t4 & Masters   & 2017 & New Delhi & Median & 37 & Male   & No & 2 & Not Leave\\\\\n",
       "\t5 & Bachelors & 2016 & Bangalore & High   & 39 & Male   & No & 2 & Not Leave\\\\\n",
       "\t6 & Bachelors & 2012 & Bangalore & High   & 37 & Male   & No & 4 & Not Leave\\\\\n",
       "\\end{tabular}\n"
      ],
      "text/markdown": [
       "\n",
       "A data.frame: 6 × 9\n",
       "\n",
       "| <!--/--> | Education &lt;chr&gt; | JoiningYear &lt;dbl&gt; | City &lt;chr&gt; | PaymentTier &lt;ord&gt; | Age &lt;dbl&gt; | Gender &lt;chr&gt; | EverBenched &lt;chr&gt; | ExperienceInCurrentDomain &lt;dbl&gt; | LeaveOrNot &lt;ord&gt; |\n",
       "|---|---|---|---|---|---|---|---|---|---|\n",
       "| 1 | Bachelors | 2014 | New Delhi | High   | 38 | Female | No | 2 | Not Leave |\n",
       "| 2 | Bachelors | 2016 | Bangalore | High   | 22 | Male   | No | 0 | Not Leave |\n",
       "| 3 | Bachelors | 2016 | Bangalore | High   | 34 | Female | No | 2 | Leave     |\n",
       "| 4 | Masters   | 2017 | New Delhi | Median | 37 | Male   | No | 2 | Not Leave |\n",
       "| 5 | Bachelors | 2016 | Bangalore | High   | 39 | Male   | No | 2 | Not Leave |\n",
       "| 6 | Bachelors | 2012 | Bangalore | High   | 37 | Male   | No | 4 | Not Leave |\n",
       "\n"
      ],
      "text/plain": [
       "  Education JoiningYear City      PaymentTier Age Gender EverBenched\n",
       "1 Bachelors 2014        New Delhi High        38  Female No         \n",
       "2 Bachelors 2016        Bangalore High        22  Male   No         \n",
       "3 Bachelors 2016        Bangalore High        34  Female No         \n",
       "4 Masters   2017        New Delhi Median      37  Male   No         \n",
       "5 Bachelors 2016        Bangalore High        39  Male   No         \n",
       "6 Bachelors 2012        Bangalore High        37  Male   No         \n",
       "  ExperienceInCurrentDomain LeaveOrNot\n",
       "1 2                         Not Leave \n",
       "2 0                         Not Leave \n",
       "3 2                         Leave     \n",
       "4 2                         Not Leave \n",
       "5 2                         Not Leave \n",
       "6 4                         Not Leave "
      ]
     },
     "metadata": {},
     "output_type": "display_data"
    }
   ],
   "source": [
    "##Since some categorical variables are present numeric ways,use factor() to transform them into categorical form.\n",
    "ly_employee_train <- data.frame(employee_train)\n",
    "ly_employee_test <- data.frame(employee_test)\n",
    "ly_employee_train$PaymentTier<-factor(ly_employee_train$PaymentTier, levels = c(1, 2, 3), labels = c(\"Low\", \"Median\", \"High\"),ordered = TRUE)\n",
    "ly_employee_train$LeaveOrNot<-factor(ly_employee_train$LeaveOrNot, levels = c(0, 1), labels = c(\"Not Leave\", \"Leave\"), ordered = TRUE)\n",
    "head(ly_employee_train)\n",
    "ly_employee_test$PaymentTier<-factor(ly_employee_test$PaymentTier, levels = c(1, 2, 3), labels = c(\"Low\", \"Median\", \"High\"),ordered = TRUE)\n",
    "ly_employee_test$LeaveOrNot<-factor(ly_employee_test$LeaveOrNot, levels = c(0, 1), labels = c(\"Not Leave\", \"Leave\"), ordered = TRUE)\n",
    "head(ly_employee_test)\n"
   ]
  },
  {
   "cell_type": "code",
   "execution_count": 118,
   "id": "a1865aea-e634-4cd5-b94e-43bb037d11c1",
   "metadata": {},
   "outputs": [
    {
     "data": {
      "text/plain": [
       "Subset selection object\n",
       "Call: regsubsets.formula(x = LeaveOrNot ~ ., nvmax = NULL, data = ly_employee_train, \n",
       "    method = \"forward\")\n",
       "11 Variables  (and intercept)\n",
       "                          Forced in Forced out\n",
       "EducationMasters              FALSE      FALSE\n",
       "EducationPHD                  FALSE      FALSE\n",
       "JoiningYear                   FALSE      FALSE\n",
       "CityNew Delhi                 FALSE      FALSE\n",
       "CityPune                      FALSE      FALSE\n",
       "PaymentTier.L                 FALSE      FALSE\n",
       "PaymentTier.Q                 FALSE      FALSE\n",
       "Age                           FALSE      FALSE\n",
       "GenderMale                    FALSE      FALSE\n",
       "EverBenchedYes                FALSE      FALSE\n",
       "ExperienceInCurrentDomain     FALSE      FALSE\n",
       "1 subsets of each size up to 11\n",
       "Selection Algorithm: forward\n",
       "          EducationMasters EducationPHD JoiningYear CityNew Delhi CityPune\n",
       "1  ( 1 )  \" \"              \" \"          \" \"         \" \"           \" \"     \n",
       "2  ( 1 )  \" \"              \" \"          \" \"         \" \"           \" \"     \n",
       "3  ( 1 )  \" \"              \" \"          \"*\"         \" \"           \" \"     \n",
       "4  ( 1 )  \" \"              \" \"          \"*\"         \" \"           \"*\"     \n",
       "5  ( 1 )  \" \"              \" \"          \"*\"         \" \"           \"*\"     \n",
       "6  ( 1 )  \"*\"              \" \"          \"*\"         \" \"           \"*\"     \n",
       "7  ( 1 )  \"*\"              \" \"          \"*\"         \"*\"           \"*\"     \n",
       "8  ( 1 )  \"*\"              \" \"          \"*\"         \"*\"           \"*\"     \n",
       "9  ( 1 )  \"*\"              \" \"          \"*\"         \"*\"           \"*\"     \n",
       "10  ( 1 ) \"*\"              \" \"          \"*\"         \"*\"           \"*\"     \n",
       "11  ( 1 ) \"*\"              \"*\"          \"*\"         \"*\"           \"*\"     \n",
       "          PaymentTier.L PaymentTier.Q Age GenderMale EverBenchedYes\n",
       "1  ( 1 )  \" \"           \"*\"           \" \" \" \"        \" \"           \n",
       "2  ( 1 )  \" \"           \"*\"           \" \" \"*\"        \" \"           \n",
       "3  ( 1 )  \" \"           \"*\"           \" \" \"*\"        \" \"           \n",
       "4  ( 1 )  \" \"           \"*\"           \" \" \"*\"        \" \"           \n",
       "5  ( 1 )  \" \"           \"*\"           \" \" \"*\"        \"*\"           \n",
       "6  ( 1 )  \" \"           \"*\"           \" \" \"*\"        \"*\"           \n",
       "7  ( 1 )  \" \"           \"*\"           \" \" \"*\"        \"*\"           \n",
       "8  ( 1 )  \" \"           \"*\"           \"*\" \"*\"        \"*\"           \n",
       "9  ( 1 )  \" \"           \"*\"           \"*\" \"*\"        \"*\"           \n",
       "10  ( 1 ) \"*\"           \"*\"           \"*\" \"*\"        \"*\"           \n",
       "11  ( 1 ) \"*\"           \"*\"           \"*\" \"*\"        \"*\"           \n",
       "          ExperienceInCurrentDomain\n",
       "1  ( 1 )  \" \"                      \n",
       "2  ( 1 )  \" \"                      \n",
       "3  ( 1 )  \" \"                      \n",
       "4  ( 1 )  \" \"                      \n",
       "5  ( 1 )  \" \"                      \n",
       "6  ( 1 )  \" \"                      \n",
       "7  ( 1 )  \" \"                      \n",
       "8  ( 1 )  \" \"                      \n",
       "9  ( 1 )  \"*\"                      \n",
       "10  ( 1 ) \"*\"                      \n",
       "11  ( 1 ) \"*\"                      "
      ]
     },
     "metadata": {},
     "output_type": "display_data"
    }
   ],
   "source": [
    "###using forward selection to find the variables to best fit predict modeling\n",
    "employee_forward_sel <- regsubsets(x = LeaveOrNot ~ ., nvmax = NULL,\n",
    "                                  data = ly_employee_train,\n",
    "                                  method = \"forward\")\n",
    "\n",
    "employee_forward_summary <- summary(employee_forward_sel)\n",
    "employee_forward_summary"
   ]
  },
  {
   "cell_type": "code",
   "execution_count": 119,
   "id": "3c87e757-d847-4447-972f-4fd55825760a",
   "metadata": {},
   "outputs": [
    {
     "data": {
      "text/html": [
       "<table class=\"dataframe\">\n",
       "<caption>A tibble: 11 × 6</caption>\n",
       "<thead>\n",
       "\t<tr><th scope=col>n_input_variables</th><th scope=col>RSQ</th><th scope=col>RSS</th><th scope=col>ADJ_R2</th><th scope=col>Cp</th><th scope=col>BIC</th></tr>\n",
       "\t<tr><th scope=col>&lt;int&gt;</th><th scope=col>&lt;dbl&gt;</th><th scope=col>&lt;dbl&gt;</th><th scope=col>&lt;dbl&gt;</th><th scope=col>&lt;dbl&gt;</th><th scope=col>&lt;dbl&gt;</th></tr>\n",
       "</thead>\n",
       "<tbody>\n",
       "\t<tr><td> 1</td><td>0.06544388</td><td>684.1186</td><td>0.06515677</td><td>313.01063</td><td>-204.2684</td></tr>\n",
       "\t<tr><td> 2</td><td>0.08796898</td><td>667.6297</td><td>0.08740842</td><td>229.06103</td><td>-275.6430</td></tr>\n",
       "\t<tr><td> 3</td><td>0.10757788</td><td>653.2755</td><td>0.10675486</td><td>156.23883</td><td>-338.3445</td></tr>\n",
       "\t<tr><td> 4</td><td>0.12504012</td><td>640.4927</td><td>0.12396391</td><td> 91.60770</td><td>-394.6183</td></tr>\n",
       "\t<tr><td> 5</td><td>0.13096820</td><td>636.1532</td><td>0.12963164</td><td> 70.98776</td><td>-408.6718</td></tr>\n",
       "\t<tr><td> 6</td><td>0.13700853</td><td>631.7315</td><td>0.13541531</td><td> 49.93951</td><td>-423.3005</td></tr>\n",
       "\t<tr><td> 7</td><td>0.14322972</td><td>627.1774</td><td>0.14138380</td><td> 28.20113</td><td>-438.7763</td></tr>\n",
       "\t<tr><td> 8</td><td>0.14711021</td><td>624.3368</td><td>0.14500950</td><td> 15.39425</td><td>-445.4729</td></tr>\n",
       "\t<tr><td> 9</td><td>0.14899282</td><td>622.9587</td><td>0.14663401</td><td> 10.21071</td><td>-444.5816</td></tr>\n",
       "\t<tr><td>10</td><td>0.14941450</td><td>622.6500</td><td>0.14679409</td><td> 10.60171</td><td>-438.1073</td></tr>\n",
       "\t<tr><td>11</td><td>0.14957219</td><td>622.5346</td><td>0.14668939</td><td> 12.00000</td><td>-430.6226</td></tr>\n",
       "</tbody>\n",
       "</table>\n"
      ],
      "text/latex": [
       "A tibble: 11 × 6\n",
       "\\begin{tabular}{llllll}\n",
       " n\\_input\\_variables & RSQ & RSS & ADJ\\_R2 & Cp & BIC\\\\\n",
       " <int> & <dbl> & <dbl> & <dbl> & <dbl> & <dbl>\\\\\n",
       "\\hline\n",
       "\t  1 & 0.06544388 & 684.1186 & 0.06515677 & 313.01063 & -204.2684\\\\\n",
       "\t  2 & 0.08796898 & 667.6297 & 0.08740842 & 229.06103 & -275.6430\\\\\n",
       "\t  3 & 0.10757788 & 653.2755 & 0.10675486 & 156.23883 & -338.3445\\\\\n",
       "\t  4 & 0.12504012 & 640.4927 & 0.12396391 &  91.60770 & -394.6183\\\\\n",
       "\t  5 & 0.13096820 & 636.1532 & 0.12963164 &  70.98776 & -408.6718\\\\\n",
       "\t  6 & 0.13700853 & 631.7315 & 0.13541531 &  49.93951 & -423.3005\\\\\n",
       "\t  7 & 0.14322972 & 627.1774 & 0.14138380 &  28.20113 & -438.7763\\\\\n",
       "\t  8 & 0.14711021 & 624.3368 & 0.14500950 &  15.39425 & -445.4729\\\\\n",
       "\t  9 & 0.14899282 & 622.9587 & 0.14663401 &  10.21071 & -444.5816\\\\\n",
       "\t 10 & 0.14941450 & 622.6500 & 0.14679409 &  10.60171 & -438.1073\\\\\n",
       "\t 11 & 0.14957219 & 622.5346 & 0.14668939 &  12.00000 & -430.6226\\\\\n",
       "\\end{tabular}\n"
      ],
      "text/markdown": [
       "\n",
       "A tibble: 11 × 6\n",
       "\n",
       "| n_input_variables &lt;int&gt; | RSQ &lt;dbl&gt; | RSS &lt;dbl&gt; | ADJ_R2 &lt;dbl&gt; | Cp &lt;dbl&gt; | BIC &lt;dbl&gt; |\n",
       "|---|---|---|---|---|---|\n",
       "|  1 | 0.06544388 | 684.1186 | 0.06515677 | 313.01063 | -204.2684 |\n",
       "|  2 | 0.08796898 | 667.6297 | 0.08740842 | 229.06103 | -275.6430 |\n",
       "|  3 | 0.10757788 | 653.2755 | 0.10675486 | 156.23883 | -338.3445 |\n",
       "|  4 | 0.12504012 | 640.4927 | 0.12396391 |  91.60770 | -394.6183 |\n",
       "|  5 | 0.13096820 | 636.1532 | 0.12963164 |  70.98776 | -408.6718 |\n",
       "|  6 | 0.13700853 | 631.7315 | 0.13541531 |  49.93951 | -423.3005 |\n",
       "|  7 | 0.14322972 | 627.1774 | 0.14138380 |  28.20113 | -438.7763 |\n",
       "|  8 | 0.14711021 | 624.3368 | 0.14500950 |  15.39425 | -445.4729 |\n",
       "|  9 | 0.14899282 | 622.9587 | 0.14663401 |  10.21071 | -444.5816 |\n",
       "| 10 | 0.14941450 | 622.6500 | 0.14679409 |  10.60171 | -438.1073 |\n",
       "| 11 | 0.14957219 | 622.5346 | 0.14668939 |  12.00000 | -430.6226 |\n",
       "\n"
      ],
      "text/plain": [
       "   n_input_variables RSQ        RSS      ADJ_R2     Cp        BIC      \n",
       "1   1                0.06544388 684.1186 0.06515677 313.01063 -204.2684\n",
       "2   2                0.08796898 667.6297 0.08740842 229.06103 -275.6430\n",
       "3   3                0.10757788 653.2755 0.10675486 156.23883 -338.3445\n",
       "4   4                0.12504012 640.4927 0.12396391  91.60770 -394.6183\n",
       "5   5                0.13096820 636.1532 0.12963164  70.98776 -408.6718\n",
       "6   6                0.13700853 631.7315 0.13541531  49.93951 -423.3005\n",
       "7   7                0.14322972 627.1774 0.14138380  28.20113 -438.7763\n",
       "8   8                0.14711021 624.3368 0.14500950  15.39425 -445.4729\n",
       "9   9                0.14899282 622.9587 0.14663401  10.21071 -444.5816\n",
       "10 10                0.14941450 622.6500 0.14679409  10.60171 -438.1073\n",
       "11 11                0.14957219 622.5346 0.14668939  12.00000 -430.6226"
      ]
     },
     "metadata": {},
     "output_type": "display_data"
    }
   ],
   "source": [
    "##store and examine different evaluation metrics to determine the best one in terms of its goodness of fit.\n",
    "employee_forward_summary_df <- tibble(\n",
    "    n_input_variables = 1:11,\n",
    "    RSQ = employee_forward_summary$rsq,\n",
    "    RSS = employee_forward_summary$rss,\n",
    "    ADJ_R2 = employee_forward_summary$adjr2,\n",
    "    Cp = employee_forward_summary$cp,\n",
    "    BIC = employee_forward_summary$bic,\n",
    ")\n",
    "employee_forward_summary_df"
   ]
  },
  {
   "cell_type": "code",
   "execution_count": 120,
   "id": "107e6a63-99ba-4a99-8d68-e0da2bf9a076",
   "metadata": {},
   "outputs": [
    {
     "data": {
      "text/html": [
       "<style>\n",
       ".list-inline {list-style: none; margin:0; padding: 0}\n",
       ".list-inline>li {display: inline-block}\n",
       ".list-inline>li:not(:last-child)::after {content: \"\\00b7\"; padding: 0 .5ex}\n",
       "</style>\n",
       "<ol class=list-inline><li>'EducationMasters'</li><li>'JoiningYear'</li><li>'CityNew Delhi'</li><li>'CityPune'</li><li>'PaymentTier.Q'</li><li>'Age'</li><li>'GenderMale'</li><li>'EverBenchedYes'</li><li>'ExperienceInCurrentDomain'</li></ol>\n"
      ],
      "text/latex": [
       "\\begin{enumerate*}\n",
       "\\item 'EducationMasters'\n",
       "\\item 'JoiningYear'\n",
       "\\item 'CityNew Delhi'\n",
       "\\item 'CityPune'\n",
       "\\item 'PaymentTier.Q'\n",
       "\\item 'Age'\n",
       "\\item 'GenderMale'\n",
       "\\item 'EverBenchedYes'\n",
       "\\item 'ExperienceInCurrentDomain'\n",
       "\\end{enumerate*}\n"
      ],
      "text/markdown": [
       "1. 'EducationMasters'\n",
       "2. 'JoiningYear'\n",
       "3. 'CityNew Delhi'\n",
       "4. 'CityPune'\n",
       "5. 'PaymentTier.Q'\n",
       "6. 'Age'\n",
       "7. 'GenderMale'\n",
       "8. 'EverBenchedYes'\n",
       "9. 'ExperienceInCurrentDomain'\n",
       "\n",
       "\n"
      ],
      "text/plain": [
       "[1] \"EducationMasters\"          \"JoiningYear\"              \n",
       "[3] \"CityNew Delhi\"             \"CityPune\"                 \n",
       "[5] \"PaymentTier.Q\"             \"Age\"                      \n",
       "[7] \"GenderMale\"                \"EverBenchedYes\"           \n",
       "[9] \"ExperienceInCurrentDomain\""
      ]
     },
     "metadata": {},
     "output_type": "display_data"
    }
   ],
   "source": [
    "#select the model that minimizes the Cp and present its predictor variables\n",
    "cp_min = which.min(employee_forward_summary$cp) \n",
    "\n",
    "selected_var <- names(coef(employee_forward_sel, cp_min))[-1]\n",
    "selected_var"
   ]
  },
  {
   "cell_type": "code",
   "execution_count": 121,
   "id": "6ac681d0-309f-403d-852f-b01c7dae866b",
   "metadata": {},
   "outputs": [
    {
     "data": {
      "text/html": [
       "<table class=\"dataframe\">\n",
       "<caption>A data.frame: 6 × 13</caption>\n",
       "<thead>\n",
       "\t<tr><th></th><th scope=col>Education</th><th scope=col>JoiningYear</th><th scope=col>City</th><th scope=col>PaymentTier</th><th scope=col>Age</th><th scope=col>Gender</th><th scope=col>EverBenched</th><th scope=col>ExperienceInCurrentDomain</th><th scope=col>LeaveOrNot</th><th scope=col>EducationMasters</th><th scope=col>CityNewDelhi</th><th scope=col>CityPune</th><th scope=col>PaymentTier.Q</th></tr>\n",
       "\t<tr><th></th><th scope=col>&lt;chr&gt;</th><th scope=col>&lt;dbl&gt;</th><th scope=col>&lt;chr&gt;</th><th scope=col>&lt;ord&gt;</th><th scope=col>&lt;dbl&gt;</th><th scope=col>&lt;chr&gt;</th><th scope=col>&lt;chr&gt;</th><th scope=col>&lt;dbl&gt;</th><th scope=col>&lt;ord&gt;</th><th scope=col>&lt;chr&gt;</th><th scope=col>&lt;chr&gt;</th><th scope=col>&lt;chr&gt;</th><th scope=col>&lt;chr&gt;</th></tr>\n",
       "</thead>\n",
       "<tbody>\n",
       "\t<tr><th scope=row>1</th><td>Bachelors</td><td>2015</td><td>Pune     </td><td>High  </td><td>28</td><td>Male</td><td>No</td><td>1</td><td>Not Leave</td><td>No </td><td>No </td><td>Yes</td><td>No </td></tr>\n",
       "\t<tr><th scope=row>2</th><td>Bachelors</td><td>2014</td><td>Bangalore</td><td>High  </td><td>29</td><td>Male</td><td>No</td><td>1</td><td>Not Leave</td><td>No </td><td>No </td><td>No </td><td>No </td></tr>\n",
       "\t<tr><th scope=row>3</th><td>Masters  </td><td>2017</td><td>New Delhi</td><td>High  </td><td>26</td><td>Male</td><td>No</td><td>4</td><td>Leave    </td><td>Yes</td><td>Yes</td><td>No </td><td>No </td></tr>\n",
       "\t<tr><th scope=row>4</th><td>Bachelors</td><td>2015</td><td>Bangalore</td><td>High  </td><td>25</td><td>Male</td><td>No</td><td>3</td><td>Not Leave</td><td>No </td><td>No </td><td>No </td><td>No </td></tr>\n",
       "\t<tr><th scope=row>5</th><td>Masters  </td><td>2017</td><td>New Delhi</td><td>Median</td><td>31</td><td>Male</td><td>No</td><td>4</td><td>Not Leave</td><td>Yes</td><td>Yes</td><td>No </td><td>Yes</td></tr>\n",
       "\t<tr><th scope=row>6</th><td>Bachelors</td><td>2013</td><td>Bangalore</td><td>High  </td><td>26</td><td>Male</td><td>No</td><td>4</td><td>Not Leave</td><td>No </td><td>No </td><td>No </td><td>No </td></tr>\n",
       "</tbody>\n",
       "</table>\n"
      ],
      "text/latex": [
       "A data.frame: 6 × 13\n",
       "\\begin{tabular}{r|lllllllllllll}\n",
       "  & Education & JoiningYear & City & PaymentTier & Age & Gender & EverBenched & ExperienceInCurrentDomain & LeaveOrNot & EducationMasters & CityNewDelhi & CityPune & PaymentTier.Q\\\\\n",
       "  & <chr> & <dbl> & <chr> & <ord> & <dbl> & <chr> & <chr> & <dbl> & <ord> & <chr> & <chr> & <chr> & <chr>\\\\\n",
       "\\hline\n",
       "\t1 & Bachelors & 2015 & Pune      & High   & 28 & Male & No & 1 & Not Leave & No  & No  & Yes & No \\\\\n",
       "\t2 & Bachelors & 2014 & Bangalore & High   & 29 & Male & No & 1 & Not Leave & No  & No  & No  & No \\\\\n",
       "\t3 & Masters   & 2017 & New Delhi & High   & 26 & Male & No & 4 & Leave     & Yes & Yes & No  & No \\\\\n",
       "\t4 & Bachelors & 2015 & Bangalore & High   & 25 & Male & No & 3 & Not Leave & No  & No  & No  & No \\\\\n",
       "\t5 & Masters   & 2017 & New Delhi & Median & 31 & Male & No & 4 & Not Leave & Yes & Yes & No  & Yes\\\\\n",
       "\t6 & Bachelors & 2013 & Bangalore & High   & 26 & Male & No & 4 & Not Leave & No  & No  & No  & No \\\\\n",
       "\\end{tabular}\n"
      ],
      "text/markdown": [
       "\n",
       "A data.frame: 6 × 13\n",
       "\n",
       "| <!--/--> | Education &lt;chr&gt; | JoiningYear &lt;dbl&gt; | City &lt;chr&gt; | PaymentTier &lt;ord&gt; | Age &lt;dbl&gt; | Gender &lt;chr&gt; | EverBenched &lt;chr&gt; | ExperienceInCurrentDomain &lt;dbl&gt; | LeaveOrNot &lt;ord&gt; | EducationMasters &lt;chr&gt; | CityNewDelhi &lt;chr&gt; | CityPune &lt;chr&gt; | PaymentTier.Q &lt;chr&gt; |\n",
       "|---|---|---|---|---|---|---|---|---|---|---|---|---|---|\n",
       "| 1 | Bachelors | 2015 | Pune      | High   | 28 | Male | No | 1 | Not Leave | No  | No  | Yes | No  |\n",
       "| 2 | Bachelors | 2014 | Bangalore | High   | 29 | Male | No | 1 | Not Leave | No  | No  | No  | No  |\n",
       "| 3 | Masters   | 2017 | New Delhi | High   | 26 | Male | No | 4 | Leave     | Yes | Yes | No  | No  |\n",
       "| 4 | Bachelors | 2015 | Bangalore | High   | 25 | Male | No | 3 | Not Leave | No  | No  | No  | No  |\n",
       "| 5 | Masters   | 2017 | New Delhi | Median | 31 | Male | No | 4 | Not Leave | Yes | Yes | No  | Yes |\n",
       "| 6 | Bachelors | 2013 | Bangalore | High   | 26 | Male | No | 4 | Not Leave | No  | No  | No  | No  |\n",
       "\n"
      ],
      "text/plain": [
       "  Education JoiningYear City      PaymentTier Age Gender EverBenched\n",
       "1 Bachelors 2015        Pune      High        28  Male   No         \n",
       "2 Bachelors 2014        Bangalore High        29  Male   No         \n",
       "3 Masters   2017        New Delhi High        26  Male   No         \n",
       "4 Bachelors 2015        Bangalore High        25  Male   No         \n",
       "5 Masters   2017        New Delhi Median      31  Male   No         \n",
       "6 Bachelors 2013        Bangalore High        26  Male   No         \n",
       "  ExperienceInCurrentDomain LeaveOrNot EducationMasters CityNewDelhi CityPune\n",
       "1 1                         Not Leave  No               No           Yes     \n",
       "2 1                         Not Leave  No               No           No      \n",
       "3 4                         Leave      Yes              Yes          No      \n",
       "4 3                         Not Leave  No               No           No      \n",
       "5 4                         Not Leave  Yes              Yes          No      \n",
       "6 4                         Not Leave  No               No           No      \n",
       "  PaymentTier.Q\n",
       "1 No           \n",
       "2 No           \n",
       "3 No           \n",
       "4 No           \n",
       "5 Yes          \n",
       "6 No           "
      ]
     },
     "metadata": {},
     "output_type": "display_data"
    }
   ],
   "source": [
    "##rearrange the training dataset to ensure it contain the best fiting variables\n",
    "rearrange_training <- ly_employee_train |>\n",
    "mutate(EducationMasters = ifelse(Education == \"Masters\", \"Yes\", \"No\"))|>\n",
    "mutate(CityNewDelhi = ifelse(City == \"New Delhi\", \"Yes\", \"No\"))|>\n",
    "mutate(CityPune = ifelse(City == \"Pune\", \"Yes\", \"No\"))|>\n",
    "mutate(PaymentTier.Q = ifelse(PaymentTier == \"Median\", \"Yes\", \"No\"))\n",
    "head(rearrange_training)"
   ]
  },
  {
   "cell_type": "code",
   "execution_count": 122,
   "id": "abd38b45-8c17-49a4-9931-6283d263b67a",
   "metadata": {},
   "outputs": [
    {
     "data": {
      "text/plain": [
       "\n",
       "Call:\n",
       "glm(formula = LeaveOrNot ~ EducationMasters + JoiningYear + CityNewDelhi + \n",
       "    CityPune + PaymentTier.Q + Age + Gender + EverBenched + ExperienceInCurrentDomain, \n",
       "    family = binomial, data = rearrange_training)\n",
       "\n",
       "Coefficients:\n",
       "                            Estimate Std. Error z value Pr(>|z|)    \n",
       "(Intercept)               -3.871e+02  4.613e+01  -8.392  < 2e-16 ***\n",
       "EducationMastersYes        6.539e-01  1.112e-01   5.879 4.13e-09 ***\n",
       "JoiningYear                1.925e-01  2.290e-02   8.404  < 2e-16 ***\n",
       "CityNewDelhiYes           -5.292e-01  1.154e-01  -4.585 4.53e-06 ***\n",
       "CityPuneYes                5.235e-01  1.019e-01   5.137 2.79e-07 ***\n",
       "PaymentTier.QYes           7.146e-01  1.097e-01   6.516 7.23e-11 ***\n",
       "Age                       -3.566e-02  8.533e-03  -4.180 2.92e-05 ***\n",
       "GenderMale                -8.732e-01  8.438e-02 -10.349  < 2e-16 ***\n",
       "EverBenchedYes             5.765e-01  1.255e-01   4.595 4.32e-06 ***\n",
       "ExperienceInCurrentDomain -7.030e-02  2.616e-02  -2.687  0.00721 ** \n",
       "---\n",
       "Signif. codes:  0 ‘***’ 0.001 ‘**’ 0.01 ‘*’ 0.05 ‘.’ 0.1 ‘ ’ 1\n",
       "\n",
       "(Dispersion parameter for binomial family taken to be 1)\n",
       "\n",
       "    Null deviance: 4180.5  on 3256  degrees of freedom\n",
       "Residual deviance: 3681.4  on 3247  degrees of freedom\n",
       "AIC: 3701.4\n",
       "\n",
       "Number of Fisher Scoring iterations: 4\n"
      ]
     },
     "metadata": {},
     "output_type": "display_data"
    }
   ],
   "source": [
    "##employing logistic regression, using binomial distribution\n",
    "rearrange_training_log <- \n",
    "    glm(formula = LeaveOrNot ~ EducationMasters+JoiningYear+CityNewDelhi+\n",
    "        CityPune+PaymentTier.Q+Age+Gender+EverBenched+ExperienceInCurrentDomain,\n",
    "        data = rearrange_training,\n",
    "        family = binomial)\n",
    "\n",
    "summary(rearrange_training_log)"
   ]
  },
  {
   "cell_type": "code",
   "execution_count": 123,
   "id": "96d9ff5d-4c4e-4e9a-8d21-e8eb22da5e46",
   "metadata": {},
   "outputs": [],
   "source": [
    "##rearrange the testing dataset to ensure it contain the best fiting variables\n",
    "rearrange_testing<-ly_employee_test|>\n",
    "mutate(EducationMasters = ifelse(Education == \"Masters\", \"Yes\", \"No\"))|>\n",
    "mutate(CityNewDelhi = ifelse(City == \"New Delhi\", \"Yes\", \"No\"))|>\n",
    "mutate(CityPune = ifelse(City == \"Pune\", \"Yes\", \"No\"))|>\n",
    "mutate(PaymentTier.Q = ifelse(PaymentTier == \"Median\", \"Yes\", \"No\"))\n",
    "\n",
    "                              "
   ]
  },
  {
   "cell_type": "code",
   "execution_count": 124,
   "id": "716ea7da-55f0-4939-b937-5f424dde0434",
   "metadata": {},
   "outputs": [
    {
     "data": {
      "text/html": [
       "0.435837095628896"
      ],
      "text/latex": [
       "0.435837095628896"
      ],
      "text/markdown": [
       "0.435837095628896"
      ],
      "text/plain": [
       "[1] 0.4358371"
      ]
     },
     "metadata": {},
     "output_type": "display_data"
    }
   ],
   "source": [
    "##Use the resulting predictive values to compute the error and the RMSE of the predictive values based on training set\n",
    "predicted_probabilities_training <- predict(rearrange_training_log, \n",
    "                                   newdata=rearrange_training,\n",
    "                                   type = \"response\")\n",
    "\n",
    "\n",
    "rearrange_training<-mutate(rearrange_training,\n",
    "                          LeaveOrNot_P = ifelse(LeaveOrNot == \"Leave\", 1, 0))\n",
    "\n",
    "#true probability of leave\n",
    "p_true_training <- rearrange_training$LeaveOrNot_P\n",
    "\n",
    "#calculate residuals\n",
    "residuals_training <- p_true_training - predicted_probabilities_training\n",
    "\n",
    "rmse_red_glm_training<-sqrt(mean(residuals_training^2))\n",
    "\n",
    "rmse_red_glm_training"
   ]
  },
  {
   "cell_type": "code",
   "execution_count": 125,
   "id": "d5aa5164-e316-40db-a2f0-81a7fdd68286",
   "metadata": {},
   "outputs": [
    {
     "data": {
      "text/html": [
       "<style>\n",
       ".dl-inline {width: auto; margin:0; padding: 0}\n",
       ".dl-inline>dt, .dl-inline>dd {float: none; width: auto; display: inline-block}\n",
       ".dl-inline>dt::after {content: \":\\0020\"; padding-right: .5ex}\n",
       ".dl-inline>dt:not(:first-of-type) {padding-left: .5ex}\n",
       "</style><dl class=dl-inline><dt>1</dt><dd>0</dd><dt>2</dt><dd>0</dd><dt>3</dt><dd>0</dd><dt>4</dt><dd>0</dd><dt>5</dt><dd>0</dd><dt>6</dt><dd>0</dd></dl>\n"
      ],
      "text/latex": [
       "\\begin{description*}\n",
       "\\item[1] 0\n",
       "\\item[2] 0\n",
       "\\item[3] 0\n",
       "\\item[4] 0\n",
       "\\item[5] 0\n",
       "\\item[6] 0\n",
       "\\end{description*}\n"
      ],
      "text/markdown": [
       "1\n",
       ":   02\n",
       ":   03\n",
       ":   04\n",
       ":   05\n",
       ":   06\n",
       ":   0\n",
       "\n"
      ],
      "text/plain": [
       "1 2 3 4 5 6 \n",
       "0 0 0 0 0 0 "
      ]
     },
     "metadata": {},
     "output_type": "display_data"
    }
   ],
   "source": [
    "prediction = round(predict(rearrange_training_log, newdata = rearrange_testing, type = \"response\"), 0)\n",
    "head(prediction)"
   ]
  },
  {
   "cell_type": "code",
   "execution_count": 126,
   "id": "60471e34-671f-44ef-82e2-d11e39ba4e4c",
   "metadata": {},
   "outputs": [
    {
     "data": {
      "text/plain": [
       "Confusion Matrix and Statistics\n",
       "\n",
       "          Reference\n",
       "Prediction   0   1\n",
       "         0 825 289\n",
       "         1  82 200\n",
       "                                          \n",
       "               Accuracy : 0.7342          \n",
       "                 95% CI : (0.7102, 0.7573)\n",
       "    No Information Rate : 0.6497          \n",
       "    P-Value [Acc > NIR] : 8.142e-12       \n",
       "                                          \n",
       "                  Kappa : 0.353           \n",
       "                                          \n",
       " Mcnemar's Test P-Value : < 2.2e-16       \n",
       "                                          \n",
       "            Sensitivity : 0.4090          \n",
       "            Specificity : 0.9096          \n",
       "         Pos Pred Value : 0.7092          \n",
       "         Neg Pred Value : 0.7406          \n",
       "             Prevalence : 0.3503          \n",
       "         Detection Rate : 0.1433          \n",
       "   Detection Prevalence : 0.2020          \n",
       "      Balanced Accuracy : 0.6593          \n",
       "                                          \n",
       "       'Positive' Class : 1               \n",
       "                                          "
      ]
     },
     "metadata": {},
     "output_type": "display_data"
    }
   ],
   "source": [
    "conf_matrix <- \n",
    "    confusionMatrix(\n",
    "    data = as.factor(prediction),\n",
    "    reference = as.factor(employee_test$LeaveOrNot),\n",
    "    positive = \"1\"\n",
    ")\n",
    "conf_matrix"
   ]
  },
  {
   "cell_type": "code",
   "execution_count": 127,
   "id": "bf9393b6-737c-4084-9aec-de806273aa88",
   "metadata": {},
   "outputs": [
    {
     "data": {
      "text/html": [
       "<strong>Accuracy:</strong> 0.734240687679083"
      ],
      "text/latex": [
       "\\textbf{Accuracy:} 0.734240687679083"
      ],
      "text/markdown": [
       "**Accuracy:** 0.734240687679083"
      ],
      "text/plain": [
       " Accuracy \n",
       "0.7342407 "
      ]
     },
     "metadata": {},
     "output_type": "display_data"
    }
   ],
   "source": [
    "ols_forward_acc <- conf_matrix$overall['Accuracy']\n",
    "ols_forward_acc"
   ]
  },
  {
   "cell_type": "markdown",
   "id": "1d42a36f-881b-4458-bcf8-8a6a811c357a",
   "metadata": {},
   "source": [
    "## Ridge Model"
   ]
  },
  {
   "cell_type": "code",
   "execution_count": 128,
   "id": "7ae4fe64-79bb-4eac-b095-354bdc2b3610",
   "metadata": {},
   "outputs": [
    {
     "data": {
      "text/plain": [
       "\n",
       "Call:  cv.glmnet(x = model_matrix_X_train, y = matrix_Y_train, type.measure = \"auc\",      nfolds = 10, alpha = 0, family = \"binomial\") \n",
       "\n",
       "Measure: AUC \n",
       "\n",
       "    Lambda Index Measure       SE Nonzero\n",
       "min   0.01    98  0.7257 0.007160      10\n",
       "1se  90.95     2  0.7213 0.008386      10"
      ]
     },
     "metadata": {},
     "output_type": "display_data"
    }
   ],
   "source": [
    "employee_cv_lambda_ridge <- \n",
    "  cv.glmnet(\n",
    "       x = model_matrix_X_train, \n",
    "       y = matrix_Y_train,\n",
    "       alpha = 0,\n",
    "       family = \"binomial\",\n",
    "       type.measure = \"auc\",\n",
    "       nfolds = 10)\n",
    "\n",
    "employee_cv_lambda_ridge"
   ]
  },
  {
   "cell_type": "code",
   "execution_count": 129,
   "id": "5b6474e0-10b0-4694-a9d5-4a1c4eb6185b",
   "metadata": {},
   "outputs": [
    {
     "data": {
      "text/plain": [
       "11 x 1 sparse Matrix of class \"dgCMatrix\"\n",
       "                                     s0\n",
       "(Intercept)               -392.06706230\n",
       "EducationMasters             0.64572996\n",
       "EducationPHD                 0.04765214\n",
       "JoiningYear                  0.19531327\n",
       "CityNew Delhi               -0.38822958\n",
       "CityPune                     0.61892205\n",
       "PaymentTier                 -0.32029380\n",
       "Age                         -0.03266386\n",
       "GenderMale                  -0.84277777\n",
       "EverBenchedYes               0.54724008\n",
       "ExperienceInCurrentDomain   -0.05936960"
      ]
     },
     "metadata": {},
     "output_type": "display_data"
    }
   ],
   "source": [
    "employee_ridge_max_AUC <- \n",
    "  glmnet(\n",
    "  x = model_matrix_X_train, y = matrix_Y_train,\n",
    "  alpha = 0,\n",
    "  family = \"binomial\",\n",
    "  lambda = employee_cv_lambda_ridge$lambda.min\n",
    ")\n",
    "\n",
    "coef(employee_ridge_max_AUC)"
   ]
  },
  {
   "cell_type": "code",
   "execution_count": 130,
   "id": "4e9758fb-9ed3-4418-ab2e-8ab37d94f4c4",
   "metadata": {},
   "outputs": [
    {
     "data": {
      "text/html": [
       "<table class=\"dataframe\">\n",
       "<caption>A matrix: 5 × 1 of type dbl</caption>\n",
       "<thead>\n",
       "\t<tr><th></th><th scope=col>s0</th></tr>\n",
       "</thead>\n",
       "<tbody>\n",
       "\t<tr><th scope=row>1</th><td>0</td></tr>\n",
       "\t<tr><th scope=row>2</th><td>0</td></tr>\n",
       "\t<tr><th scope=row>3</th><td>0</td></tr>\n",
       "\t<tr><th scope=row>4</th><td>0</td></tr>\n",
       "\t<tr><th scope=row>5</th><td>0</td></tr>\n",
       "</tbody>\n",
       "</table>\n"
      ],
      "text/latex": [
       "A matrix: 5 × 1 of type dbl\n",
       "\\begin{tabular}{r|l}\n",
       "  & s0\\\\\n",
       "\\hline\n",
       "\t1 & 0\\\\\n",
       "\t2 & 0\\\\\n",
       "\t3 & 0\\\\\n",
       "\t4 & 0\\\\\n",
       "\t5 & 0\\\\\n",
       "\\end{tabular}\n"
      ],
      "text/markdown": [
       "\n",
       "A matrix: 5 × 1 of type dbl\n",
       "\n",
       "| <!--/--> | s0 |\n",
       "|---|---|\n",
       "| 1 | 0 |\n",
       "| 2 | 0 |\n",
       "| 3 | 0 |\n",
       "| 4 | 0 |\n",
       "| 5 | 0 |\n",
       "\n"
      ],
      "text/plain": [
       "  s0\n",
       "1 0 \n",
       "2 0 \n",
       "3 0 \n",
       "4 0 \n",
       "5 0 "
      ]
     },
     "metadata": {},
     "output_type": "display_data"
    }
   ],
   "source": [
    "employee_class <- \n",
    "  predict(employee_ridge_max_AUC, model_matrix_X_train, type = \"response\") %>% round(0)\n",
    "head(employee_class, 5)"
   ]
  },
  {
   "cell_type": "code",
   "execution_count": 131,
   "id": "01deafce-7992-4b52-b14b-e3772430ffff",
   "metadata": {},
   "outputs": [
    {
     "data": {
      "text/plain": [
       "Confusion Matrix and Statistics\n",
       "\n",
       "          Reference\n",
       "Prediction    0    1\n",
       "         0 1932  682\n",
       "         1  214  429\n",
       "                                          \n",
       "               Accuracy : 0.7249          \n",
       "                 95% CI : (0.7092, 0.7402)\n",
       "    No Information Rate : 0.6589          \n",
       "    P-Value [Acc > NIR] : 3.571e-16       \n",
       "                                          \n",
       "                  Kappa : 0.3188          \n",
       "                                          \n",
       " Mcnemar's Test P-Value : < 2.2e-16       \n",
       "                                          \n",
       "            Sensitivity : 0.3861          \n",
       "            Specificity : 0.9003          \n",
       "         Pos Pred Value : 0.6672          \n",
       "         Neg Pred Value : 0.7391          \n",
       "             Prevalence : 0.3411          \n",
       "         Detection Rate : 0.1317          \n",
       "   Detection Prevalence : 0.1974          \n",
       "      Balanced Accuracy : 0.6432          \n",
       "                                          \n",
       "       'Positive' Class : 1               \n",
       "                                          "
      ]
     },
     "metadata": {},
     "output_type": "display_data"
    }
   ],
   "source": [
    "employee_confusion_matrix <- \n",
    "    confusionMatrix(\n",
    "    data = as.factor(employee_class),\n",
    "    reference = as.factor(employee_train$LeaveOrNot),\n",
    "    positive = \"1\"\n",
    ")\n",
    "\n",
    "employee_confusion_matrix"
   ]
  },
  {
   "cell_type": "code",
   "execution_count": 132,
   "id": "621a29a2-a895-4b71-becd-a8027fb34a16",
   "metadata": {},
   "outputs": [
    {
     "name": "stderr",
     "output_type": "stream",
     "text": [
      "Setting levels: control = 0, case = 1\n",
      "\n",
      "Setting direction: controls < cases\n",
      "\n"
     ]
    },
    {
     "data": {
      "text/html": [
       "-0.375973458134384"
      ],
      "text/latex": [
       "-0.375973458134384"
      ],
      "text/markdown": [
       "-0.375973458134384"
      ],
      "text/plain": [
       "[1] -0.3759735"
      ]
     },
     "metadata": {},
     "output_type": "display_data"
    }
   ],
   "source": [
    "options(repr.plot.width = 8, repr.plot.height = 8)\n",
    "\n",
    "ROC_ridge <- roc(\n",
    "  response = employee_train$LeaveOrNot,\n",
    "  predictor = predict(employee_ridge_max_AUC, newx = model_matrix_X_train)[,\"s0\"])\n",
    "\n",
    "best_threshold <- coords(ROC_ridge, \"best\")[\"threshold\"] %>% pull()\n",
    "best_threshold"
   ]
  },
  {
   "cell_type": "code",
   "execution_count": 133,
   "id": "faeb8fcb-993c-4d4d-b40f-16b86b3ba1d2",
   "metadata": {},
   "outputs": [
    {
     "data": {
      "text/plain": [
       "Confusion Matrix and Statistics\n",
       "\n",
       "          Reference\n",
       "Prediction    0    1\n",
       "         0 1755  505\n",
       "         1  391  606\n",
       "                                          \n",
       "               Accuracy : 0.7249          \n",
       "                 95% CI : (0.7092, 0.7402)\n",
       "    No Information Rate : 0.6589          \n",
       "    P-Value [Acc > NIR] : 3.571e-16       \n",
       "                                          \n",
       "                  Kappa : 0.3725          \n",
       "                                          \n",
       " Mcnemar's Test P-Value : 0.00016         \n",
       "                                          \n",
       "            Sensitivity : 0.5455          \n",
       "            Specificity : 0.8178          \n",
       "         Pos Pred Value : 0.6078          \n",
       "         Neg Pred Value : 0.7765          \n",
       "             Prevalence : 0.3411          \n",
       "         Detection Rate : 0.1861          \n",
       "   Detection Prevalence : 0.3061          \n",
       "      Balanced Accuracy : 0.6816          \n",
       "                                          \n",
       "       'Positive' Class : 1               \n",
       "                                          "
      ]
     },
     "metadata": {},
     "output_type": "display_data"
    }
   ],
   "source": [
    "train_pred <- as.integer(predict(employee_ridge_max_AUC, newx = model_matrix_X_train, newy = matrix_Y_train) > best_threshold)\n",
    "\n",
    "employee_confusion_matrix_adj <- \n",
    "    confusionMatrix(\n",
    "    data = as.factor(train_pred),\n",
    "    reference = as.factor(employee_train$LeaveOrNot),\n",
    "    positive = \"1\"\n",
    ")\n",
    "employee_confusion_matrix_adj"
   ]
  },
  {
   "cell_type": "code",
   "execution_count": 134,
   "id": "949aef01-0a9f-4a47-9a0c-27b858b34833",
   "metadata": {},
   "outputs": [],
   "source": [
    "# preparing the test matrices\n",
    "model_matrix_X_test <- \n",
    "    model.matrix(LeaveOrNot ~ ., employee_test)\n",
    "model_matrix_X_test <- model_matrix_X_test[,-1]\n",
    "\n",
    "matrix_Y_test <- \n",
    "    as.matrix(employee_test %>% select(LeaveOrNot), ncol = 1)"
   ]
  },
  {
   "cell_type": "code",
   "execution_count": 135,
   "id": "00ffd06f-26b4-4aae-b08f-86ba38705c44",
   "metadata": {},
   "outputs": [
    {
     "data": {
      "text/plain": [
       "Confusion Matrix and Statistics\n",
       "\n",
       "          Reference\n",
       "Prediction   0   1\n",
       "         0 753 215\n",
       "         1 154 274\n",
       "                                          \n",
       "               Accuracy : 0.7357          \n",
       "                 95% CI : (0.7117, 0.7586)\n",
       "    No Information Rate : 0.6497          \n",
       "    P-Value [Acc > NIR] : 3.597e-12       \n",
       "                                          \n",
       "                  Kappa : 0.4021          \n",
       "                                          \n",
       " Mcnemar's Test P-Value : 0.001787        \n",
       "                                          \n",
       "            Sensitivity : 0.5603          \n",
       "            Specificity : 0.8302          \n",
       "         Pos Pred Value : 0.6402          \n",
       "         Neg Pred Value : 0.7779          \n",
       "             Prevalence : 0.3503          \n",
       "         Detection Rate : 0.1963          \n",
       "   Detection Prevalence : 0.3066          \n",
       "      Balanced Accuracy : 0.6953          \n",
       "                                          \n",
       "       'Positive' Class : 1               \n",
       "                                          "
      ]
     },
     "metadata": {},
     "output_type": "display_data"
    }
   ],
   "source": [
    "test_pred <- as.integer(predict(employee_ridge_max_AUC, newx = model_matrix_X_test, newy = matrix_Y_test) > best_threshold)\n",
    "\n",
    "employee_confusion_matrix_test <- \n",
    "    confusionMatrix(\n",
    "    data = as.factor(test_pred),\n",
    "    reference = as.factor(employee_test$LeaveOrNot),\n",
    "    positive = \"1\"\n",
    ")\n",
    "employee_confusion_matrix_test"
   ]
  },
  {
   "cell_type": "code",
   "execution_count": 136,
   "id": "41d6fb95-e513-4f96-b9d1-3358ea08592e",
   "metadata": {},
   "outputs": [
    {
     "data": {
      "text/plain": [
       "Confusion Matrix and Statistics\n",
       "\n",
       "          Reference\n",
       "Prediction   0   1\n",
       "         0 753 215\n",
       "         1 154 274\n",
       "                                          \n",
       "               Accuracy : 0.7357          \n",
       "                 95% CI : (0.7117, 0.7586)\n",
       "    No Information Rate : 0.6497          \n",
       "    P-Value [Acc > NIR] : 3.597e-12       \n",
       "                                          \n",
       "                  Kappa : 0.4021          \n",
       "                                          \n",
       " Mcnemar's Test P-Value : 0.001787        \n",
       "                                          \n",
       "            Sensitivity : 0.5603          \n",
       "            Specificity : 0.8302          \n",
       "         Pos Pred Value : 0.6402          \n",
       "         Neg Pred Value : 0.7779          \n",
       "             Prevalence : 0.3503          \n",
       "         Detection Rate : 0.1963          \n",
       "   Detection Prevalence : 0.3066          \n",
       "      Balanced Accuracy : 0.6953          \n",
       "                                          \n",
       "       'Positive' Class : 1               \n",
       "                                          "
      ]
     },
     "metadata": {},
     "output_type": "display_data"
    }
   ],
   "source": [
    "test_pred <- as.integer(predict(employee_ridge_max_AUC, newx = model_matrix_X_test, newy = matrix_Y_test) > best_threshold)\n",
    "\n",
    "employee_confusion_matrix_test <- \n",
    "    confusionMatrix(\n",
    "    data = as.factor(test_pred),\n",
    "    reference = as.factor(employee_test$LeaveOrNot),\n",
    "    positive = \"1\"\n",
    ")\n",
    "employee_confusion_matrix_test"
   ]
  },
  {
   "cell_type": "code",
   "execution_count": 137,
   "id": "e7042759-77f9-4708-8a5a-35a3904138a0",
   "metadata": {},
   "outputs": [
    {
     "data": {
      "text/html": [
       "<strong>Accuracy:</strong> 0.73567335243553"
      ],
      "text/latex": [
       "\\textbf{Accuracy:} 0.73567335243553"
      ],
      "text/markdown": [
       "**Accuracy:** 0.73567335243553"
      ],
      "text/plain": [
       " Accuracy \n",
       "0.7356734 "
      ]
     },
     "metadata": {},
     "output_type": "display_data"
    }
   ],
   "source": [
    "ridge_acc <- employee_confusion_matrix_test$overall['Accuracy']\n",
    "ridge_acc"
   ]
  },
  {
   "cell_type": "markdown",
   "id": "9207d3f2-2952-4af6-bfbe-023f2fd9cb6e",
   "metadata": {},
   "source": [
    "# Comparison"
   ]
  },
  {
   "cell_type": "code",
   "execution_count": 138,
   "id": "df3c5ab2-8ce0-4af8-866f-e4ddc5d148af",
   "metadata": {},
   "outputs": [
    {
     "data": {
      "text/html": [
       "<table class=\"dataframe\">\n",
       "<caption>A data.frame: 3 × 2</caption>\n",
       "<thead>\n",
       "\t<tr><th scope=col>x</th><th scope=col>y</th></tr>\n",
       "\t<tr><th scope=col>&lt;chr&gt;</th><th scope=col>&lt;dbl&gt;</th></tr>\n",
       "</thead>\n",
       "<tbody>\n",
       "\t<tr><td>LASSO           </td><td>0.7320917</td></tr>\n",
       "\t<tr><td>OLS with Forward</td><td>0.7342407</td></tr>\n",
       "\t<tr><td>Ridge           </td><td>0.7356734</td></tr>\n",
       "</tbody>\n",
       "</table>\n"
      ],
      "text/latex": [
       "A data.frame: 3 × 2\n",
       "\\begin{tabular}{ll}\n",
       " x & y\\\\\n",
       " <chr> & <dbl>\\\\\n",
       "\\hline\n",
       "\t LASSO            & 0.7320917\\\\\n",
       "\t OLS with Forward & 0.7342407\\\\\n",
       "\t Ridge            & 0.7356734\\\\\n",
       "\\end{tabular}\n"
      ],
      "text/markdown": [
       "\n",
       "A data.frame: 3 × 2\n",
       "\n",
       "| x &lt;chr&gt; | y &lt;dbl&gt; |\n",
       "|---|---|\n",
       "| LASSO            | 0.7320917 |\n",
       "| OLS with Forward | 0.7342407 |\n",
       "| Ridge            | 0.7356734 |\n",
       "\n"
      ],
      "text/plain": [
       "  x                y        \n",
       "1 LASSO            0.7320917\n",
       "2 OLS with Forward 0.7342407\n",
       "3 Ridge            0.7356734"
      ]
     },
     "metadata": {},
     "output_type": "display_data"
    }
   ],
   "source": [
    "data.frame(x = c(\"LASSO\", \"OLS with Forward\", \"Ridge\"),  y = c(lasso_acc, ols_forward_acc, ridge_acc))"
   ]
  },
  {
   "cell_type": "markdown",
   "id": "a51c3394-e018-4fed-9e39-c7ebce4528df",
   "metadata": {},
   "source": [
    "The performance of the model is fairly consistent with all approaches."
   ]
  },
  {
   "cell_type": "code",
   "execution_count": null,
   "id": "7eaddb8f-7750-4963-bcca-de57fd0dd1f0",
   "metadata": {},
   "outputs": [],
   "source": []
  }
 ],
 "metadata": {
  "kernelspec": {
   "display_name": "R",
   "language": "R",
   "name": "ir"
  },
  "language_info": {
   "codemirror_mode": "r",
   "file_extension": ".r",
   "mimetype": "text/x-r-source",
   "name": "R",
   "pygments_lexer": "r",
   "version": "4.3.3"
  }
 },
 "nbformat": 4,
 "nbformat_minor": 5
}
