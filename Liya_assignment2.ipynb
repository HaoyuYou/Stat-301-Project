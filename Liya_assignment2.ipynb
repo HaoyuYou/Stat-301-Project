{
 "cells": [
  {
   "cell_type": "markdown",
   "id": "b24bd24d-b714-4ae6-9e67-a477f5ea27c7",
   "metadata": {},
   "source": [
    "# Methods and Plan & Computational Code and Output"
   ]
  },
  {
   "cell_type": "code",
   "execution_count": 137,
   "id": "de0d83fd-a8d6-450d-9eb1-fde4fa3e16cf",
   "metadata": {},
   "outputs": [],
   "source": [
    "library(broom)\n",
    "library(latex2exp)\n",
    "library(tidymodels)\n",
    "library(repr)\n",
    "library(gridExtra)\n",
    "library(faraway)\n",
    "library(mltools)\n",
    "library(leaps)\n",
    "library(glmnet)\n",
    "library(cowplot)\n",
    "library(tidyverse)\n",
    "library(modelr)"
   ]
  },
  {
   "cell_type": "markdown",
   "id": "711b9575-0ae5-42dc-8407-da4e6fe104df",
   "metadata": {},
   "source": [
    "## 1.Methods and Plan"
   ]
  },
  {
   "cell_type": "markdown",
   "id": "e78ae6a8-fa9c-4e3f-9bdc-3d0c5f4368d7",
   "metadata": {},
   "source": [
    "The goal of this analysis is to predict whether an employee will leave the company or not, based on various employee characteristics, using the dataset `employee_fulldata` which contains all variables that Kaggle provided. The proposed method for this project is logistic regression, which is appropriate for binary classification problems such as predicting whether an employee will leave (LeaveOrNot), where the outcome variable is categorical (binary: \"Leave\" or \"Not Leave\").\n",
    "\n",
    "We have already split the data into training and testing sets, and employed forward selection to choose predictor variables, such as `Education`, `Age`, `Gender`, `City`, etc, to best fit logistic regression model. \n"
   ]
  },
  {
   "cell_type": "markdown",
   "id": "b6758ec6-c7e6-485e-a4a9-fb28e66686de",
   "metadata": {},
   "source": [
    "- Why is this method appropriate?\n",
    "\n",
    "  The response variable, `LeaveOrNot`, is binary, with two possible outcomes: \"Leave\" (1) or \"Stay\" (0). Logistic regression       models the probability of an event occurring (in this case, an employee leaving the company) as a function of predictor      variables, making it ideal for this type of classification problem.Through stepwise variable selection, forward selection helps reduce overfitting. It avoids adding predictors that have a weak relationship with the target variable, thereby reducing the complexity of the model.\n",
    "\n",
    "  \n",
    "- Which assumptions are required, if any, to apply the method selected?\n",
    "\n",
    "  The response variable follows a binomial distribution.Logistic regression assumes a linear relationship between the predictor variables and the log-odds of the response variable.\n",
    "\n",
    "  The assumption of using forward selection require linear relationship between the predictor variables and the response variable.\n",
    "\n",
    "- What are the potential limitations or weaknesses of the method selected?\n",
    "\n",
    "  \n",
    "   Forward selection typically adds variables one by one, without explicitly considering interactions between them. It may fail to capture interaction effects."
   ]
  },
  {
   "cell_type": "markdown",
   "id": "533e450d-c01c-47df-b0fc-a8d0e9cead8b",
   "metadata": {},
   "source": [
    "## 2.Implementation of a proposed model"
   ]
  },
  {
   "cell_type": "code",
   "execution_count": 122,
   "id": "a7615300-a2b0-426a-a853-e267606ea421",
   "metadata": {},
   "outputs": [
    {
     "name": "stderr",
     "output_type": "stream",
     "text": [
      "\u001b[1mRows: \u001b[22m\u001b[34m4653\u001b[39m \u001b[1mColumns: \u001b[22m\u001b[34m9\u001b[39m\n",
      "\u001b[36m──\u001b[39m \u001b[1mColumn specification\u001b[22m \u001b[36m────────────────────────────────────────────────────────\u001b[39m\n",
      "\u001b[1mDelimiter:\u001b[22m \",\"\n",
      "\u001b[31mchr\u001b[39m (4): Education, City, Gender, EverBenched\n",
      "\u001b[32mdbl\u001b[39m (5): JoiningYear, PaymentTier, Age, ExperienceInCurrentDomain, LeaveOrNot\n",
      "\n",
      "\u001b[36mℹ\u001b[39m Use `spec()` to retrieve the full column specification for this data.\n",
      "\u001b[36mℹ\u001b[39m Specify the column types or set `show_col_types = FALSE` to quiet this message.\n"
     ]
    }
   ],
   "source": [
    "##Loading the dataset with full variables\n",
    "employee_fulldata <- \n",
    "    read_csv(\"data/Employee.csv\") "
   ]
  },
  {
   "cell_type": "code",
   "execution_count": 123,
   "id": "f0c17fc3-130e-4d1a-bca9-ee2ac3481835",
   "metadata": {},
   "outputs": [
    {
     "data": {
      "text/html": [
       "<table class=\"dataframe\">\n",
       "<caption>A tibble: 6 × 9</caption>\n",
       "<thead>\n",
       "\t<tr><th scope=col>Education</th><th scope=col>JoiningYear</th><th scope=col>City</th><th scope=col>PaymentTier</th><th scope=col>Age</th><th scope=col>Gender</th><th scope=col>EverBenched</th><th scope=col>ExperienceInCurrentDomain</th><th scope=col>LeaveOrNot</th></tr>\n",
       "\t<tr><th scope=col>&lt;chr&gt;</th><th scope=col>&lt;dbl&gt;</th><th scope=col>&lt;chr&gt;</th><th scope=col>&lt;ord&gt;</th><th scope=col>&lt;dbl&gt;</th><th scope=col>&lt;chr&gt;</th><th scope=col>&lt;chr&gt;</th><th scope=col>&lt;dbl&gt;</th><th scope=col>&lt;ord&gt;</th></tr>\n",
       "</thead>\n",
       "<tbody>\n",
       "\t<tr><td>Bachelors</td><td>2017</td><td>Bangalore</td><td>High</td><td>34</td><td>Male  </td><td>No </td><td>0</td><td>Not Leave</td></tr>\n",
       "\t<tr><td>Bachelors</td><td>2013</td><td>Pune     </td><td>Low </td><td>28</td><td>Female</td><td>No </td><td>3</td><td>Leave    </td></tr>\n",
       "\t<tr><td>Bachelors</td><td>2014</td><td>New Delhi</td><td>High</td><td>38</td><td>Female</td><td>No </td><td>2</td><td>Not Leave</td></tr>\n",
       "\t<tr><td>Masters  </td><td>2016</td><td>Bangalore</td><td>High</td><td>27</td><td>Male  </td><td>No </td><td>5</td><td>Leave    </td></tr>\n",
       "\t<tr><td>Masters  </td><td>2017</td><td>Pune     </td><td>High</td><td>24</td><td>Male  </td><td>Yes</td><td>2</td><td>Leave    </td></tr>\n",
       "\t<tr><td>Bachelors</td><td>2016</td><td>Bangalore</td><td>High</td><td>22</td><td>Male  </td><td>No </td><td>0</td><td>Not Leave</td></tr>\n",
       "</tbody>\n",
       "</table>\n"
      ],
      "text/latex": [
       "A tibble: 6 × 9\n",
       "\\begin{tabular}{lllllllll}\n",
       " Education & JoiningYear & City & PaymentTier & Age & Gender & EverBenched & ExperienceInCurrentDomain & LeaveOrNot\\\\\n",
       " <chr> & <dbl> & <chr> & <ord> & <dbl> & <chr> & <chr> & <dbl> & <ord>\\\\\n",
       "\\hline\n",
       "\t Bachelors & 2017 & Bangalore & High & 34 & Male   & No  & 0 & Not Leave\\\\\n",
       "\t Bachelors & 2013 & Pune      & Low  & 28 & Female & No  & 3 & Leave    \\\\\n",
       "\t Bachelors & 2014 & New Delhi & High & 38 & Female & No  & 2 & Not Leave\\\\\n",
       "\t Masters   & 2016 & Bangalore & High & 27 & Male   & No  & 5 & Leave    \\\\\n",
       "\t Masters   & 2017 & Pune      & High & 24 & Male   & Yes & 2 & Leave    \\\\\n",
       "\t Bachelors & 2016 & Bangalore & High & 22 & Male   & No  & 0 & Not Leave\\\\\n",
       "\\end{tabular}\n"
      ],
      "text/markdown": [
       "\n",
       "A tibble: 6 × 9\n",
       "\n",
       "| Education &lt;chr&gt; | JoiningYear &lt;dbl&gt; | City &lt;chr&gt; | PaymentTier &lt;ord&gt; | Age &lt;dbl&gt; | Gender &lt;chr&gt; | EverBenched &lt;chr&gt; | ExperienceInCurrentDomain &lt;dbl&gt; | LeaveOrNot &lt;ord&gt; |\n",
       "|---|---|---|---|---|---|---|---|---|\n",
       "| Bachelors | 2017 | Bangalore | High | 34 | Male   | No  | 0 | Not Leave |\n",
       "| Bachelors | 2013 | Pune      | Low  | 28 | Female | No  | 3 | Leave     |\n",
       "| Bachelors | 2014 | New Delhi | High | 38 | Female | No  | 2 | Not Leave |\n",
       "| Masters   | 2016 | Bangalore | High | 27 | Male   | No  | 5 | Leave     |\n",
       "| Masters   | 2017 | Pune      | High | 24 | Male   | Yes | 2 | Leave     |\n",
       "| Bachelors | 2016 | Bangalore | High | 22 | Male   | No  | 0 | Not Leave |\n",
       "\n"
      ],
      "text/plain": [
       "  Education JoiningYear City      PaymentTier Age Gender EverBenched\n",
       "1 Bachelors 2017        Bangalore High        34  Male   No         \n",
       "2 Bachelors 2013        Pune      Low         28  Female No         \n",
       "3 Bachelors 2014        New Delhi High        38  Female No         \n",
       "4 Masters   2016        Bangalore High        27  Male   No         \n",
       "5 Masters   2017        Pune      High        24  Male   Yes        \n",
       "6 Bachelors 2016        Bangalore High        22  Male   No         \n",
       "  ExperienceInCurrentDomain LeaveOrNot\n",
       "1 0                         Not Leave \n",
       "2 3                         Leave     \n",
       "3 2                         Not Leave \n",
       "4 5                         Leave     \n",
       "5 2                         Leave     \n",
       "6 0                         Not Leave "
      ]
     },
     "metadata": {},
     "output_type": "display_data"
    }
   ],
   "source": [
    "##Since some categorical variables are present numeric ways,use factor() to transform them into categorical form.\n",
    "employee_fulldata$PaymentTier<-factor(employee_fulldata$PaymentTier, levels = c(1, 2, 3), labels = c(\"Low\", \"Median\", \"High\"),ordered = TRUE)\n",
    "employee_fulldata$LeaveOrNot<-factor(employee_fulldata$LeaveOrNot, levels = c(0, 1), labels = c(\"Not Leave\", \"Leave\"), ordered = TRUE)\n",
    "head(employee_fulldata)\n"
   ]
  },
  {
   "cell_type": "code",
   "execution_count": 124,
   "id": "a623fee8-c531-4b6d-ae50-dc91b69003be",
   "metadata": {},
   "outputs": [],
   "source": [
    "set.seed(1234)\n",
    "##spliting data into two parts(training set and testing set) with 0.7\n",
    "employee_split <- \n",
    "    employee_fulldata %>%\n",
    "    initial_split(prop = 0.7, strata = LeaveOrNot)\n",
    "\n",
    "training_employee <- training(employee_split)\n",
    "testing_employee <- testing(employee_split)"
   ]
  },
  {
   "cell_type": "code",
   "execution_count": 125,
   "id": "358e440f-b02e-497f-ae2b-ecb7b447bc50",
   "metadata": {},
   "outputs": [
    {
     "data": {
      "text/plain": [
       "Subset selection object\n",
       "Call: regsubsets.formula(x = LeaveOrNot ~ ., nvmax = NULL, data = training_employee, \n",
       "    method = \"forward\")\n",
       "11 Variables  (and intercept)\n",
       "                          Forced in Forced out\n",
       "EducationMasters              FALSE      FALSE\n",
       "EducationPHD                  FALSE      FALSE\n",
       "JoiningYear                   FALSE      FALSE\n",
       "CityNew Delhi                 FALSE      FALSE\n",
       "CityPune                      FALSE      FALSE\n",
       "PaymentTier.L                 FALSE      FALSE\n",
       "PaymentTier.Q                 FALSE      FALSE\n",
       "Age                           FALSE      FALSE\n",
       "GenderMale                    FALSE      FALSE\n",
       "EverBenchedYes                FALSE      FALSE\n",
       "ExperienceInCurrentDomain     FALSE      FALSE\n",
       "1 subsets of each size up to 11\n",
       "Selection Algorithm: forward\n",
       "          EducationMasters EducationPHD JoiningYear CityNew Delhi CityPune\n",
       "1  ( 1 )  \" \"              \" \"          \" \"         \" \"           \" \"     \n",
       "2  ( 1 )  \" \"              \" \"          \" \"         \" \"           \" \"     \n",
       "3  ( 1 )  \" \"              \" \"          \"*\"         \" \"           \" \"     \n",
       "4  ( 1 )  \" \"              \" \"          \"*\"         \" \"           \"*\"     \n",
       "5  ( 1 )  \" \"              \" \"          \"*\"         \"*\"           \"*\"     \n",
       "6  ( 1 )  \"*\"              \" \"          \"*\"         \"*\"           \"*\"     \n",
       "7  ( 1 )  \"*\"              \" \"          \"*\"         \"*\"           \"*\"     \n",
       "8  ( 1 )  \"*\"              \" \"          \"*\"         \"*\"           \"*\"     \n",
       "9  ( 1 )  \"*\"              \" \"          \"*\"         \"*\"           \"*\"     \n",
       "10  ( 1 ) \"*\"              \" \"          \"*\"         \"*\"           \"*\"     \n",
       "11  ( 1 ) \"*\"              \"*\"          \"*\"         \"*\"           \"*\"     \n",
       "          PaymentTier.L PaymentTier.Q Age GenderMale EverBenchedYes\n",
       "1  ( 1 )  \" \"           \"*\"           \" \" \" \"        \" \"           \n",
       "2  ( 1 )  \" \"           \"*\"           \" \" \"*\"        \" \"           \n",
       "3  ( 1 )  \" \"           \"*\"           \" \" \"*\"        \" \"           \n",
       "4  ( 1 )  \" \"           \"*\"           \" \" \"*\"        \" \"           \n",
       "5  ( 1 )  \" \"           \"*\"           \" \" \"*\"        \" \"           \n",
       "6  ( 1 )  \" \"           \"*\"           \" \" \"*\"        \" \"           \n",
       "7  ( 1 )  \" \"           \"*\"           \" \" \"*\"        \"*\"           \n",
       "8  ( 1 )  \" \"           \"*\"           \"*\" \"*\"        \"*\"           \n",
       "9  ( 1 )  \" \"           \"*\"           \"*\" \"*\"        \"*\"           \n",
       "10  ( 1 ) \"*\"           \"*\"           \"*\" \"*\"        \"*\"           \n",
       "11  ( 1 ) \"*\"           \"*\"           \"*\" \"*\"        \"*\"           \n",
       "          ExperienceInCurrentDomain\n",
       "1  ( 1 )  \" \"                      \n",
       "2  ( 1 )  \" \"                      \n",
       "3  ( 1 )  \" \"                      \n",
       "4  ( 1 )  \" \"                      \n",
       "5  ( 1 )  \" \"                      \n",
       "6  ( 1 )  \" \"                      \n",
       "7  ( 1 )  \" \"                      \n",
       "8  ( 1 )  \" \"                      \n",
       "9  ( 1 )  \"*\"                      \n",
       "10  ( 1 ) \"*\"                      \n",
       "11  ( 1 ) \"*\"                      "
      ]
     },
     "metadata": {},
     "output_type": "display_data"
    }
   ],
   "source": [
    "###using forward selection to find the variables to best fit predict modeling\n",
    "employee_forward_sel <- regsubsets(x = LeaveOrNot ~ ., nvmax = NULL,\n",
    "                                  data = training_employee,\n",
    "                                  method = \"forward\")\n",
    "\n",
    "employee_forward_summary <- summary(employee_forward_sel)\n",
    "employee_forward_summary"
   ]
  },
  {
   "cell_type": "code",
   "execution_count": 126,
   "id": "fda68040-eba2-4515-8f34-a9a8b91c3f32",
   "metadata": {},
   "outputs": [],
   "source": [
    "##store and examine different evaluation metrics to determine the best one in terms of its goodness of fit.\n",
    "employee_forward_summary_df <- tibble(\n",
    "    n_input_variables = 1:11,\n",
    "    \n",
    "    RSQ = employee_forward_summary$rsq,\n",
    "    RSS = employee_forward_summary$rss,\n",
    "    ADJ_R2 = employee_forward_summary$adjr2,\n",
    "    Cp = employee_forward_summary$cp,\n",
    "    BIC = employee_forward_summary$bic,\n",
    ")"
   ]
  },
  {
   "cell_type": "code",
   "execution_count": 127,
   "id": "6f180163-a30e-4211-a8e1-7cbfdd448692",
   "metadata": {},
   "outputs": [
    {
     "data": {
      "text/html": [
       "<table class=\"dataframe\">\n",
       "<caption>A tibble: 11 × 6</caption>\n",
       "<thead>\n",
       "\t<tr><th scope=col>n_input_variables</th><th scope=col>RSQ</th><th scope=col>RSS</th><th scope=col>ADJ_R2</th><th scope=col>Cp</th><th scope=col>BIC</th></tr>\n",
       "\t<tr><th scope=col>&lt;int&gt;</th><th scope=col>&lt;dbl&gt;</th><th scope=col>&lt;dbl&gt;</th><th scope=col>&lt;dbl&gt;</th><th scope=col>&lt;dbl&gt;</th><th scope=col>&lt;dbl&gt;</th></tr>\n",
       "</thead>\n",
       "<tbody>\n",
       "\t<tr><td> 1</td><td>0.07530689</td><td>679.5203</td><td>0.07502281</td><td>325.402169</td><td>-238.8244</td></tr>\n",
       "\t<tr><td> 2</td><td>0.09926131</td><td>661.9171</td><td>0.09870769</td><td>234.702739</td><td>-316.2214</td></tr>\n",
       "\t<tr><td> 3</td><td>0.12009000</td><td>646.6109</td><td>0.11927852</td><td>156.099311</td><td>-384.3322</td></tr>\n",
       "\t<tr><td> 4</td><td>0.13930130</td><td>632.4933</td><td>0.13824263</td><td> 83.754907</td><td>-448.1423</td></tr>\n",
       "\t<tr><td> 5</td><td>0.14409599</td><td>628.9699</td><td>0.14277962</td><td> 67.200291</td><td>-458.2482</td></tr>\n",
       "\t<tr><td> 6</td><td>0.15283385</td><td>622.5488</td><td>0.15126985</td><td> 35.386287</td><td>-483.5810</td></tr>\n",
       "\t<tr><td> 7</td><td>0.15622868</td><td>620.0540</td><td>0.15441076</td><td> 24.248876</td><td>-488.5704</td></tr>\n",
       "\t<tr><td> 8</td><td>0.15893463</td><td>618.0656</td><td>0.15686304</td><td> 15.777309</td><td>-490.9437</td></tr>\n",
       "\t<tr><td> 9</td><td>0.16143937</td><td>616.2249</td><td>0.15911506</td><td>  8.084381</td><td>-492.5692</td></tr>\n",
       "\t<tr><td>10</td><td>0.16145920</td><td>616.2103</td><td>0.15887590</td><td> 10.007652</td><td>-484.5576</td></tr>\n",
       "\t<tr><td>11</td><td>0.16146118</td><td>616.2089</td><td>0.15861867</td><td> 12.000000</td><td>-476.4767</td></tr>\n",
       "</tbody>\n",
       "</table>\n"
      ],
      "text/latex": [
       "A tibble: 11 × 6\n",
       "\\begin{tabular}{llllll}\n",
       " n\\_input\\_variables & RSQ & RSS & ADJ\\_R2 & Cp & BIC\\\\\n",
       " <int> & <dbl> & <dbl> & <dbl> & <dbl> & <dbl>\\\\\n",
       "\\hline\n",
       "\t  1 & 0.07530689 & 679.5203 & 0.07502281 & 325.402169 & -238.8244\\\\\n",
       "\t  2 & 0.09926131 & 661.9171 & 0.09870769 & 234.702739 & -316.2214\\\\\n",
       "\t  3 & 0.12009000 & 646.6109 & 0.11927852 & 156.099311 & -384.3322\\\\\n",
       "\t  4 & 0.13930130 & 632.4933 & 0.13824263 &  83.754907 & -448.1423\\\\\n",
       "\t  5 & 0.14409599 & 628.9699 & 0.14277962 &  67.200291 & -458.2482\\\\\n",
       "\t  6 & 0.15283385 & 622.5488 & 0.15126985 &  35.386287 & -483.5810\\\\\n",
       "\t  7 & 0.15622868 & 620.0540 & 0.15441076 &  24.248876 & -488.5704\\\\\n",
       "\t  8 & 0.15893463 & 618.0656 & 0.15686304 &  15.777309 & -490.9437\\\\\n",
       "\t  9 & 0.16143937 & 616.2249 & 0.15911506 &   8.084381 & -492.5692\\\\\n",
       "\t 10 & 0.16145920 & 616.2103 & 0.15887590 &  10.007652 & -484.5576\\\\\n",
       "\t 11 & 0.16146118 & 616.2089 & 0.15861867 &  12.000000 & -476.4767\\\\\n",
       "\\end{tabular}\n"
      ],
      "text/markdown": [
       "\n",
       "A tibble: 11 × 6\n",
       "\n",
       "| n_input_variables &lt;int&gt; | RSQ &lt;dbl&gt; | RSS &lt;dbl&gt; | ADJ_R2 &lt;dbl&gt; | Cp &lt;dbl&gt; | BIC &lt;dbl&gt; |\n",
       "|---|---|---|---|---|---|\n",
       "|  1 | 0.07530689 | 679.5203 | 0.07502281 | 325.402169 | -238.8244 |\n",
       "|  2 | 0.09926131 | 661.9171 | 0.09870769 | 234.702739 | -316.2214 |\n",
       "|  3 | 0.12009000 | 646.6109 | 0.11927852 | 156.099311 | -384.3322 |\n",
       "|  4 | 0.13930130 | 632.4933 | 0.13824263 |  83.754907 | -448.1423 |\n",
       "|  5 | 0.14409599 | 628.9699 | 0.14277962 |  67.200291 | -458.2482 |\n",
       "|  6 | 0.15283385 | 622.5488 | 0.15126985 |  35.386287 | -483.5810 |\n",
       "|  7 | 0.15622868 | 620.0540 | 0.15441076 |  24.248876 | -488.5704 |\n",
       "|  8 | 0.15893463 | 618.0656 | 0.15686304 |  15.777309 | -490.9437 |\n",
       "|  9 | 0.16143937 | 616.2249 | 0.15911506 |   8.084381 | -492.5692 |\n",
       "| 10 | 0.16145920 | 616.2103 | 0.15887590 |  10.007652 | -484.5576 |\n",
       "| 11 | 0.16146118 | 616.2089 | 0.15861867 |  12.000000 | -476.4767 |\n",
       "\n"
      ],
      "text/plain": [
       "   n_input_variables RSQ        RSS      ADJ_R2     Cp         BIC      \n",
       "1   1                0.07530689 679.5203 0.07502281 325.402169 -238.8244\n",
       "2   2                0.09926131 661.9171 0.09870769 234.702739 -316.2214\n",
       "3   3                0.12009000 646.6109 0.11927852 156.099311 -384.3322\n",
       "4   4                0.13930130 632.4933 0.13824263  83.754907 -448.1423\n",
       "5   5                0.14409599 628.9699 0.14277962  67.200291 -458.2482\n",
       "6   6                0.15283385 622.5488 0.15126985  35.386287 -483.5810\n",
       "7   7                0.15622868 620.0540 0.15441076  24.248876 -488.5704\n",
       "8   8                0.15893463 618.0656 0.15686304  15.777309 -490.9437\n",
       "9   9                0.16143937 616.2249 0.15911506   8.084381 -492.5692\n",
       "10 10                0.16145920 616.2103 0.15887590  10.007652 -484.5576\n",
       "11 11                0.16146118 616.2089 0.15861867  12.000000 -476.4767"
      ]
     },
     "metadata": {},
     "output_type": "display_data"
    }
   ],
   "source": [
    "employee_forward_summary_df"
   ]
  },
  {
   "cell_type": "code",
   "execution_count": 128,
   "id": "735021f2-8bf4-406f-b682-bee5792fc19a",
   "metadata": {},
   "outputs": [
    {
     "data": {
      "text/html": [
       "<style>\n",
       ".list-inline {list-style: none; margin:0; padding: 0}\n",
       ".list-inline>li {display: inline-block}\n",
       ".list-inline>li:not(:last-child)::after {content: \"\\00b7\"; padding: 0 .5ex}\n",
       "</style>\n",
       "<ol class=list-inline><li>'EducationMasters'</li><li>'JoiningYear'</li><li>'CityNew Delhi'</li><li>'CityPune'</li><li>'PaymentTier.Q'</li><li>'Age'</li><li>'GenderMale'</li><li>'EverBenchedYes'</li><li>'ExperienceInCurrentDomain'</li></ol>\n"
      ],
      "text/latex": [
       "\\begin{enumerate*}\n",
       "\\item 'EducationMasters'\n",
       "\\item 'JoiningYear'\n",
       "\\item 'CityNew Delhi'\n",
       "\\item 'CityPune'\n",
       "\\item 'PaymentTier.Q'\n",
       "\\item 'Age'\n",
       "\\item 'GenderMale'\n",
       "\\item 'EverBenchedYes'\n",
       "\\item 'ExperienceInCurrentDomain'\n",
       "\\end{enumerate*}\n"
      ],
      "text/markdown": [
       "1. 'EducationMasters'\n",
       "2. 'JoiningYear'\n",
       "3. 'CityNew Delhi'\n",
       "4. 'CityPune'\n",
       "5. 'PaymentTier.Q'\n",
       "6. 'Age'\n",
       "7. 'GenderMale'\n",
       "8. 'EverBenchedYes'\n",
       "9. 'ExperienceInCurrentDomain'\n",
       "\n",
       "\n"
      ],
      "text/plain": [
       "[1] \"EducationMasters\"          \"JoiningYear\"              \n",
       "[3] \"CityNew Delhi\"             \"CityPune\"                 \n",
       "[5] \"PaymentTier.Q\"             \"Age\"                      \n",
       "[7] \"GenderMale\"                \"EverBenchedYes\"           \n",
       "[9] \"ExperienceInCurrentDomain\""
      ]
     },
     "metadata": {},
     "output_type": "display_data"
    }
   ],
   "source": [
    "#select the model that minimizes the Cp and present its predictor variables\n",
    "cp_min = which.min(employee_forward_summary$cp) \n",
    "\n",
    "selected_var <- names(coef(employee_forward_sel, cp_min))[-1]\n",
    "selected_var"
   ]
  },
  {
   "cell_type": "code",
   "execution_count": 129,
   "id": "b74345ec-1bec-4d8c-a170-9148cf64712a",
   "metadata": {},
   "outputs": [],
   "source": [
    "##rearrange the training dataset to ensure it contain the best fiting variables\n",
    "rearrange_training<-training_employee|>\n",
    "mutate(EducationMasters = ifelse(Education == \"Masters\", \"Yes\", \"No\"))|>\n",
    "mutate(CityNewDelhi = ifelse(City == \"New Delhi\", \"Yes\", \"No\"))|>\n",
    "mutate(CityPune = ifelse(City == \"Pune\", \"Yes\", \"No\"))|>\n",
    "mutate(PaymentTier.Q = ifelse(PaymentTier == \"Median\", \"Yes\", \"No\"))"
   ]
  },
  {
   "cell_type": "code",
   "execution_count": 131,
   "id": "3acd693c-c347-4b3b-a577-acec93a1367d",
   "metadata": {},
   "outputs": [
    {
     "data": {
      "text/plain": [
       "\n",
       "Call:\n",
       "glm(formula = LeaveOrNot ~ EducationMasters + JoiningYear + CityNewDelhi + \n",
       "    CityPune + PaymentTier.Q + Age + Gender + EverBenched + ExperienceInCurrentDomain, \n",
       "    family = binomial, data = rearrange_training)\n",
       "\n",
       "Coefficients:\n",
       "                            Estimate Std. Error z value Pr(>|z|)    \n",
       "(Intercept)               -4.133e+02  4.652e+01  -8.884  < 2e-16 ***\n",
       "EducationMastersYes        6.470e-01  1.145e-01   5.651 1.59e-08 ***\n",
       "JoiningYear                2.054e-01  2.309e-02   8.896  < 2e-16 ***\n",
       "CityNewDelhiYes           -6.862e-01  1.189e-01  -5.769 7.96e-09 ***\n",
       "CityPuneYes                5.075e-01  1.022e-01   4.963 6.93e-07 ***\n",
       "PaymentTier.QYes           8.430e-01  1.102e-01   7.650 2.00e-14 ***\n",
       "Age                       -3.187e-02  8.577e-03  -3.716 0.000202 ***\n",
       "GenderMale                -9.087e-01  8.480e-02 -10.715  < 2e-16 ***\n",
       "EverBenchedYes             4.570e-01  1.281e-01   3.569 0.000359 ***\n",
       "ExperienceInCurrentDomain -8.374e-02  2.635e-02  -3.178 0.001481 ** \n",
       "---\n",
       "Signif. codes:  0 ‘***’ 0.001 ‘**’ 0.01 ‘*’ 0.05 ‘.’ 0.1 ‘ ’ 1\n",
       "\n",
       "(Dispersion parameter for binomial family taken to be 1)\n",
       "\n",
       "    Null deviance: 4192.2  on 3256  degrees of freedom\n",
       "Residual deviance: 3648.2  on 3247  degrees of freedom\n",
       "AIC: 3668.2\n",
       "\n",
       "Number of Fisher Scoring iterations: 4\n"
      ]
     },
     "metadata": {},
     "output_type": "display_data"
    }
   ],
   "source": [
    "##employing logistic regression, using binomial distribution\n",
    "rearrange_training_log <- \n",
    "    glm(formula = LeaveOrNot ~ EducationMasters+JoiningYear+CityNewDelhi+\n",
    "        CityPune+PaymentTier.Q+Age+Gender+EverBenched+ExperienceInCurrentDomain,\n",
    "        data = rearrange_training,\n",
    "        family = binomial)\n",
    "\n",
    "summary(rearrange_training_log)"
   ]
  },
  {
   "cell_type": "code",
   "execution_count": 92,
   "id": "40c66f29-b673-4fc3-8edc-81151c8f51a7",
   "metadata": {},
   "outputs": [
    {
     "data": {
      "text/html": [
       "<table class=\"dataframe\">\n",
       "<caption>A tibble: 10 × 6</caption>\n",
       "<thead>\n",
       "\t<tr><th scope=col>term</th><th scope=col>estimate</th><th scope=col>std.error</th><th scope=col>statistic</th><th scope=col>p.value</th><th scope=col>exp.estimate</th></tr>\n",
       "\t<tr><th scope=col>&lt;chr&gt;</th><th scope=col>&lt;dbl&gt;</th><th scope=col>&lt;dbl&gt;</th><th scope=col>&lt;dbl&gt;</th><th scope=col>&lt;dbl&gt;</th><th scope=col>&lt;dbl&gt;</th></tr>\n",
       "</thead>\n",
       "<tbody>\n",
       "\t<tr><td>(Intercept)              </td><td>-413.25984784</td><td>46.516534295</td><td> -8.884150</td><td>6.441159e-19</td><td>3.338324e-180</td></tr>\n",
       "\t<tr><td>EducationMastersYes      </td><td>   0.64698583</td><td> 0.114481430</td><td>  5.651448</td><td>1.591019e-08</td><td> 1.909776e+00</td></tr>\n",
       "\t<tr><td>JoiningYear              </td><td>   0.20541871</td><td> 0.023090852</td><td>  8.896108</td><td>5.783920e-19</td><td> 1.228039e+00</td></tr>\n",
       "\t<tr><td>CityNewDelhiYes          </td><td>  -0.68623187</td><td> 0.118947033</td><td> -5.769222</td><td>7.963821e-09</td><td> 5.034696e-01</td></tr>\n",
       "\t<tr><td>CityPuneYes              </td><td>   0.50748926</td><td> 0.102245192</td><td>  4.963454</td><td>6.925062e-07</td><td> 1.661115e+00</td></tr>\n",
       "\t<tr><td>PaymentTier.QYes         </td><td>   0.84298413</td><td> 0.110187133</td><td>  7.650477</td><td>2.002351e-14</td><td> 2.323290e+00</td></tr>\n",
       "\t<tr><td>Age                      </td><td>  -0.03187216</td><td> 0.008576556</td><td> -3.716195</td><td>2.022452e-04</td><td> 9.686304e-01</td></tr>\n",
       "\t<tr><td>GenderMale               </td><td>  -0.90865142</td><td> 0.084799521</td><td>-10.715290</td><td>8.628678e-27</td><td> 4.030674e-01</td></tr>\n",
       "\t<tr><td>EverBenchedYes           </td><td>   0.45704022</td><td> 0.128067923</td><td>  3.568733</td><td>3.587118e-04</td><td> 1.579392e+00</td></tr>\n",
       "\t<tr><td>ExperienceInCurrentDomain</td><td>  -0.08374378</td><td> 0.026348456</td><td> -3.178318</td><td>1.481320e-03</td><td> 9.196669e-01</td></tr>\n",
       "</tbody>\n",
       "</table>\n"
      ],
      "text/latex": [
       "A tibble: 10 × 6\n",
       "\\begin{tabular}{llllll}\n",
       " term & estimate & std.error & statistic & p.value & exp.estimate\\\\\n",
       " <chr> & <dbl> & <dbl> & <dbl> & <dbl> & <dbl>\\\\\n",
       "\\hline\n",
       "\t (Intercept)               & -413.25984784 & 46.516534295 &  -8.884150 & 6.441159e-19 & 3.338324e-180\\\\\n",
       "\t EducationMastersYes       &    0.64698583 &  0.114481430 &   5.651448 & 1.591019e-08 &  1.909776e+00\\\\\n",
       "\t JoiningYear               &    0.20541871 &  0.023090852 &   8.896108 & 5.783920e-19 &  1.228039e+00\\\\\n",
       "\t CityNewDelhiYes           &   -0.68623187 &  0.118947033 &  -5.769222 & 7.963821e-09 &  5.034696e-01\\\\\n",
       "\t CityPuneYes               &    0.50748926 &  0.102245192 &   4.963454 & 6.925062e-07 &  1.661115e+00\\\\\n",
       "\t PaymentTier.QYes          &    0.84298413 &  0.110187133 &   7.650477 & 2.002351e-14 &  2.323290e+00\\\\\n",
       "\t Age                       &   -0.03187216 &  0.008576556 &  -3.716195 & 2.022452e-04 &  9.686304e-01\\\\\n",
       "\t GenderMale                &   -0.90865142 &  0.084799521 & -10.715290 & 8.628678e-27 &  4.030674e-01\\\\\n",
       "\t EverBenchedYes            &    0.45704022 &  0.128067923 &   3.568733 & 3.587118e-04 &  1.579392e+00\\\\\n",
       "\t ExperienceInCurrentDomain &   -0.08374378 &  0.026348456 &  -3.178318 & 1.481320e-03 &  9.196669e-01\\\\\n",
       "\\end{tabular}\n"
      ],
      "text/markdown": [
       "\n",
       "A tibble: 10 × 6\n",
       "\n",
       "| term &lt;chr&gt; | estimate &lt;dbl&gt; | std.error &lt;dbl&gt; | statistic &lt;dbl&gt; | p.value &lt;dbl&gt; | exp.estimate &lt;dbl&gt; |\n",
       "|---|---|---|---|---|---|\n",
       "| (Intercept)               | -413.25984784 | 46.516534295 |  -8.884150 | 6.441159e-19 | 3.338324e-180 |\n",
       "| EducationMastersYes       |    0.64698583 |  0.114481430 |   5.651448 | 1.591019e-08 |  1.909776e+00 |\n",
       "| JoiningYear               |    0.20541871 |  0.023090852 |   8.896108 | 5.783920e-19 |  1.228039e+00 |\n",
       "| CityNewDelhiYes           |   -0.68623187 |  0.118947033 |  -5.769222 | 7.963821e-09 |  5.034696e-01 |\n",
       "| CityPuneYes               |    0.50748926 |  0.102245192 |   4.963454 | 6.925062e-07 |  1.661115e+00 |\n",
       "| PaymentTier.QYes          |    0.84298413 |  0.110187133 |   7.650477 | 2.002351e-14 |  2.323290e+00 |\n",
       "| Age                       |   -0.03187216 |  0.008576556 |  -3.716195 | 2.022452e-04 |  9.686304e-01 |\n",
       "| GenderMale                |   -0.90865142 |  0.084799521 | -10.715290 | 8.628678e-27 |  4.030674e-01 |\n",
       "| EverBenchedYes            |    0.45704022 |  0.128067923 |   3.568733 | 3.587118e-04 |  1.579392e+00 |\n",
       "| ExperienceInCurrentDomain |   -0.08374378 |  0.026348456 |  -3.178318 | 1.481320e-03 |  9.196669e-01 |\n",
       "\n"
      ],
      "text/plain": [
       "   term                      estimate      std.error    statistic  p.value     \n",
       "1  (Intercept)               -413.25984784 46.516534295  -8.884150 6.441159e-19\n",
       "2  EducationMastersYes          0.64698583  0.114481430   5.651448 1.591019e-08\n",
       "3  JoiningYear                  0.20541871  0.023090852   8.896108 5.783920e-19\n",
       "4  CityNewDelhiYes             -0.68623187  0.118947033  -5.769222 7.963821e-09\n",
       "5  CityPuneYes                  0.50748926  0.102245192   4.963454 6.925062e-07\n",
       "6  PaymentTier.QYes             0.84298413  0.110187133   7.650477 2.002351e-14\n",
       "7  Age                         -0.03187216  0.008576556  -3.716195 2.022452e-04\n",
       "8  GenderMale                  -0.90865142  0.084799521 -10.715290 8.628678e-27\n",
       "9  EverBenchedYes               0.45704022  0.128067923   3.568733 3.587118e-04\n",
       "10 ExperienceInCurrentDomain   -0.08374378  0.026348456  -3.178318 1.481320e-03\n",
       "   exp.estimate \n",
       "1  3.338324e-180\n",
       "2   1.909776e+00\n",
       "3   1.228039e+00\n",
       "4   5.034696e-01\n",
       "5   1.661115e+00\n",
       "6   2.323290e+00\n",
       "7   9.686304e-01\n",
       "8   4.030674e-01\n",
       "9   1.579392e+00\n",
       "10  9.196669e-01"
      ]
     },
     "metadata": {},
     "output_type": "display_data"
    }
   ],
   "source": [
    "# exponential estimate\n",
    "rearrange_training_log_results  <-\n",
    "    rearrange_training_log|>\n",
    "    tidy()|>\n",
    "    mutate(exp.estimate = exp(estimate)) \n",
    "rearrange_training_log_results"
   ]
  },
  {
   "cell_type": "code",
   "execution_count": 132,
   "id": "150c94bb-ddad-4e3b-8584-e8b97017bb12",
   "metadata": {},
   "outputs": [],
   "source": [
    "##rearrange the testing dataset to ensure it contain the best fiting variables\n",
    "rearrange_testing<-testing_employee|>\n",
    "mutate(EducationMasters = ifelse(Education == \"Masters\", \"Yes\", \"No\"))|>\n",
    "mutate(CityNewDelhi = ifelse(City == \"New Delhi\", \"Yes\", \"No\"))|>\n",
    "mutate(CityPune = ifelse(City == \"Pune\", \"Yes\", \"No\"))|>\n",
    "mutate(PaymentTier.Q = ifelse(PaymentTier == \"Median\", \"Yes\", \"No\"))\n",
    "\n",
    "                              "
   ]
  },
  {
   "cell_type": "code",
   "execution_count": 134,
   "id": "328ae5e4-de45-4215-8062-be5be4f461b4",
   "metadata": {},
   "outputs": [],
   "source": [
    "##Use the resulting predictive values to compute the error and the RMSE of the predictive values based on training set\n",
    "predicted_probabilities_training <- predict(rearrange_training_log, \n",
    "                                   newdata=rearrange_training,\n",
    "                                   type = \"response\")\n",
    "\n",
    "\n",
    "rearrange_training<-mutate(rearrange_training,\n",
    "                          LeaveOrNot_P = ifelse(LeaveOrNot == \"Leave\", 1, 0))\n",
    "\n",
    "#true probability of leave\n",
    "p_true_training <- rearrange_training$LeaveOrNot_P\n",
    "\n",
    "#calculate residuals\n",
    "residuals_training <- p_true_training - predicted_probabilities_training\n",
    "\n",
    "rmse_red_glm_training<-sqrt(mean(residuals_training^2))\n"
   ]
  },
  {
   "cell_type": "code",
   "execution_count": 136,
   "id": "c36f8276-e1fe-4940-9497-ff0b58a810ac",
   "metadata": {},
   "outputs": [
    {
     "data": {
      "text/html": [
       "0.43299146138747"
      ],
      "text/latex": [
       "0.43299146138747"
      ],
      "text/markdown": [
       "0.43299146138747"
      ],
      "text/plain": [
       "[1] 0.4329915"
      ]
     },
     "metadata": {},
     "output_type": "display_data"
    }
   ],
   "source": [
    "rmse_red_glm_training"
   ]
  },
  {
   "cell_type": "code",
   "execution_count": 96,
   "id": "2ba50995-9623-4a39-97ce-4a95ea1bdf3c",
   "metadata": {},
   "outputs": [],
   "source": [
    "##Use the resulting predictive values to compute the error and the RMSE of the predictive values based on testing set\n",
    "predicted_probabilities_testing <- predict(rearrange_training_log, \n",
    "                                   newdata = rearrange_testing, \n",
    "                                   type = \"response\")\n",
    "\n",
    "\n",
    "rearrange_testing<-mutate(rearrange_testing,\n",
    "                          LeaveOrNot_P = ifelse(LeaveOrNot == \"Leave\", 1, 0))\n",
    "\n",
    "#true probability of leave\n",
    "p_true_testing <- rearrange_testing$LeaveOrNot_P\n",
    "\n",
    "#calculate residuals\n",
    "residuals_testing <- p_true_testing - predicted_probabilities_testing\n",
    "\n",
    "rmse_red_glm_testing<-sqrt(mean(residuals_testing^2))\n"
   ]
  },
  {
   "cell_type": "code",
   "execution_count": 97,
   "id": "9a7a5bfd-3c71-4447-9662-8fba63cb0b3a",
   "metadata": {},
   "outputs": [
    {
     "data": {
      "text/html": [
       "0.435862399200198"
      ],
      "text/latex": [
       "0.435862399200198"
      ],
      "text/markdown": [
       "0.435862399200198"
      ],
      "text/plain": [
       "[1] 0.4358624"
      ]
     },
     "metadata": {},
     "output_type": "display_data"
    }
   ],
   "source": [
    "rmse_red_glm_testing"
   ]
  },
  {
   "cell_type": "markdown",
   "id": "589b8d60-c305-4174-a392-a2562ea48f9b",
   "metadata": {},
   "source": [
    "## 3.Conclusion"
   ]
  },
  {
   "cell_type": "markdown",
   "id": "1ad040f7-2905-41f8-9b3b-b396fd45d8a1",
   "metadata": {},
   "source": [
    "The RMSE values for both the training set (0.433) and the testing set (0.436) are very close, indicating that the model generalizes well and is not overfitting. The slight increase in RMSE on the testing set is resonable and suggests that the predictive model is good fit for both training and unseen data. These results support the model's ability to predict the likelihood of employees leaving.However,the RMSE is a bit large, which makes skeptical about the model's fit to the data."
   ]
  },
  {
   "cell_type": "code",
   "execution_count": null,
   "id": "d64645df-7a6d-4902-a4c3-85b3289fba1a",
   "metadata": {},
   "outputs": [],
   "source": []
  }
 ],
 "metadata": {
  "kernelspec": {
   "display_name": "R",
   "language": "R",
   "name": "ir"
  },
  "language_info": {
   "codemirror_mode": "r",
   "file_extension": ".r",
   "mimetype": "text/x-r-source",
   "name": "R",
   "pygments_lexer": "r",
   "version": "4.3.3"
  }
 },
 "nbformat": 4,
 "nbformat_minor": 5
}
