{
 "cells": [
  {
   "cell_type": "markdown",
   "id": "d7f0c4f9-9c93-466c-857a-7db0d03519e3",
   "metadata": {},
   "source": [
    "# Group 25 Final Report"
   ]
  },
  {
   "cell_type": "markdown",
   "id": "dff33026-d55b-43f8-a904-1d2d45881f73",
   "metadata": {},
   "source": [
    "## Introduction"
   ]
  },
  {
   "cell_type": "markdown",
   "id": "cc1bd85e-97e6-4c58-8362-a0b4a113e2e7",
   "metadata": {},
   "source": [
    "Employee resignation is a significant concern for organizations across industries. This is because when employees decide to quit a company, it can disrupt productivity leading to financial losses (Batt, R., & Colvin, A. J. S., 2011, p.700). Understanding whether employees will leave is crucial for businesses aiming to retain top talent. The reasons behind resignations are varied and can range from personal factors, such as career advancement opportunities to organizational factors, such as inadequate financial compensation or toxic work environment (CE Noticias Financieras English, 2023). According to Adnan Iqbal (2001), “old retention strategies, such as money or financial incentives, will not be the way to go forward into the future” (p.279). As such, by examining the underlying causes, companies can employ targeted retention strategies on employees at risk of leaving to reduce turnover rate, and improve overall productivity.\n",
    "\n",
    "To pinpoint the answer to whether an employee will leave the company, we will conduct an investigation using the dataset provided by Tawfik Elmetwally at (https://www.kaggle.com/datasets/tawfikelmetwally/employee-dataset)"
   ]
  },
  {
   "cell_type": "markdown",
   "id": "ae858d2d-6fe1-44aa-8d33-c4f4cbceaac6",
   "metadata": {},
   "source": [
    "<br><br>"
   ]
  },
  {
   "cell_type": "markdown",
   "id": "4a7b40b1-6285-45ef-ba06-4eefc2ee1007",
   "metadata": {},
   "source": [
    "## EDA"
   ]
  },
  {
   "cell_type": "markdown",
   "id": "8c61cbb9-c054-4c3b-8a05-c739d918d5a3",
   "metadata": {},
   "source": [
    "<br><br>"
   ]
  },
  {
   "cell_type": "markdown",
   "id": "eb047420-38a1-4d14-99e9-94bef807ee03",
   "metadata": {},
   "source": [
    "## Methods & Results"
   ]
  },
  {
   "cell_type": "markdown",
   "id": "f66b0567-5ba4-4902-adfa-192d61af057c",
   "metadata": {},
   "source": [
    "<br><br>"
   ]
  },
  {
   "cell_type": "markdown",
   "id": "3ba184a3-7ffd-4814-847f-abedad6f3954",
   "metadata": {},
   "source": [
    "## Discussion"
   ]
  },
  {
   "cell_type": "markdown",
   "id": "2d9bad40-0c69-4256-9958-a2839ef2ff52",
   "metadata": {},
   "source": [
    "<br><br>"
   ]
  },
  {
   "cell_type": "markdown",
   "id": "878f073a-1916-4800-9479-2e13832fb211",
   "metadata": {},
   "source": [
    "## References"
   ]
  },
  {
   "cell_type": "markdown",
   "id": "6e697538-03eb-43dd-ad56-cceebc762a53",
   "metadata": {},
   "source": [
    "(August 10, 2023 Thursday). These are the top 4 reasons why employees quit their jobs. CE Noticias Financieras English.\n",
    "\n",
    "Batt, R., & Colvin, A. J. S. (2011). An Employment Systems Approach To Turnover: Human Resources Practices, Quits, Dismissals, And Performance. The Academy of Management Journal, 54(4), 695–717. \n",
    "\n",
    "Adnan Iqbal. (2001). Employee Turnover: Causes, Consequences and Retention Strategies in the Saudi Organizations. The Business Review Journal, 275–281. "
   ]
  },
  {
   "cell_type": "code",
   "execution_count": null,
   "id": "52aa8dce-0c77-4caa-87b9-c2b162dfe13f",
   "metadata": {},
   "outputs": [],
   "source": []
  }
 ],
 "metadata": {
  "kernelspec": {
   "display_name": "R",
   "language": "R",
   "name": "ir"
  },
  "language_info": {
   "codemirror_mode": "r",
   "file_extension": ".r",
   "mimetype": "text/x-r-source",
   "name": "R",
   "pygments_lexer": "r",
   "version": "4.1.1"
  }
 },
 "nbformat": 4,
 "nbformat_minor": 5
}
